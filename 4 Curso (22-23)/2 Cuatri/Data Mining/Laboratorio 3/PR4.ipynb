{
 "cells": [
  {
   "cell_type": "markdown",
   "id": "c7b1ee02-f772-41c3-a3fa-e685ef77b86a",
   "metadata": {},
   "source": [
    "## Práctica 4"
   ]
  },
  {
   "cell_type": "code",
   "execution_count": 1,
   "id": "e1efb893-4f2c-40a2-998a-36f18c317d33",
   "metadata": {},
   "outputs": [],
   "source": [
    "import pandas as pd\n",
    "from sklearn.model_selection import train_test_split\n",
    "from sklearn.tree import DecisionTreeClassifier\n",
    "from sklearn.metrics import classification_report, confusion_matrix\n",
    "from sklearn.metrics import accuracy_score\n",
    "\n",
    "\n"
   ]
  },
  {
   "cell_type": "markdown",
   "id": "8cf4085d-b134-4027-9db5-8a6a20902ae3",
   "metadata": {},
   "source": [
    "### Apartado A"
   ]
  },
  {
   "cell_type": "markdown",
   "id": "f2577728-ddbb-490f-9f28-889a0ee2a6ec",
   "metadata": {},
   "source": [
    "#### En primer lugar, haremos el preprocesamiento de datos para poder entrenar el clasificador."
   ]
  },
  {
   "cell_type": "markdown",
   "id": "5b0773f7-5a04-4dbc-ac5f-ddf756d671be",
   "metadata": {},
   "source": [
    "#### A continuación, vamos a crear nuevas columnas para evaluar si la temperatura es alta, media o baja.\n",
    "#### Además, crearemos otra columna que determine si el nivel de precipitación es alto, medio o bajo."
   ]
  },
  {
   "cell_type": "code",
   "execution_count": 2,
   "id": "a87feb2e-ec29-4397-9295-79cb0b5b664c",
   "metadata": {},
   "outputs": [
    {
     "data": {
      "text/html": [
       "<div>\n",
       "<style scoped>\n",
       "    .dataframe tbody tr th:only-of-type {\n",
       "        vertical-align: middle;\n",
       "    }\n",
       "\n",
       "    .dataframe tbody tr th {\n",
       "        vertical-align: top;\n",
       "    }\n",
       "\n",
       "    .dataframe thead th {\n",
       "        text-align: right;\n",
       "    }\n",
       "</style>\n",
       "<table border=\"1\" class=\"dataframe\">\n",
       "  <thead>\n",
       "    <tr style=\"text-align: right;\">\n",
       "      <th></th>\n",
       "      <th>PRCP</th>\n",
       "      <th>TMAX</th>\n",
       "      <th>TMIN</th>\n",
       "      <th>RAIN</th>\n",
       "      <th>TEMP_MED</th>\n",
       "      <th>PRCP_CAT</th>\n",
       "      <th>TEMP_CAT</th>\n",
       "    </tr>\n",
       "  </thead>\n",
       "  <tbody>\n",
       "    <tr>\n",
       "      <th>0</th>\n",
       "      <td>0.47</td>\n",
       "      <td>51</td>\n",
       "      <td>42</td>\n",
       "      <td>1</td>\n",
       "      <td>46.5</td>\n",
       "      <td>baja</td>\n",
       "      <td>alta</td>\n",
       "    </tr>\n",
       "    <tr>\n",
       "      <th>1</th>\n",
       "      <td>0.59</td>\n",
       "      <td>45</td>\n",
       "      <td>36</td>\n",
       "      <td>1</td>\n",
       "      <td>40.5</td>\n",
       "      <td>baja</td>\n",
       "      <td>alta</td>\n",
       "    </tr>\n",
       "    <tr>\n",
       "      <th>2</th>\n",
       "      <td>0.42</td>\n",
       "      <td>45</td>\n",
       "      <td>35</td>\n",
       "      <td>1</td>\n",
       "      <td>40.0</td>\n",
       "      <td>baja</td>\n",
       "      <td>alta</td>\n",
       "    </tr>\n",
       "    <tr>\n",
       "      <th>3</th>\n",
       "      <td>0.31</td>\n",
       "      <td>45</td>\n",
       "      <td>34</td>\n",
       "      <td>1</td>\n",
       "      <td>39.5</td>\n",
       "      <td>baja</td>\n",
       "      <td>alta</td>\n",
       "    </tr>\n",
       "    <tr>\n",
       "      <th>4</th>\n",
       "      <td>0.17</td>\n",
       "      <td>45</td>\n",
       "      <td>32</td>\n",
       "      <td>1</td>\n",
       "      <td>38.5</td>\n",
       "      <td>baja</td>\n",
       "      <td>alta</td>\n",
       "    </tr>\n",
       "    <tr>\n",
       "      <th>...</th>\n",
       "      <td>...</td>\n",
       "      <td>...</td>\n",
       "      <td>...</td>\n",
       "      <td>...</td>\n",
       "      <td>...</td>\n",
       "      <td>...</td>\n",
       "      <td>...</td>\n",
       "    </tr>\n",
       "    <tr>\n",
       "      <th>25546</th>\n",
       "      <td>0.00</td>\n",
       "      <td>49</td>\n",
       "      <td>34</td>\n",
       "      <td>0</td>\n",
       "      <td>41.5</td>\n",
       "      <td>baja</td>\n",
       "      <td>alta</td>\n",
       "    </tr>\n",
       "    <tr>\n",
       "      <th>25547</th>\n",
       "      <td>0.00</td>\n",
       "      <td>49</td>\n",
       "      <td>29</td>\n",
       "      <td>0</td>\n",
       "      <td>39.0</td>\n",
       "      <td>baja</td>\n",
       "      <td>alta</td>\n",
       "    </tr>\n",
       "    <tr>\n",
       "      <th>25548</th>\n",
       "      <td>0.00</td>\n",
       "      <td>46</td>\n",
       "      <td>32</td>\n",
       "      <td>0</td>\n",
       "      <td>39.0</td>\n",
       "      <td>baja</td>\n",
       "      <td>alta</td>\n",
       "    </tr>\n",
       "    <tr>\n",
       "      <th>25549</th>\n",
       "      <td>0.00</td>\n",
       "      <td>48</td>\n",
       "      <td>34</td>\n",
       "      <td>0</td>\n",
       "      <td>41.0</td>\n",
       "      <td>baja</td>\n",
       "      <td>alta</td>\n",
       "    </tr>\n",
       "    <tr>\n",
       "      <th>25550</th>\n",
       "      <td>0.00</td>\n",
       "      <td>50</td>\n",
       "      <td>36</td>\n",
       "      <td>0</td>\n",
       "      <td>43.0</td>\n",
       "      <td>baja</td>\n",
       "      <td>alta</td>\n",
       "    </tr>\n",
       "  </tbody>\n",
       "</table>\n",
       "<p>25548 rows × 7 columns</p>\n",
       "</div>"
      ],
      "text/plain": [
       "       PRCP  TMAX  TMIN  RAIN  TEMP_MED PRCP_CAT TEMP_CAT\n",
       "0      0.47    51    42     1      46.5     baja     alta\n",
       "1      0.59    45    36     1      40.5     baja     alta\n",
       "2      0.42    45    35     1      40.0     baja     alta\n",
       "3      0.31    45    34     1      39.5     baja     alta\n",
       "4      0.17    45    32     1      38.5     baja     alta\n",
       "...     ...   ...   ...   ...       ...      ...      ...\n",
       "25546  0.00    49    34     0      41.5     baja     alta\n",
       "25547  0.00    49    29     0      39.0     baja     alta\n",
       "25548  0.00    46    32     0      39.0     baja     alta\n",
       "25549  0.00    48    34     0      41.0     baja     alta\n",
       "25550  0.00    50    36     0      43.0     baja     alta\n",
       "\n",
       "[25548 rows x 7 columns]"
      ]
     },
     "execution_count": 2,
     "metadata": {},
     "output_type": "execute_result"
    }
   ],
   "source": [
    "\n",
    "# Carga de los datos\n",
    "data = pd.read_csv('./RecursosLab3/lluvias.csv')\n",
    "data = data.dropna()\n",
    "data = data.drop_duplicates()\n",
    "\n",
    "# Eliminación de la columna \"DATE\"\n",
    "data.drop(\"DATE\", axis=1, inplace=True)\n",
    "\n",
    "# Creación de la variable objetivo binaria\n",
    "data[\"RAIN\"] = data[\"RAIN\"].astype(int)\n",
    "\n",
    "# Creación de la columna de temperatura media diaria promedio\n",
    "data[\"TEMP_MED\"] = (data[\"TMAX\"] + data[\"TMIN\"]) / 2\n",
    "\n",
    "# Categorización de las variables continuas\n",
    "data[\"PRCP_CAT\"] = pd.cut(data[\"PRCP\"], bins=[-1, 1, 2, float(\"inf\")], labels=[\"baja\", \"normal\", \"alta\"])\n",
    "data[\"TEMP_CAT\"] = pd.cut(data[\"TEMP_MED\"], bins=[-float(\"inf\"), 10, 20, float(\"inf\")], labels=[\"baja\", \"media\", \"alta\"])\n",
    "\n",
    "data\n",
    "\n"
   ]
  },
  {
   "cell_type": "markdown",
   "id": "1a0d3557-fea6-46b4-83e7-ffca436e54b5",
   "metadata": {},
   "source": [
    "#### Se considera que la temperatura es baja si está por debajo de 10 grados, media si está entre 10 y 20 y alta si está por encima de 20. \n",
    "#### Se considera que ha llovido poco si la medida está por debajo de 1, normal si está entre 1 y 2, y que ha llovido mucho si está por encima de 2.\n",
    "\n"
   ]
  },
  {
   "cell_type": "markdown",
   "id": "6bb1f0f5-51ae-4fce-a8e9-1f31c2aae1c4",
   "metadata": {},
   "source": [
    "### Apartado B"
   ]
  },
  {
   "cell_type": "markdown",
   "id": "049942f4-98fc-4246-92d8-460b105c2270",
   "metadata": {},
   "source": [
    "#### A continuación, crearemos un clasificador e indicaremos su error. Además, lo usaremos para saber si lloverá en los próximos 3 días."
   ]
  },
  {
   "cell_type": "markdown",
   "id": "e750978e-458d-43f5-aca2-711d4b2494d9",
   "metadata": {},
   "source": [
    "#### Para clasificar usaremos el clasificador: arboles de decisión."
   ]
  },
  {
   "cell_type": "code",
   "execution_count": 3,
   "id": "d976699a-8f3d-49a4-be89-ea3701b92bbc",
   "metadata": {},
   "outputs": [
    {
     "name": "stdout",
     "output_type": "stream",
     "text": [
      "1.0\n"
     ]
    }
   ],
   "source": [
    "\n",
    "# Codificar variables categóricas usando one-hot encoding\n",
    "# Esta técnica crea una nueva columna para cada valor categórico en una variable, y asigna un valor de 0 o 1 a cada fila según el valor correspondiente.\n",
    "data_encoded = pd.get_dummies(data, columns=['TMIN', 'TMAX', 'PRCP', 'PRCP_CAT', 'TEMP_CAT'])\n",
    "\n",
    "# Dividir datos en conjuntos de entrenamiento y prueba\n",
    "X_train, X_test, y_train, y_test = train_test_split(data_encoded.drop('RAIN',axis=1), data_encoded['RAIN'], test_size=0.3, random_state=101)\n",
    "\n",
    "# Entrenar modelo\n",
    "dtree = DecisionTreeClassifier()\n",
    "dtree.fit(X_train,y_train)\n",
    "\n",
    "# Evaluar modelo\n",
    "predictions = dtree.predict(X_test)\n",
    "print(accuracy_score(y_test,predictions))\n"
   ]
  },
  {
   "cell_type": "markdown",
   "id": "e37f857d-423e-45e0-b955-53c32e57bee7",
   "metadata": {},
   "source": [
    "##### Un resultado de 1.0 en la precisión del modelo significa que el modelo de árbol de decisión ha clasificado correctamente todas las muestras de prueba en el conjunto de datos utilizado.\n",
    "\n",
    "##### En otras palabras, el modelo ha logrado una precisión del 100%, lo que indica que es capaz de predecir con precisión si va a llover o no en los próximos 3 días basado en las variables de temperatura y precipitación."
   ]
  },
  {
   "cell_type": "code",
   "execution_count": 4,
   "id": "72d43838-ad84-4cc4-8f13-559d42178843",
   "metadata": {},
   "outputs": [
    {
     "name": "stdout",
     "output_type": "stream",
     "text": [
      "Precisión del modelo: 1.0\n",
      "Error del modelo: 0.0\n"
     ]
    }
   ],
   "source": [
    "\n",
    "# Calcular la precisión del modelo\n",
    "accuracy = accuracy_score(y_test, predictions)\n",
    "print(\"Precisión del modelo:\", accuracy)\n",
    "\n",
    "# Calcular el error del modelo\n",
    "error = 1 - accuracy\n",
    "print(\"Error del modelo:\", error)\n",
    "\n"
   ]
  },
  {
   "cell_type": "markdown",
   "id": "7c86ec7c-164c-4081-9865-15abd1086371",
   "metadata": {},
   "source": [
    "##### El error del modelo es 0.0. Lo que indica que es capaz de predecir con precisión si va a llover o no en los próximos 3 días basado en las variables de temperatura y precipitación."
   ]
  },
  {
   "cell_type": "markdown",
   "id": "b9eb7dc7-7f67-42fa-bf8e-10581969979c",
   "metadata": {},
   "source": [
    "#### Una vez hemos creado el clasificador e indicado su error, vamos a usarlo para predecir si lloverá en los proximos 3 días o no."
   ]
  },
  {
   "cell_type": "code",
   "execution_count": 5,
   "id": "e9476371-8a68-41c1-9e99-236320a4122e",
   "metadata": {},
   "outputs": [
    {
     "name": "stdout",
     "output_type": "stream",
     "text": [
      "[1]\n"
     ]
    }
   ],
   "source": [
    "import pandas as pd\n",
    "\n",
    "# Codificar la temperatura y la cantidad de lluvia en formato One-Hot Encoding\n",
    "temp = 'TMIN_BAJA'\n",
    "prcp = 'PRCP_ALTO'\n",
    "data = {'TMIN':[temp],'TMAX':[temp],'PRCP':[prcp],'PRCP_CAT':[prcp],'TEMP_CAT':[temp]}\n",
    "data_encoded = pd.get_dummies(pd.DataFrame(data))\n",
    "\n",
    "# Asegurarse de que los datos de predicción tengan las mismas columnas que los datos de entrenamiento\n",
    "data_encoded = data_encoded.reindex(columns=X_train.columns, fill_value=0)\n",
    "\n",
    "# Realizar la predicción\n",
    "prediction = dtree.predict(data_encoded)\n",
    "print(prediction)\n"
   ]
  },
  {
   "cell_type": "markdown",
   "id": "7c9e1a3c-f759-49d3-9be5-34671986bd61",
   "metadata": {},
   "source": [
    "#### Si el resultado es [1], se predice que lloverá. Si es 0, se predice que no lloverá. En este caso devuelve [1]. Por tanto, para los valores introducidos de \"temp\" y \"prcp\" ll"
   ]
  },
  {
   "cell_type": "markdown",
   "id": "820502ec-bc6b-429a-ad40-9cf99c27d23e",
   "metadata": {},
   "source": [
    "#### A continuación, usando una fuente externa, vamos a predecir si lloverá o no en los próximos 3 días"
   ]
  },
  {
   "cell_type": "code",
   "execution_count": 6,
   "id": "60d7bddd-7bef-4b59-80cc-3c1ca5a3ced8",
   "metadata": {},
   "outputs": [],
   "source": [
    "import pyowm\n",
    "from datetime import datetime, timedelta\n",
    "\n",
    "owm = pyowm.OWM(api_key='d4153e98656d58a73db9668369a26209')\n",
    "\n",
    "# Definir la ubicación de la ciudad y la fecha de inicio y fin de la búsqueda del pronóstico del tiempo\n",
    "city = \"Málaga,ES\"\n",
    "start_date = datetime.now()\n",
    "end_date = start_date + timedelta(days=3)\n",
    "\n",
    "# Obtener el pronóstico del tiempo para la ubicación y el período de tiempo especificado\n",
    "forecast = owm.weather_manager().forecast_at_place(city, interval='3h')\n",
    "\n",
    "# Verificar si se espera lluvia en los próximos 3 días\n",
    "for weather in forecast.forecast:\n",
    "    if 'rain' in weather.status.lower():\n",
    "        print(f\"Se espera lluvia en {city} el {weather.reference_time('iso')} (UTC)\")\n",
    "\n"
   ]
  },
  {
   "cell_type": "markdown",
   "id": "90422587-6428-4d8e-ab31-e6eb80731647",
   "metadata": {},
   "source": [
    "#### El código devuelve el pronóstico del tiempo en intervalos de 3 horas para los próximos 3 días en Málaga y verifica si se espera lluvia en alguno de esos momentos.\n",
    "#### Al no devolver nada, podemos concluir que no lloverá en Málaga en los próximos 3 días."
   ]
  }
 ],
 "metadata": {
  "kernelspec": {
   "display_name": "Python 3 (ipykernel)",
   "language": "python",
   "name": "python3"
  },
  "language_info": {
   "codemirror_mode": {
    "name": "ipython",
    "version": 3
   },
   "file_extension": ".py",
   "mimetype": "text/x-python",
   "name": "python",
   "nbconvert_exporter": "python",
   "pygments_lexer": "ipython3",
   "version": "3.9.13"
  }
 },
 "nbformat": 4,
 "nbformat_minor": 5
}
