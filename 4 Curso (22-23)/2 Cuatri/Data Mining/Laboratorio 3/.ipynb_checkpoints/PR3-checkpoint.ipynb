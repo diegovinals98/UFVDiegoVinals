{
 "cells": [
  {
   "cell_type": "markdown",
   "id": "041cad7e-b347-45d6-974f-d9aa2e178287",
   "metadata": {},
   "source": [
    "### 1 VISUALIZAMOS EL DATASET LOAD_DIGITS"
   ]
  },
  {
   "cell_type": "code",
   "execution_count": 1,
   "id": "ef1cda03-752e-4023-a653-fdf4277d60a0",
   "metadata": {},
   "outputs": [
    {
     "data": {
      "image/png": "[encoded data removed]",
      "text/plain": [
       "<Figure size 1000x400 with 10 Axes>"
      ]
     },
     "metadata": {},
     "output_type": "display_data"
    }
   ],
   "source": [
    "import matplotlib.pyplot as plt\n",
    "from sklearn.datasets import load_digits\n",
    "\n",
    "# Cargar el dataset\n",
    "digits = load_digits()\n",
    "\n",
    "# Obtener las imágenes y las etiquetas\n",
    "X = digits.images\n",
    "y = digits.target\n",
    "\n",
    "# Mostrar algunas de ellas\n",
    "fig, axes = plt.subplots(2, 5, figsize=(10, 4))\n",
    "axes = axes.ravel()\n",
    "\n",
    "for i in range(10):\n",
    "    axes[i].imshow(X[i], cmap='gray')\n",
    "    axes[i].set_title(f'Etiqueta: {y[i]}')\n",
    "    axes[i].axis('off')\n",
    "\n",
    "plt.show()\n"
   ]
  },
  {
   "cell_type": "markdown",
   "id": "e70d340d-96df-429f-ab98-f806e2c4e715",
   "metadata": {},
   "source": [
    "### APARTADO A"
   ]
  },
  {
   "cell_type": "code",
   "execution_count": 2,
   "id": "379b4a6e-9f4a-455a-b701-da87574597e3",
   "metadata": {},
   "outputs": [
    {
     "name": "stdout",
     "output_type": "stream",
     "text": [
      "Configuración\t Precisión\n",
      "SVM con kernel lineal\t 0.97\n",
      "SVM con kernel RBF\t 0.98\n"
     ]
    }
   ],
   "source": [
    "\n",
    "import numpy as np\n",
    "import matplotlib.pyplot as plt\n",
    "from sklearn.model_selection import train_test_split\n",
    "from sklearn.svm import SVC\n",
    "from sklearn.metrics import accuracy_score, classification_report\n",
    "from sklearn.preprocessing import StandardScaler\n",
    "from sklearn.datasets import load_digits\n",
    "\n",
    "# Cargar nuesto dataset \n",
    "digits = load_digits()\n",
    "X, y = digits.data, digits.target\n",
    "\n",
    "# Lo dividimos en conjunto de entrenamiento y prueba\n",
    "X_train, X_test, y_train, y_test = train_test_split(X, y, test_size=0.2, random_state=42)\n",
    "\n",
    "# Aplicamos un escalado a las características de las imágenes\n",
    "scaler = StandardScaler()\n",
    "X_train_scaled = scaler.fit_transform(X_train)\n",
    "X_test_scaled = scaler.transform(X_test)\n",
    "\n",
    "# Configuración 1: SVM con kernel lineal\n",
    "svm_linear = SVC(kernel='linear')\n",
    "svm_linear.fit(X_train_scaled, y_train)\n",
    "\n",
    "# Realizamos predicciones en el conjunto de prueba\n",
    "y_pred_linear = svm_linear.predict(X_test_scaled)\n",
    "\n",
    "# Calculamos  la precision del clasificador con kernel lineal\n",
    "precision_lineal = accuracy_score(y_test, y_pred_linear)\n",
    "\n",
    "# Configuración 2: SVM con kernel RBF\n",
    "svm_rbf = SVC(kernel='rbf')\n",
    "svm_rbf.fit(X_train_scaled, y_train)\n",
    "\n",
    "# Realizamos nuevas predicciones en el conjunto de prueba\n",
    "y_pred_rbf = svm_rbf.predict(X_test_scaled)\n",
    "\n",
    "# Calculamos la precisión del clasificador con kernel RBF\n",
    "precision_rbf = accuracy_score(y_test, y_pred_rbf)\n",
    "\n",
    "# Tabla de resultados\n",
    "print(\"Configuración\\t Precisión\")\n",
    "print(\"SVM con kernel lineal\\t {:.2f}\".format(precision_lineal))\n",
    "print(\"SVM con kernel RBF\\t {:.2f}\".format(precision_rbf))"
   ]
  },
  {
   "cell_type": "markdown",
   "id": "6cad27f8-a504-49e5-8c0a-89ca522d7134",
   "metadata": {},
   "source": [
    "En este ejemplo, creamos dos configuraciones diferentes de clasificadores SVM, que son  kernels lineal y RBF, respectivamente. Luego, entrenamos los modelos en el conjunto de entrenamiento y realizamos la predicción en el conjunto de prueba. Calculamos la precisión de la clasificación utilizando la función accuracy_score de la libería scikit-learn y creamos una tabla."
   ]
  },
  {
   "cell_type": "markdown",
   "id": "2de95934-7582-4142-afaa-218ec4952762",
   "metadata": {},
   "source": [
    "### Modificacion hiperparámetros modelo 1"
   ]
  },
  {
   "cell_type": "code",
   "execution_count": 3,
   "id": "c9970334-5ad0-4ef6-845e-bcec8d746179",
   "metadata": {},
   "outputs": [],
   "source": [
    "from sklearn.svm import SVC\n",
    "from sklearn.model_selection import GridSearchCV\n",
    "\n",
    "# Definimos el clasificador SVM\n",
    "svm = SVC()\n",
    "\n",
    "# Nuestros nuevos valores de hiperparámetros a probar\n",
    "param_n = {'kernel': ['linear', 'rbf'],\n",
    "              'C': [0.1, 1, 10, 100],\n",
    "              'gamma': [0.001, 0.01, 0.1, 1]}\n",
    "\n",
    "# Búsqueda con GridSearchCV\n",
    "grid_search = GridSearchCV(svm, param_n, cv=5)\n",
    "grid_search.fit(X_train, y_train)\n",
    "\n",
    "# Obtenemos el mejor modelo junto a su precisión\n",
    "mej_svm = grid_search.best_estimator_\n",
    "precision1 = mej_svm.score(X_test, y_test)\n"
   ]
  },
  {
   "cell_type": "markdown",
   "id": "ee28a318-8b77-457d-b588-2b47b3cff7c2",
   "metadata": {},
   "source": [
    "### Modificación modelo 2"
   ]
  },
  {
   "cell_type": "markdown",
   "id": "afb6355e-cb76-4b63-a628-9d60fe2779f4",
   "metadata": {},
   "source": [
    "Vamos a modificar los hiperparametros como en el 1 para ver como evoluciona el resultado"
   ]
  },
  {
   "cell_type": "code",
   "execution_count": 4,
   "id": "d138ad9d-92a2-45d4-a43d-fea47b85b7e5",
   "metadata": {},
   "outputs": [],
   "source": [
    "from sklearn.svm import SVC\n",
    "from sklearn.model_selection import GridSearchCV\n",
    "\n",
    "# Definimos el clasificador SVM\n",
    "svm = SVC()\n",
    "\n",
    "# Redefinimos los nuevos hiperparámetros\n",
    "param_grid = {'kernel': ['linear', 'rbf'],\n",
    "              'C': [0.01, 0.1, 1, 10],\n",
    "              'gamma': [0.01, 0.1, 1, 10]}\n",
    "\n",
    "# Búsqueda con GridSearchCV\n",
    "grid_search = GridSearchCV(svm, param_grid, cv=5)\n",
    "grid_search.fit(X_train, y_train)\n",
    "\n",
    "# Obtenemos el mejor modelo junto a su precisión\n",
    "mej_svm = grid_search.best_estimator_\n",
    "precision2 = mej_svm.score(X_test, y_test)\n"
   ]
  },
  {
   "cell_type": "code",
   "execution_count": 5,
   "id": "6a9550a7-f8bd-4b8b-b1dd-cfced50449ba",
   "metadata": {},
   "outputs": [],
   "source": [
    "import pandas as pd\n",
    "\n",
    "# Crearemos una tabla \n",
    "datos = pd.DataFrame({'Configuración': ['Configuración 1', 'Configuración 2'],\n",
    "                        'Precisión': [precision1, precision2]})\n",
    "\n"
   ]
  },
  {
   "cell_type": "markdown",
   "id": "a97e086e-c7df-489c-bdfd-328449e7e988",
   "metadata": {},
   "source": [
    "### Hacemos la tabla"
   ]
  },
  {
   "cell_type": "code",
   "execution_count": 6,
   "id": "998e85b4-0188-4284-8f6c-e47b8acfa7a2",
   "metadata": {},
   "outputs": [
    {
     "data": {
      "image/png": "[encoded data removed]",
      "text/plain": [
       "<Figure size 640x480 with 1 Axes>"
      ]
     },
     "metadata": {},
     "output_type": "display_data"
    }
   ],
   "source": [
    "\n",
    "fig, ax = plt.subplots()\n",
    "ax.axis('off')\n",
    "ax.table(cellText=datos.values, colLabels=datos.columns, loc='center')\n",
    "plt.show()"
   ]
  },
  {
   "cell_type": "markdown",
   "id": "da3f414b-7f3b-40c3-bdae-3e1c04a7dc63",
   "metadata": {},
   "source": [
    "### APARTADO B"
   ]
  },
  {
   "cell_type": "code",
   "execution_count": 7,
   "id": "8a75637b-8f07-4a82-ad0d-2e5f646dac4f",
   "metadata": {},
   "outputs": [
    {
     "name": "stdout",
     "output_type": "stream",
     "text": [
      "Precisión del conjunto nuevo  :  0.9961046188091264\n"
     ]
    }
   ],
   "source": [
    "from sklearn.metrics import accuracy_score\n",
    "\n",
    "# datos de prueba\n",
    "X_test_virg, y_test_virg = load_digits(return_X_y=True)\n",
    "\n",
    "# Realizamos la predicción en el conjunto de datos de prueba no vistos\n",
    "y_pred_virg = mej_svm.predict(X_test_virg)\n",
    "\n",
    "# Calculamos la precisión del clasificador en el conjunto de datos de prueba no vistos\n",
    "accuracy_virg = accuracy_score(y_test_virg, y_pred_virg)\n",
    "\n",
    "# Imprimimos la precisión del clasificador \n",
    "print(\"Precisión del conjunto nuevo  : \", accuracy_virg)\n"
   ]
  },
  {
   "cell_type": "markdown",
   "id": "8829a1b6-1c7c-42a3-b26d-a204453e4187",
   "metadata": {},
   "source": [
    "En este ejemplo, utilizamos X_test_virg e y_test_virg como los datos virgenes, que no ha sido utilizados para entrenar previamente. Luego, realizamos la predicción con el modelo mej_svm y calculamos la precisión del clasificador en este conjunto de datos. El valor de error se obtiene restando la precisión del clasificador del valor 1, es decir, 1 - accuracy_virg. Este valor nos indica el porcentaje de error del clasificador en el conjunto de datos de prueba no visto previamente."
   ]
  },
  {
   "cell_type": "markdown",
   "id": "813de08b-b39c-4cf3-aa7f-b59d1a2ae34a",
   "metadata": {},
   "source": [
    "### OPCIONAL: SVM es adecuado para asociación de imágenes"
   ]
  },
  {
   "cell_type": "code",
   "execution_count": 11,
   "id": "9cdd0fd6-e58c-488d-8f3c-8dc44861556a",
   "metadata": {},
   "outputs": [
    {
     "data": {
      "image/png": "[encoded data removed]",
      "text/plain": [
       "<Figure size 640x480 with 2 Axes>"
      ]
     },
     "metadata": {},
     "output_type": "display_data"
    }
   ],
   "source": [
    "from sklearn.datasets import load_digits\n",
    "from sklearn.svm import SVC\n",
    "import numpy as np\n",
    "import matplotlib.pyplot as plt\n",
    "\n",
    "# Cargar el dataset \"load_digits\"\n",
    "digits = load_digits()\n",
    "\n",
    "# Obtener las imágenes y las etiquetas\n",
    "X = digits.data\n",
    "y = digits.target\n",
    "\n",
    "# Entrenar un modelo SVM\n",
    "svm = SVC(kernel='linear', C=1.0, random_state=42)\n",
    "svm.fit(X, y)\n",
    "\n",
    "# Cargamos una etiqueta aleatoria\n",
    "etiqueta_aleatoria = np.random.choice(y)\n",
    "\n",
    "# Obtenemos una imagen a partir de la etiqueta aleatoria\n",
    "indice_etiqueta = np.where(y == etiqueta_aleatoria)[0][0]\n",
    "imagen_etiqueta = X[indice_etiqueta]\n",
    "\n",
    "# Clasificar la imagen y obtener el número correspondiente\n",
    "numero_clasificado = svm.predict([imagen_etiqueta])[0]\n",
    "\n",
    "# Mostrar la etiqueta aleatoria y el número clasificado\n",
    "fig, ax = plt.subplots(1, 2)\n",
    "ax[0].imshow(imagen_etiqueta.reshape(8, 8), cmap=plt.cm.gray_r, interpolation='nearest')\n",
    "ax[0].axis('off')\n",
    "ax[0].set_title(f'Etiqueta aleatoria')\n",
    "ax[1].text(0.5, 0.5, f'Número clasificado: {numero_clasificado}', ha='center', va='center', fontsize=20)\n",
    "ax[1].axis('off')\n",
    "plt.show()\n"
   ]
  },
  {
   "cell_type": "code",
   "execution_count": null,
   "id": "77ee1058-3e3d-4923-9523-0c62e0474abe",
   "metadata": {},
   "outputs": [],
   "source": []
  },
  {
   "cell_type": "code",
   "execution_count": null,
   "id": "4a262699-5dbe-40c6-a3f5-2f08a0c70b20",
   "metadata": {},
   "outputs": [],
   "source": []
  }
 ],
 "metadata": {
  "kernelspec": {
   "display_name": "Python 3 (ipykernel)",
   "language": "python",
   "name": "python3"
  },
  "language_info": {
   "codemirror_mode": {
    "name": "ipython",
    "version": 3
   },
   "file_extension": ".py",
   "mimetype": "text/x-python",
   "name": "python",
   "nbconvert_exporter": "python",
   "pygments_lexer": "ipython3",
   "version": "3.9.13"
  }
 },
 "nbformat": 4,
 "nbformat_minor": 5
}
