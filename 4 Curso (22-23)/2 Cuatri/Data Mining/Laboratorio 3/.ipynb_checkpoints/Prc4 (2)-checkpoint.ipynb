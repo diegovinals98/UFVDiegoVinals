{
 "cells": [
  {
   "cell_type": "markdown",
   "id": "c7b1ee02-f772-41c3-a3fa-e685ef77b86a",
   "metadata": {},
   "source": [
    "## Práctica 4"
   ]
  },
  {
   "cell_type": "code",
   "execution_count": 3,
   "id": "e1efb893-4f2c-40a2-998a-36f18c317d33",
   "metadata": {},
   "outputs": [],
   "source": [
    "import pandas as pd\n",
    "from sklearn.model_selection import train_test_split\n",
    "from sklearn.tree import DecisionTreeClassifier\n",
    "from sklearn.metrics import classification_report, confusion_matrix\n",
    "from sklearn.metrics import accuracy_score\n",
    "\n",
    "\n"
   ]
  },
  {
   "cell_type": "markdown",
   "id": "8cf4085d-b134-4027-9db5-8a6a20902ae3",
   "metadata": {},
   "source": [
    "### Apartado A"
   ]
  },
  {
   "cell_type": "markdown",
   "id": "f2577728-ddbb-490f-9f28-889a0ee2a6ec",
   "metadata": {},
   "source": [
    "#### En primer lugar, haremos el preprocesamiento de datos para poder entrenar el clasificador."
   ]
  },
  {
   "cell_type": "markdown",
   "id": "5b0773f7-5a04-4dbc-ac5f-ddf756d671be",
   "metadata": {},
   "source": [
    "#### A continuación, vamos a crear nuevas columnas para evaluar si la temperatura es alta, media o baja.\n",
    "#### Además, crearemos otra columna que determine si el nivel de precipitación es alto, medio o bajo."
   ]
  },
  {
   "cell_type": "code",
   "execution_count": 4,
   "id": "a87feb2e-ec29-4397-9295-79cb0b5b664c",
   "metadata": {},
   "outputs": [
    {
     "data": {
      "text/html": [
       "<div>\n",
       "<style scoped>\n",
       "    .dataframe tbody tr th:only-of-type {\n",
       "        vertical-align: middle;\n",
       "    }\n",
       "\n",
       "    .dataframe tbody tr th {\n",
       "        vertical-align: top;\n",
       "    }\n",
       "\n",
       "    .dataframe thead th {\n",
       "        text-align: right;\n",
       "    }\n",
       "</style>\n",
       "<table border=\"1\" class=\"dataframe\">\n",
       "  <thead>\n",
       "    <tr style=\"text-align: right;\">\n",
       "      <th></th>\n",
       "      <th>PRCP</th>\n",
       "      <th>TMAX</th>\n",
       "      <th>TMIN</th>\n",
       "      <th>RAIN</th>\n",
       "      <th>TEMP_MED</th>\n",
       "      <th>PRCP_CAT</th>\n",
       "      <th>TEMP_CAT</th>\n",
       "    </tr>\n",
       "  </thead>\n",
       "  <tbody>\n",
       "    <tr>\n",
       "      <th>0</th>\n",
       "      <td>0.47</td>\n",
       "      <td>51</td>\n",
       "      <td>42</td>\n",
       "      <td>1</td>\n",
       "      <td>46.5</td>\n",
       "      <td>baja</td>\n",
       "      <td>alta</td>\n",
       "    </tr>\n",
       "    <tr>\n",
       "      <th>1</th>\n",
       "      <td>0.59</td>\n",
       "      <td>45</td>\n",
       "      <td>36</td>\n",
       "      <td>1</td>\n",
       "      <td>40.5</td>\n",
       "      <td>baja</td>\n",
       "      <td>alta</td>\n",
       "    </tr>\n",
       "    <tr>\n",
       "      <th>2</th>\n",
       "      <td>0.42</td>\n",
       "      <td>45</td>\n",
       "      <td>35</td>\n",
       "      <td>1</td>\n",
       "      <td>40.0</td>\n",
       "      <td>baja</td>\n",
       "      <td>alta</td>\n",
       "    </tr>\n",
       "    <tr>\n",
       "      <th>3</th>\n",
       "      <td>0.31</td>\n",
       "      <td>45</td>\n",
       "      <td>34</td>\n",
       "      <td>1</td>\n",
       "      <td>39.5</td>\n",
       "      <td>baja</td>\n",
       "      <td>alta</td>\n",
       "    </tr>\n",
       "    <tr>\n",
       "      <th>4</th>\n",
       "      <td>0.17</td>\n",
       "      <td>45</td>\n",
       "      <td>32</td>\n",
       "      <td>1</td>\n",
       "      <td>38.5</td>\n",
       "      <td>baja</td>\n",
       "      <td>alta</td>\n",
       "    </tr>\n",
       "    <tr>\n",
       "      <th>...</th>\n",
       "      <td>...</td>\n",
       "      <td>...</td>\n",
       "      <td>...</td>\n",
       "      <td>...</td>\n",
       "      <td>...</td>\n",
       "      <td>...</td>\n",
       "      <td>...</td>\n",
       "    </tr>\n",
       "    <tr>\n",
       "      <th>25546</th>\n",
       "      <td>0.00</td>\n",
       "      <td>49</td>\n",
       "      <td>34</td>\n",
       "      <td>0</td>\n",
       "      <td>41.5</td>\n",
       "      <td>baja</td>\n",
       "      <td>alta</td>\n",
       "    </tr>\n",
       "    <tr>\n",
       "      <th>25547</th>\n",
       "      <td>0.00</td>\n",
       "      <td>49</td>\n",
       "      <td>29</td>\n",
       "      <td>0</td>\n",
       "      <td>39.0</td>\n",
       "      <td>baja</td>\n",
       "      <td>alta</td>\n",
       "    </tr>\n",
       "    <tr>\n",
       "      <th>25548</th>\n",
       "      <td>0.00</td>\n",
       "      <td>46</td>\n",
       "      <td>32</td>\n",
       "      <td>0</td>\n",
       "      <td>39.0</td>\n",
       "      <td>baja</td>\n",
       "      <td>alta</td>\n",
       "    </tr>\n",
       "    <tr>\n",
       "      <th>25549</th>\n",
       "      <td>0.00</td>\n",
       "      <td>48</td>\n",
       "      <td>34</td>\n",
       "      <td>0</td>\n",
       "      <td>41.0</td>\n",
       "      <td>baja</td>\n",
       "      <td>alta</td>\n",
       "    </tr>\n",
       "    <tr>\n",
       "      <th>25550</th>\n",
       "      <td>0.00</td>\n",
       "      <td>50</td>\n",
       "      <td>36</td>\n",
       "      <td>0</td>\n",
       "      <td>43.0</td>\n",
       "      <td>baja</td>\n",
       "      <td>alta</td>\n",
       "    </tr>\n",
       "  </tbody>\n",
       "</table>\n",
       "<p>25548 rows × 7 columns</p>\n",
       "</div>"
      ],
      "text/plain": [
       "       PRCP  TMAX  TMIN  RAIN  TEMP_MED PRCP_CAT TEMP_CAT\n",
       "0      0.47    51    42     1      46.5     baja     alta\n",
       "1      0.59    45    36     1      40.5     baja     alta\n",
       "2      0.42    45    35     1      40.0     baja     alta\n",
       "3      0.31    45    34     1      39.5     baja     alta\n",
       "4      0.17    45    32     1      38.5     baja     alta\n",
       "...     ...   ...   ...   ...       ...      ...      ...\n",
       "25546  0.00    49    34     0      41.5     baja     alta\n",
       "25547  0.00    49    29     0      39.0     baja     alta\n",
       "25548  0.00    46    32     0      39.0     baja     alta\n",
       "25549  0.00    48    34     0      41.0     baja     alta\n",
       "25550  0.00    50    36     0      43.0     baja     alta\n",
       "\n",
       "[25548 rows x 7 columns]"
      ]
     },
     "execution_count": 4,
     "metadata": {},
     "output_type": "execute_result"
    }
   ],
   "source": [
    "\n",
    "# Carga de los datos\n",
    "data = pd.read_csv('./RecursosLab3/lluvias.csv')\n",
    "data = data.dropna()\n",
    "data = data.drop_duplicates()\n",
    "\n",
    "# Eliminación de la columna \"DATE\"\n",
    "data.drop(\"DATE\", axis=1, inplace=True)\n",
    "\n",
    "# Creación de la variable objetivo binaria\n",
    "data[\"RAIN\"] = data[\"RAIN\"].astype(int)\n",
    "\n",
    "# Creación de la columna de temperatura media diaria promedio\n",
    "data[\"TEMP_MED\"] = (data[\"TMAX\"] + data[\"TMIN\"]) / 2\n",
    "\n",
    "# Categorización de las variables continuas\n",
    "data[\"PRCP_CAT\"] = pd.cut(data[\"PRCP\"], bins=[-1, 1, 2, float(\"inf\")], labels=[\"baja\", \"normal\", \"alta\"])\n",
    "data[\"TEMP_CAT\"] = pd.cut(data[\"TEMP_MED\"], bins=[-float(\"inf\"), 10, 20, float(\"inf\")], labels=[\"baja\", \"media\", \"alta\"])\n",
    "\n",
    "data\n",
    "\n"
   ]
  },
  {
   "cell_type": "markdown",
   "id": "1a0d3557-fea6-46b4-83e7-ffca436e54b5",
   "metadata": {},
   "source": [
    "#### Se considera que la temperatura es baja si está por debajo de 10 grados, media si está entre 10 y 20 y alta si está por encima de 20. \n",
    "#### Se considera que ha llovido poco si la medida está por debajo de 1, normal si está entre 1 y 2, y que ha llovido mucho si está por encima de 2.\n",
    "\n"
   ]
  },
  {
   "cell_type": "markdown",
   "id": "6bb1f0f5-51ae-4fce-a8e9-1f31c2aae1c4",
   "metadata": {},
   "source": [
    "### Apartado B"
   ]
  },
  {
   "cell_type": "markdown",
   "id": "049942f4-98fc-4246-92d8-460b105c2270",
   "metadata": {},
   "source": [
    "#### A continuación, crearemos un clasificador e indicaremos su error. Además, lo usaremos para saber si lloverá en los próximos 3 días."
   ]
  },
  {
   "cell_type": "markdown",
   "id": "e750978e-458d-43f5-aca2-711d4b2494d9",
   "metadata": {},
   "source": [
    "#### Para clasificar usaremos el clasificador: arboles de decisión."
   ]
  },
  {
   "cell_type": "code",
   "execution_count": 5,
   "id": "d976699a-8f3d-49a4-be89-ea3701b92bbc",
   "metadata": {},
   "outputs": [
    {
     "name": "stdout",
     "output_type": "stream",
     "text": [
      "1.0\n"
     ]
    }
   ],
   "source": [
    "\n",
    "# Codificar variables categóricas usando one-hot encoding\n",
    "# Esta técnica crea una nueva columna para cada valor categórico en una variable, y asigna un valor de 0 o 1 a cada fila según el valor correspondiente.\n",
    "data_encoded = pd.get_dummies(data, columns=['TMIN', 'TMAX', 'PRCP', 'PRCP_CAT', 'TEMP_CAT'])\n",
    "\n",
    "# Dividir datos en conjuntos de entrenamiento y prueba\n",
    "X_train, X_test, y_train, y_test = train_test_split(data_encoded.drop('RAIN',axis=1), data_encoded['RAIN'], test_size=0.3, random_state=101)\n",
    "\n",
    "# Entrenar modelo\n",
    "dtree = DecisionTreeClassifier()\n",
    "dtree.fit(X_train,y_train)\n",
    "\n",
    "# Evaluar modelo\n",
    "predictions = dtree.predict(X_test)\n",
    "print(accuracy_score(y_test,predictions))\n"
   ]
  },
  {
   "cell_type": "markdown",
   "id": "e37f857d-423e-45e0-b955-53c32e57bee7",
   "metadata": {},
   "source": [
    "##### Un resultado de 1.0 en la precisión del modelo significa que el modelo de árbol de decisión ha clasificado correctamente todas las muestras de prueba en el conjunto de datos utilizado.\n",
    "\n",
    "##### En otras palabras, el modelo ha logrado una precisión del 100%, lo que indica que es capaz de predecir con precisión si va a llover o no en los próximos 3 días basado en las variables de temperatura y precipitación."
   ]
  },
  {
   "cell_type": "code",
   "execution_count": 6,
   "id": "72d43838-ad84-4cc4-8f13-559d42178843",
   "metadata": {},
   "outputs": [
    {
     "name": "stdout",
     "output_type": "stream",
     "text": [
      "Precisión del modelo: 1.0\n",
      "Error del modelo: 0.0\n"
     ]
    }
   ],
   "source": [
    "\n",
    "# Calcular la precisión del modelo\n",
    "accuracy = accuracy_score(y_test, predictions)\n",
    "print(\"Precisión del modelo:\", accuracy)\n",
    "\n",
    "# Calcular el error del modelo\n",
    "error = 1 - accuracy\n",
    "print(\"Error del modelo:\", error)\n",
    "\n"
   ]
  },
  {
   "cell_type": "markdown",
   "id": "7c86ec7c-164c-4081-9865-15abd1086371",
   "metadata": {},
   "source": [
    "##### El error del modelo es 0.0. Lo que indica que es capaz de predecir con precisión si va a llover o no en los próximos 3 días basado en las variables de temperatura y precipitación."
   ]
  },
  {
   "cell_type": "markdown",
   "id": "b9eb7dc7-7f67-42fa-bf8e-10581969979c",
   "metadata": {},
   "source": [
    "#### Una vez hemos creado el clasificador e indicado su error, vamos a usarlo para predecir si lloverá en los proximos 3 días o no."
   ]
  },
  {
   "cell_type": "code",
   "execution_count": 7,
   "id": "e9476371-8a68-41c1-9e99-236320a4122e",
   "metadata": {},
   "outputs": [
    {
     "ename": "ModuleNotFoundError",
     "evalue": "No module named 'pyowm'",
     "output_type": "error",
     "traceback": [
      "\u001b[0;31m---------------------------------------------------------------------------\u001b[0m",
      "\u001b[0;31mModuleNotFoundError\u001b[0m                       Traceback (most recent call last)",
      "\u001b[0;32m/var/folders/t8/n5_055wn3xj7gs9j0kmw7kkr0000gn/T/ipykernel_26092/1205225226.py\u001b[0m in \u001b[0;36m<module>\u001b[0;34m\u001b[0m\n\u001b[0;32m----> 1\u001b[0;31m \u001b[0;32mimport\u001b[0m \u001b[0mpyowm\u001b[0m\u001b[0;34m\u001b[0m\u001b[0;34m\u001b[0m\u001b[0m\n\u001b[0m\u001b[1;32m      2\u001b[0m \u001b[0;32mfrom\u001b[0m \u001b[0mdatetime\u001b[0m \u001b[0;32mimport\u001b[0m \u001b[0mdatetime\u001b[0m\u001b[0;34m,\u001b[0m \u001b[0mtimedelta\u001b[0m\u001b[0;34m\u001b[0m\u001b[0;34m\u001b[0m\u001b[0m\n\u001b[1;32m      3\u001b[0m \u001b[0;34m\u001b[0m\u001b[0m\n\u001b[1;32m      4\u001b[0m \u001b[0mowm\u001b[0m \u001b[0;34m=\u001b[0m \u001b[0mpyowm\u001b[0m\u001b[0;34m.\u001b[0m\u001b[0mOWM\u001b[0m\u001b[0;34m(\u001b[0m\u001b[0mapi_key\u001b[0m\u001b[0;34m=\u001b[0m\u001b[0;34m'd4153e98656d58a73db9668369a26209'\u001b[0m\u001b[0;34m)\u001b[0m\u001b[0;34m\u001b[0m\u001b[0;34m\u001b[0m\u001b[0m\n\u001b[1;32m      5\u001b[0m \u001b[0;34m\u001b[0m\u001b[0m\n",
      "\u001b[0;31mModuleNotFoundError\u001b[0m: No module named 'pyowm'"
     ]
    }
   ],
   "source": [
    "import pyowm\n",
    "from datetime import datetime, timedelta\n",
    "\n",
    "owm = pyowm.OWM(api_key='d4153e98656d58a73db9668369a26209')\n",
    "\n",
    "# Definir la ubicación de la ciudad y la fecha de inicio y fin de la búsqueda del pronóstico del tiempo\n",
    "city = \"Madrid,ES\"\n",
    "start_date = datetime.now()\n",
    "end_date = start_date + timedelta(days=3)\n",
    "\n",
    "# Obtener el pronóstico del tiempo para la ubicación y el período de tiempo especificado\n",
    "forecast = owm.weather_manager().forecast_at_place(city, interval='3h')\n",
    "\n",
    "# Verificar si se espera lluvia en los próximos 3 días\n",
    "for weather in forecast.forecast:\n",
    "    if 'rain' in weather.status.lower():\n",
    "        print(f\"Se espera lluvia en {city} el {weather.reference_time('iso')} (UTC)\")\n",
    "\n"
   ]
  },
  {
   "cell_type": "markdown",
   "id": "da88e342-afe6-44de-99b0-7171db2c12bf",
   "metadata": {},
   "source": [
    "#### El código devuelve el pronóstico del tiempo en intervalos de 3 horas para los próximos 3 días en Madrid y verifica si se espera lluvia en alguno de esos momentos.\n",
    "#### Al no devolver nada, podemos concluir que no lloverá en madrid en los próximos 3 días."
   ]
  },
  {
   "cell_type": "code",
   "execution_count": 11,
   "id": "60d7bddd-7bef-4b59-80cc-3c1ca5a3ced8",
   "metadata": {},
   "outputs": [
    {
     "ename": "KeyError",
     "evalue": "\"['RAIN'] not found in axis\"",
     "output_type": "error",
     "traceback": [
      "\u001b[0;31m---------------------------------------------------------------------------\u001b[0m",
      "\u001b[0;31mKeyError\u001b[0m                                  Traceback (most recent call last)",
      "\u001b[0;32m/var/folders/t8/n5_055wn3xj7gs9j0kmw7kkr0000gn/T/ipykernel_26092/169439353.py\u001b[0m in \u001b[0;36m<module>\u001b[0;34m\u001b[0m\n\u001b[1;32m     55\u001b[0m \u001b[0;34m\u001b[0m\u001b[0m\n\u001b[1;32m     56\u001b[0m \u001b[0;31m# Dividir datos en conjuntos de entrenamiento y prueba\u001b[0m\u001b[0;34m\u001b[0m\u001b[0;34m\u001b[0m\u001b[0m\n\u001b[0;32m---> 57\u001b[0;31m \u001b[0mX_train\u001b[0m\u001b[0;34m,\u001b[0m \u001b[0mX_test\u001b[0m\u001b[0;34m,\u001b[0m \u001b[0my_train\u001b[0m\u001b[0;34m,\u001b[0m \u001b[0my_test\u001b[0m \u001b[0;34m=\u001b[0m \u001b[0mtrain_test_split\u001b[0m\u001b[0;34m(\u001b[0m\u001b[0mdata_encoded\u001b[0m\u001b[0;34m.\u001b[0m\u001b[0mdrop\u001b[0m\u001b[0;34m(\u001b[0m\u001b[0;34m'RAIN'\u001b[0m\u001b[0;34m,\u001b[0m\u001b[0maxis\u001b[0m\u001b[0;34m=\u001b[0m\u001b[0;36m1\u001b[0m\u001b[0;34m)\u001b[0m\u001b[0;34m,\u001b[0m \u001b[0mdata_encoded\u001b[0m\u001b[0;34m[\u001b[0m\u001b[0;34m'RAIN'\u001b[0m\u001b[0;34m]\u001b[0m\u001b[0;34m,\u001b[0m \u001b[0mtest_size\u001b[0m\u001b[0;34m=\u001b[0m\u001b[0;36m0.3\u001b[0m\u001b[0;34m,\u001b[0m \u001b[0mrandom_state\u001b[0m\u001b[0;34m=\u001b[0m\u001b[0;36m101\u001b[0m\u001b[0;34m)\u001b[0m\u001b[0;34m\u001b[0m\u001b[0;34m\u001b[0m\u001b[0m\n\u001b[0m\u001b[1;32m     58\u001b[0m \u001b[0;34m\u001b[0m\u001b[0m\n\u001b[1;32m     59\u001b[0m \u001b[0;34m\u001b[0m\u001b[0m\n",
      "\u001b[0;32m~/opt/anaconda3/lib/python3.9/site-packages/pandas/util/_decorators.py\u001b[0m in \u001b[0;36mwrapper\u001b[0;34m(*args, **kwargs)\u001b[0m\n\u001b[1;32m    309\u001b[0m                     \u001b[0mstacklevel\u001b[0m\u001b[0;34m=\u001b[0m\u001b[0mstacklevel\u001b[0m\u001b[0;34m,\u001b[0m\u001b[0;34m\u001b[0m\u001b[0;34m\u001b[0m\u001b[0m\n\u001b[1;32m    310\u001b[0m                 )\n\u001b[0;32m--> 311\u001b[0;31m             \u001b[0;32mreturn\u001b[0m \u001b[0mfunc\u001b[0m\u001b[0;34m(\u001b[0m\u001b[0;34m*\u001b[0m\u001b[0margs\u001b[0m\u001b[0;34m,\u001b[0m \u001b[0;34m**\u001b[0m\u001b[0mkwargs\u001b[0m\u001b[0;34m)\u001b[0m\u001b[0;34m\u001b[0m\u001b[0;34m\u001b[0m\u001b[0m\n\u001b[0m\u001b[1;32m    312\u001b[0m \u001b[0;34m\u001b[0m\u001b[0m\n\u001b[1;32m    313\u001b[0m         \u001b[0;32mreturn\u001b[0m \u001b[0mwrapper\u001b[0m\u001b[0;34m\u001b[0m\u001b[0;34m\u001b[0m\u001b[0m\n",
      "\u001b[0;32m~/opt/anaconda3/lib/python3.9/site-packages/pandas/core/frame.py\u001b[0m in \u001b[0;36mdrop\u001b[0;34m(self, labels, axis, index, columns, level, inplace, errors)\u001b[0m\n\u001b[1;32m   4955\u001b[0m                 \u001b[0mweight\u001b[0m  \u001b[0;36m1.0\u001b[0m     \u001b[0;36m0.8\u001b[0m\u001b[0;34m\u001b[0m\u001b[0;34m\u001b[0m\u001b[0m\n\u001b[1;32m   4956\u001b[0m         \"\"\"\n\u001b[0;32m-> 4957\u001b[0;31m         return super().drop(\n\u001b[0m\u001b[1;32m   4958\u001b[0m             \u001b[0mlabels\u001b[0m\u001b[0;34m=\u001b[0m\u001b[0mlabels\u001b[0m\u001b[0;34m,\u001b[0m\u001b[0;34m\u001b[0m\u001b[0;34m\u001b[0m\u001b[0m\n\u001b[1;32m   4959\u001b[0m             \u001b[0maxis\u001b[0m\u001b[0;34m=\u001b[0m\u001b[0maxis\u001b[0m\u001b[0;34m,\u001b[0m\u001b[0;34m\u001b[0m\u001b[0;34m\u001b[0m\u001b[0m\n",
      "\u001b[0;32m~/opt/anaconda3/lib/python3.9/site-packages/pandas/core/generic.py\u001b[0m in \u001b[0;36mdrop\u001b[0;34m(self, labels, axis, index, columns, level, inplace, errors)\u001b[0m\n\u001b[1;32m   4265\u001b[0m         \u001b[0;32mfor\u001b[0m \u001b[0maxis\u001b[0m\u001b[0;34m,\u001b[0m \u001b[0mlabels\u001b[0m \u001b[0;32min\u001b[0m \u001b[0maxes\u001b[0m\u001b[0;34m.\u001b[0m\u001b[0mitems\u001b[0m\u001b[0;34m(\u001b[0m\u001b[0;34m)\u001b[0m\u001b[0;34m:\u001b[0m\u001b[0;34m\u001b[0m\u001b[0;34m\u001b[0m\u001b[0m\n\u001b[1;32m   4266\u001b[0m             \u001b[0;32mif\u001b[0m \u001b[0mlabels\u001b[0m \u001b[0;32mis\u001b[0m \u001b[0;32mnot\u001b[0m \u001b[0;32mNone\u001b[0m\u001b[0;34m:\u001b[0m\u001b[0;34m\u001b[0m\u001b[0;34m\u001b[0m\u001b[0m\n\u001b[0;32m-> 4267\u001b[0;31m                 \u001b[0mobj\u001b[0m \u001b[0;34m=\u001b[0m \u001b[0mobj\u001b[0m\u001b[0;34m.\u001b[0m\u001b[0m_drop_axis\u001b[0m\u001b[0;34m(\u001b[0m\u001b[0mlabels\u001b[0m\u001b[0;34m,\u001b[0m \u001b[0maxis\u001b[0m\u001b[0;34m,\u001b[0m \u001b[0mlevel\u001b[0m\u001b[0;34m=\u001b[0m\u001b[0mlevel\u001b[0m\u001b[0;34m,\u001b[0m \u001b[0merrors\u001b[0m\u001b[0;34m=\u001b[0m\u001b[0merrors\u001b[0m\u001b[0;34m)\u001b[0m\u001b[0;34m\u001b[0m\u001b[0;34m\u001b[0m\u001b[0m\n\u001b[0m\u001b[1;32m   4268\u001b[0m \u001b[0;34m\u001b[0m\u001b[0m\n\u001b[1;32m   4269\u001b[0m         \u001b[0;32mif\u001b[0m \u001b[0minplace\u001b[0m\u001b[0;34m:\u001b[0m\u001b[0;34m\u001b[0m\u001b[0;34m\u001b[0m\u001b[0m\n",
      "\u001b[0;32m~/opt/anaconda3/lib/python3.9/site-packages/pandas/core/generic.py\u001b[0m in \u001b[0;36m_drop_axis\u001b[0;34m(self, labels, axis, level, errors, consolidate, only_slice)\u001b[0m\n\u001b[1;32m   4309\u001b[0m                 \u001b[0mnew_axis\u001b[0m \u001b[0;34m=\u001b[0m \u001b[0maxis\u001b[0m\u001b[0;34m.\u001b[0m\u001b[0mdrop\u001b[0m\u001b[0;34m(\u001b[0m\u001b[0mlabels\u001b[0m\u001b[0;34m,\u001b[0m \u001b[0mlevel\u001b[0m\u001b[0;34m=\u001b[0m\u001b[0mlevel\u001b[0m\u001b[0;34m,\u001b[0m \u001b[0merrors\u001b[0m\u001b[0;34m=\u001b[0m\u001b[0merrors\u001b[0m\u001b[0;34m)\u001b[0m\u001b[0;34m\u001b[0m\u001b[0;34m\u001b[0m\u001b[0m\n\u001b[1;32m   4310\u001b[0m             \u001b[0;32melse\u001b[0m\u001b[0;34m:\u001b[0m\u001b[0;34m\u001b[0m\u001b[0;34m\u001b[0m\u001b[0m\n\u001b[0;32m-> 4311\u001b[0;31m                 \u001b[0mnew_axis\u001b[0m \u001b[0;34m=\u001b[0m \u001b[0maxis\u001b[0m\u001b[0;34m.\u001b[0m\u001b[0mdrop\u001b[0m\u001b[0;34m(\u001b[0m\u001b[0mlabels\u001b[0m\u001b[0;34m,\u001b[0m \u001b[0merrors\u001b[0m\u001b[0;34m=\u001b[0m\u001b[0merrors\u001b[0m\u001b[0;34m)\u001b[0m\u001b[0;34m\u001b[0m\u001b[0;34m\u001b[0m\u001b[0m\n\u001b[0m\u001b[1;32m   4312\u001b[0m             \u001b[0mindexer\u001b[0m \u001b[0;34m=\u001b[0m \u001b[0maxis\u001b[0m\u001b[0;34m.\u001b[0m\u001b[0mget_indexer\u001b[0m\u001b[0;34m(\u001b[0m\u001b[0mnew_axis\u001b[0m\u001b[0;34m)\u001b[0m\u001b[0;34m\u001b[0m\u001b[0;34m\u001b[0m\u001b[0m\n\u001b[1;32m   4313\u001b[0m \u001b[0;34m\u001b[0m\u001b[0m\n",
      "\u001b[0;32m~/opt/anaconda3/lib/python3.9/site-packages/pandas/core/indexes/base.py\u001b[0m in \u001b[0;36mdrop\u001b[0;34m(self, labels, errors)\u001b[0m\n\u001b[1;32m   6659\u001b[0m         \u001b[0;32mif\u001b[0m \u001b[0mmask\u001b[0m\u001b[0;34m.\u001b[0m\u001b[0many\u001b[0m\u001b[0;34m(\u001b[0m\u001b[0;34m)\u001b[0m\u001b[0;34m:\u001b[0m\u001b[0;34m\u001b[0m\u001b[0;34m\u001b[0m\u001b[0m\n\u001b[1;32m   6660\u001b[0m             \u001b[0;32mif\u001b[0m \u001b[0merrors\u001b[0m \u001b[0;34m!=\u001b[0m \u001b[0;34m\"ignore\"\u001b[0m\u001b[0;34m:\u001b[0m\u001b[0;34m\u001b[0m\u001b[0;34m\u001b[0m\u001b[0m\n\u001b[0;32m-> 6661\u001b[0;31m                 \u001b[0;32mraise\u001b[0m \u001b[0mKeyError\u001b[0m\u001b[0;34m(\u001b[0m\u001b[0;34mf\"{list(labels[mask])} not found in axis\"\u001b[0m\u001b[0;34m)\u001b[0m\u001b[0;34m\u001b[0m\u001b[0;34m\u001b[0m\u001b[0m\n\u001b[0m\u001b[1;32m   6662\u001b[0m             \u001b[0mindexer\u001b[0m \u001b[0;34m=\u001b[0m \u001b[0mindexer\u001b[0m\u001b[0;34m[\u001b[0m\u001b[0;34m~\u001b[0m\u001b[0mmask\u001b[0m\u001b[0;34m]\u001b[0m\u001b[0;34m\u001b[0m\u001b[0;34m\u001b[0m\u001b[0m\n\u001b[1;32m   6663\u001b[0m         \u001b[0;32mreturn\u001b[0m \u001b[0mself\u001b[0m\u001b[0;34m.\u001b[0m\u001b[0mdelete\u001b[0m\u001b[0;34m(\u001b[0m\u001b[0mindexer\u001b[0m\u001b[0;34m)\u001b[0m\u001b[0;34m\u001b[0m\u001b[0;34m\u001b[0m\u001b[0m\n",
      "\u001b[0;31mKeyError\u001b[0m: \"['RAIN'] not found in axis\""
     ]
    }
   ],
   "source": [
    "\n",
    "\n",
    "import pyowm\n",
    "import pandas as pd\n",
    "from sklearn.tree import DecisionTreeClassifier\n",
    "from sklearn.model_selection import train_test_split\n",
    "from sklearn.metrics import accuracy_score\n",
    "import warnings\n",
    "warnings.filterwarnings('ignore')\n",
    "\n",
    "\n",
    "\n",
    "# inicializar el cliente OWM con su API key\n",
    "owm = pyowm.OWM('d4153e98656d58a73db9668369a26209')\n",
    "\n",
    "# obtener la ubicación\n",
    "location = owm.weather_manager().weather_at_place('Madrid, España').location\n",
    "\n",
    "# obtener el pronóstico del clima para su ubicación\n",
    "forecast = owm.weather_manager().forecast_at_place('Madrid, España', '3h').forecast\n",
    "\n",
    "# crear un DataFrame para almacenar los datos del pronóstico del clima\n",
    "#ata = pd.DataFrame(columns=['TMIN', 'TMAX', 'PRCP', 'PRCP_CAT', 'TEMP_CAT'])\n",
    "\n",
    "data_encoded = pd.get_dummies(data, columns=['TMIN', 'TMAX', 'PRCP', 'PRCP_CAT', 'TEMP_CAT', 'RAIN'])\n",
    "\n",
    "# iterar a través de los datos del pronóstico del clima y agregarlos al DataFrame\n",
    "for weather in forecast:\n",
    "    \n",
    "    temperature = weather.temperature(unit='celsius')\n",
    "    tmin = temperature['temp_min']\n",
    "    tmax = temperature['temp_max']\n",
    "\n",
    "    rain = weather.rain.get('3h', 0)\n",
    "\n",
    "    # determinar si lloverá o no según la cantidad de precipitación\n",
    "    if rain == 0:\n",
    "        prcp_cat = 'no_rain'\n",
    "    elif rain < 5:\n",
    "        prcp_cat = 'light_rain'\n",
    "    else:\n",
    "        prcp_cat = 'heavy_rain'\n",
    "    \n",
    "    # determinar la categoría de temperatura\n",
    "    if tmax > 30:\n",
    "        temp_cat = 'hot'\n",
    "    elif tmin < 10:\n",
    "        temp_cat = 'cold'\n",
    "    else:\n",
    "        temp_cat = 'moderate'\n",
    "    \n",
    "    # agregar los datos al DataFrame\n",
    "    data = data.append({'TMIN': tmin, 'TMAX': tmax, 'PRCP': rain, 'PRCP_CAT': prcp_cat, 'TEMP_CAT': temp_cat}, ignore_index=True)\n",
    "\n",
    "# codificar variables categóricas usando one-hot encoding\n",
    "data_encoded = pd.get_dummies(data, columns=['TMIN', 'TMAX', 'PRCP', 'PRCP_CAT', 'TEMP_CAT', 'RAIN'])\n",
    "\n",
    "# Dividir datos en conjuntos de entrenamiento y prueba\n",
    "X_train, X_test, y_train, y_test = train_test_split(data_encoded.drop('RAIN',axis=1), data_encoded['RAIN'], test_size=0.3, random_state=101)\n",
    "\n",
    "\n",
    "# Entrenar modelo\n",
    "dtree = DecisionTreeClassifier()\n",
    "dtree.fit(X_train,y_train)\n",
    "\n",
    "# Evaluar modelo\n",
    "predictions = dtree.predict(X_test)\n",
    "print(accuracy_score(y_test,predictions))\n",
    "\n"
   ]
  },
  {
   "cell_type": "code",
   "execution_count": null,
   "id": "4e356e49-551f-49e1-8f58-8f09350d25ba",
   "metadata": {},
   "outputs": [],
   "source": []
  }
 ],
 "metadata": {
  "kernelspec": {
   "display_name": "Python 3 (ipykernel)",
   "language": "python",
   "name": "python3"
  },
  "language_info": {
   "codemirror_mode": {
    "name": "ipython",
    "version": 3
   },
   "file_extension": ".py",
   "mimetype": "text/x-python",
   "name": "python",
   "nbconvert_exporter": "python",
   "pygments_lexer": "ipython3",
   "version": "3.9.13"
  }
 },
 "nbformat": 4,
 "nbformat_minor": 5
}
