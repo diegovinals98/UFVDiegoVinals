{
 "cells": [
  {
   "cell_type": "code",
   "execution_count": 24,
   "id": "5d912216-c1e4-4307-8850-c5f1af477be0",
   "metadata": {},
   "outputs": [
    {
     "name": "stdout",
     "output_type": "stream",
     "text": [
      "     support      itemsets\n",
      "0   0.961151           (-)\n",
      "1   0.581000           (2)\n",
      "2   0.599913           (3)\n",
      "3   0.973322           (5)\n",
      "4   0.683719           (6)\n",
      "5   0.581000        (-, 2)\n",
      "6   0.599913        (-, 3)\n",
      "7   0.934473        (-, 5)\n",
      "8   0.683719        (-, 6)\n",
      "9   0.581000        (5, 2)\n",
      "10  0.599913        (5, 3)\n",
      "11  0.599913        (6, 3)\n",
      "12  0.683719        (5, 6)\n",
      "13  0.581000     (-, 5, 2)\n",
      "14  0.599913     (-, 5, 3)\n",
      "15  0.599913     (-, 6, 3)\n",
      "16  0.683719     (5, -, 6)\n",
      "17  0.599913     (5, 6, 3)\n",
      "18  0.599913  (5, -, 6, 3)\n"
     ]
    }
   ],
   "source": [
    "from collections import defaultdict\n",
    "import numpy as np\n",
    "from mlxtend.preprocessing import TransactionEncoder\n",
    "from mlxtend.frequent_patterns import apriori\n",
    "import pandas as pd\n",
    "\n",
    "\n",
    "dfGender = pd.read_csv('./datasetlab2/BlackFriday.csv', usecols=['Age'])\n",
    "dfGender['Age'] = dfGender['Age'].astype(str)\n",
    "data = defaultdict(list)\n",
    "\n",
    "\n",
    "data = np.array(dfGender['Age']).tolist()\n",
    "\n",
    "#print(data)\n",
    "\n",
    "\n",
    "te = TransactionEncoder()\n",
    "te_data = te.fit_transform(data)\n",
    "data = pd.DataFrame(te_data, columns=te.columns_)\n",
    "\n",
    "frequent_itemsets = apriori(data, min_support=0.5, use_colnames=True)\n",
    "print(frequent_itemsets)\n",
    "\n",
    "\n",
    "\n",
    "\n",
    "\n"
   ]
  },
  {
   "cell_type": "markdown",
   "id": "56eec86c-1000-429a-91d8-d9c692be8d39",
   "metadata": {},
   "source": [
    "La tabla muestra el soporte y los itemsets (conjuntos de elementos) que aparecen en cada regla. Por ejemplo, la regla número 2 indica que el itemset (conjunto de elementos) 3 aparece con un soporte de 0.599913, lo que significa que el 59.99% de las transacciones incluyen el elemento 3.\n",
    "\n",
    "También se pueden ver reglas que combinan varios elementos, como la regla número 16 que indica que el itemset (conjunto de elementos) formado por los elementos 5 y 6 aparece junto con el elemento \"-\" (que puede representar cualquier otro elemento) con un soporte del 68.37%.\n",
    "\n",
    "En resumen, estas tablas muestran las relaciones y patrones encontrados en el conjunto de datos, que pueden ser útiles para entender la estructura y relaciones entre los elementos en el dataset."
   ]
  },
  {
   "cell_type": "code",
   "execution_count": null,
   "id": "0835ef35-f136-4139-82dd-dbcb86b1d1e1",
   "metadata": {},
   "outputs": [],
   "source": []
  }
 ],
 "metadata": {
  "kernelspec": {
   "display_name": "Python 3 (ipykernel)",
   "language": "python",
   "name": "python3"
  },
  "language_info": {
   "codemirror_mode": {
    "name": "ipython",
    "version": 3
   },
   "file_extension": ".py",
   "mimetype": "text/x-python",
   "name": "python",
   "nbconvert_exporter": "python",
   "pygments_lexer": "ipython3",
   "version": "3.9.13"
  }
 },
 "nbformat": 4,
 "nbformat_minor": 5
}
