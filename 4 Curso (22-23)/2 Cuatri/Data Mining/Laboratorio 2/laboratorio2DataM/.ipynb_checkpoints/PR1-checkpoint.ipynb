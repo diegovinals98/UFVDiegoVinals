{
 "cells": [
  {
   "cell_type": "markdown",
   "id": "d6bccc69-2723-40c9-b252-e1f2a963bdf3",
   "metadata": {},
   "source": [
    "# Práctica 1: Reglas de Asociación"
   ]
  },
  {
   "cell_type": "markdown",
   "id": "03545e9e-2664-488e-965f-4f7d1e6eef7d",
   "metadata": {
    "tags": []
   },
   "source": [
    "#### Integrantes: Diego Viñals, Miguel Ángel Lobo, Ignacio Tejero"
   ]
  },
  {
   "cell_type": "code",
   "execution_count": 138,
   "id": "84f325df-8ee8-4abe-8d5d-d1a26eb4f16a",
   "metadata": {},
   "outputs": [],
   "source": [
    "from apyori import apriori\n",
    "import pandas as pd\n",
    "from mlxtend.frequent_patterns import association_rules"
   ]
  },
  {
   "cell_type": "markdown",
   "id": "766945df-176b-4f48-957a-24dc9df42cbb",
   "metadata": {},
   "source": [
    "### Importamos el csv"
   ]
  },
  {
   "cell_type": "code",
   "execution_count": 139,
   "id": "7dd5884e-c1fa-49ee-9b3d-36f4eb8a6a5b",
   "metadata": {},
   "outputs": [
    {
     "data": {
      "text/html": [
       "<div>\n",
       "<style scoped>\n",
       "    .dataframe tbody tr th:only-of-type {\n",
       "        vertical-align: middle;\n",
       "    }\n",
       "\n",
       "    .dataframe tbody tr th {\n",
       "        vertical-align: top;\n",
       "    }\n",
       "\n",
       "    .dataframe thead th {\n",
       "        text-align: right;\n",
       "    }\n",
       "</style>\n",
       "<table border=\"1\" class=\"dataframe\">\n",
       "  <thead>\n",
       "    <tr style=\"text-align: right;\">\n",
       "      <th></th>\n",
       "      <th>Gender</th>\n",
       "    </tr>\n",
       "  </thead>\n",
       "  <tbody>\n",
       "    <tr>\n",
       "      <th>0</th>\n",
       "      <td>M</td>\n",
       "    </tr>\n",
       "    <tr>\n",
       "      <th>1</th>\n",
       "      <td>M</td>\n",
       "    </tr>\n",
       "    <tr>\n",
       "      <th>2</th>\n",
       "      <td>F</td>\n",
       "    </tr>\n",
       "    <tr>\n",
       "      <th>3</th>\n",
       "      <td>F</td>\n",
       "    </tr>\n",
       "    <tr>\n",
       "      <th>4</th>\n",
       "      <td>F</td>\n",
       "    </tr>\n",
       "    <tr>\n",
       "      <th>5</th>\n",
       "      <td>M</td>\n",
       "    </tr>\n",
       "    <tr>\n",
       "      <th>6</th>\n",
       "      <td>M</td>\n",
       "    </tr>\n",
       "    <tr>\n",
       "      <th>7</th>\n",
       "      <td>M</td>\n",
       "    </tr>\n",
       "    <tr>\n",
       "      <th>8</th>\n",
       "      <td>M</td>\n",
       "    </tr>\n",
       "    <tr>\n",
       "      <th>9</th>\n",
       "      <td>M</td>\n",
       "    </tr>\n",
       "    <tr>\n",
       "      <th>10</th>\n",
       "      <td>M</td>\n",
       "    </tr>\n",
       "    <tr>\n",
       "      <th>11</th>\n",
       "      <td>M</td>\n",
       "    </tr>\n",
       "    <tr>\n",
       "      <th>12</th>\n",
       "      <td>M</td>\n",
       "    </tr>\n",
       "    <tr>\n",
       "      <th>13</th>\n",
       "      <td>M</td>\n",
       "    </tr>\n",
       "    <tr>\n",
       "      <th>14</th>\n",
       "      <td>F</td>\n",
       "    </tr>\n",
       "    <tr>\n",
       "      <th>15</th>\n",
       "      <td>M</td>\n",
       "    </tr>\n",
       "    <tr>\n",
       "      <th>16</th>\n",
       "      <td>M</td>\n",
       "    </tr>\n",
       "    <tr>\n",
       "      <th>17</th>\n",
       "      <td>M</td>\n",
       "    </tr>\n",
       "    <tr>\n",
       "      <th>18</th>\n",
       "      <td>F</td>\n",
       "    </tr>\n",
       "    <tr>\n",
       "      <th>19</th>\n",
       "      <td>M</td>\n",
       "    </tr>\n",
       "  </tbody>\n",
       "</table>\n",
       "</div>"
      ],
      "text/plain": [
       "   Gender\n",
       "0       M\n",
       "1       M\n",
       "2       F\n",
       "3       F\n",
       "4       F\n",
       "5       M\n",
       "6       M\n",
       "7       M\n",
       "8       M\n",
       "9       M\n",
       "10      M\n",
       "11      M\n",
       "12      M\n",
       "13      M\n",
       "14      F\n",
       "15      M\n",
       "16      M\n",
       "17      M\n",
       "18      F\n",
       "19      M"
      ]
     },
     "execution_count": 139,
     "metadata": {},
     "output_type": "execute_result"
    }
   ],
   "source": [
    "# Leemos el archivo CSV \"BlackFriday.csv\" y solo cargamos las columnas 'Gender', 'Age' y 'Product_Category_1'\n",
    "df = pd.read_csv('./datasetlab2/BlackFriday.csv', usecols=['Gender', 'Age', 'Product_Category_1'])\n",
    "\n",
    "# Creamos un objeto de DataFrame solo con la columna 'Gender'\n",
    "dfGender = pd.read_csv('./datasetlab2/BlackFriday.csv', usecols=['Gender'])\n",
    "\n",
    "# Creamos un objeto de DataFrame solo con la columna 'Age'\n",
    "dfAge = pd.read_csv('./datasetlab2/BlackFriday.csv', usecols=['Age'])\n",
    "\n",
    "# Creamos un objeto de DataFrame solo con la columna 'Product_Category_1'\n",
    "dfTipo = pd.read_csv('./datasetlab2/BlackFriday.csv', usecols=['Product_Category_1'])\n",
    "\n",
    "# Mostramos las primeras 20 filas del objeto de DataFrame 'dfGender' utilizando el método \"head()\"\n",
    "dfGender.head(20)"
   ]
  },
  {
   "cell_type": "markdown",
   "id": "4d6cb880-4793-4132-b11b-5785f90eedc3",
   "metadata": {},
   "source": [
    "## Apartado A)"
   ]
  },
  {
   "cell_type": "code",
   "execution_count": 140,
   "id": "7f1415c4-3ddd-4ebf-abf2-f9bfc284e672",
   "metadata": {},
   "outputs": [
    {
     "name": "stdout",
     "output_type": "stream",
     "text": [
      "frozenset({'F'}) 0.24754814875063677\n",
      "frozenset({'M'}) 0.7524518512493632\n"
     ]
    }
   ],
   "source": [
    "# Creamos una lista vacía llamada 'transactions'\n",
    "transactions = []\n",
    "\n",
    "# Iteramos sobre cada fila del objeto de DataFrame 'dfGender'\n",
    "for i in range(len(dfGender)):\n",
    "    # Creamos una lista 'row' que contendrá los valores de cada columna de la fila actual\n",
    "    # Convertimos cada valor a una cadena utilizando 'str()'\n",
    "    # Agregamos la lista 'row' a la lista 'transactions'\n",
    "    row = [str(dfGender.values[i,j]) for j in range(len(dfGender.columns))]\n",
    "    transactions.append(row)\n",
    "\n",
    "# Generamos los itemsets y las reglas de asociación utilizando el algoritmo Apriori\n",
    "# Establecemos el soporte mínimo en 0.001\n",
    "resultsGender = list(apriori(transactions, min_support=0.001))\n",
    "\n",
    "# Iteramos sobre cada itemset en los resultados\n",
    "for itemset in resultsGender:\n",
    "    # Mostramos el conjunto de elementos en el itemset y su soporte\n",
    "    print(itemset.items, itemset.support)\n"
   ]
  },
  {
   "cell_type": "code",
   "execution_count": 141,
   "id": "3366deef-0d4f-489d-9389-6c36ff4f4b79",
   "metadata": {},
   "outputs": [
    {
     "data": {
      "text/html": [
       "<div>\n",
       "<style scoped>\n",
       "    .dataframe tbody tr th:only-of-type {\n",
       "        vertical-align: middle;\n",
       "    }\n",
       "\n",
       "    .dataframe tbody tr th {\n",
       "        vertical-align: top;\n",
       "    }\n",
       "\n",
       "    .dataframe thead th {\n",
       "        text-align: right;\n",
       "    }\n",
       "</style>\n",
       "<table border=\"1\" class=\"dataframe\">\n",
       "  <thead>\n",
       "    <tr style=\"text-align: right;\">\n",
       "      <th></th>\n",
       "      <th>Age</th>\n",
       "    </tr>\n",
       "  </thead>\n",
       "  <tbody>\n",
       "    <tr>\n",
       "      <th>0</th>\n",
       "      <td>46-50</td>\n",
       "    </tr>\n",
       "    <tr>\n",
       "      <th>1</th>\n",
       "      <td>26-35</td>\n",
       "    </tr>\n",
       "    <tr>\n",
       "      <th>2</th>\n",
       "      <td>36-45</td>\n",
       "    </tr>\n",
       "    <tr>\n",
       "      <th>3</th>\n",
       "      <td>36-45</td>\n",
       "    </tr>\n",
       "    <tr>\n",
       "      <th>4</th>\n",
       "      <td>26-35</td>\n",
       "    </tr>\n",
       "    <tr>\n",
       "      <th>5</th>\n",
       "      <td>46-50</td>\n",
       "    </tr>\n",
       "    <tr>\n",
       "      <th>6</th>\n",
       "      <td>46-50</td>\n",
       "    </tr>\n",
       "    <tr>\n",
       "      <th>7</th>\n",
       "      <td>46-50</td>\n",
       "    </tr>\n",
       "    <tr>\n",
       "      <th>8</th>\n",
       "      <td>26-35</td>\n",
       "    </tr>\n",
       "    <tr>\n",
       "      <th>9</th>\n",
       "      <td>18-25</td>\n",
       "    </tr>\n",
       "    <tr>\n",
       "      <th>10</th>\n",
       "      <td>26-35</td>\n",
       "    </tr>\n",
       "    <tr>\n",
       "      <th>11</th>\n",
       "      <td>26-35</td>\n",
       "    </tr>\n",
       "    <tr>\n",
       "      <th>12</th>\n",
       "      <td>26-35</td>\n",
       "    </tr>\n",
       "    <tr>\n",
       "      <th>13</th>\n",
       "      <td>26-35</td>\n",
       "    </tr>\n",
       "    <tr>\n",
       "      <th>14</th>\n",
       "      <td>26-35</td>\n",
       "    </tr>\n",
       "    <tr>\n",
       "      <th>15</th>\n",
       "      <td>36-45</td>\n",
       "    </tr>\n",
       "    <tr>\n",
       "      <th>16</th>\n",
       "      <td>46-50</td>\n",
       "    </tr>\n",
       "    <tr>\n",
       "      <th>17</th>\n",
       "      <td>46-50</td>\n",
       "    </tr>\n",
       "    <tr>\n",
       "      <th>18</th>\n",
       "      <td>18-25</td>\n",
       "    </tr>\n",
       "    <tr>\n",
       "      <th>19</th>\n",
       "      <td>46-50</td>\n",
       "    </tr>\n",
       "  </tbody>\n",
       "</table>\n",
       "</div>"
      ],
      "text/plain": [
       "      Age\n",
       "0   46-50\n",
       "1   26-35\n",
       "2   36-45\n",
       "3   36-45\n",
       "4   26-35\n",
       "5   46-50\n",
       "6   46-50\n",
       "7   46-50\n",
       "8   26-35\n",
       "9   18-25\n",
       "10  26-35\n",
       "11  26-35\n",
       "12  26-35\n",
       "13  26-35\n",
       "14  26-35\n",
       "15  36-45\n",
       "16  46-50\n",
       "17  46-50\n",
       "18  18-25\n",
       "19  46-50"
      ]
     },
     "execution_count": 141,
     "metadata": {},
     "output_type": "execute_result"
    }
   ],
   "source": [
    "# Mostramos los primeros 20 elementos del dataset \n",
    "dfAge.head(20)"
   ]
  },
  {
   "cell_type": "code",
   "execution_count": 142,
   "id": "bae948be-1bed-4fcb-ba2b-867eb63e06ce",
   "metadata": {},
   "outputs": [
    {
     "name": "stdout",
     "output_type": "stream",
     "text": [
      "Para 0.2\n",
      "frozenset({'26-35'}) 0.39995034225317744\n"
     ]
    }
   ],
   "source": [
    "# Creamos una lista vacía llamada 'transactionsAge'\n",
    "transactionsAge = []\n",
    "\n",
    "# Iteramos sobre cada fila del objeto de DataFrame 'dfAge'\n",
    "for i in range(len(dfAge)):\n",
    "    # Creamos una lista 'row' que contendrá los valores de cada columna de la fila actual\n",
    "    # Convertimos cada valor a una cadena utilizando 'str()'\n",
    "    # Agregamos la lista 'row' a la lista 'transactionsAge'\n",
    "    row = [str(dfAge.values[i,j]) for j in range(len(dfAge.columns))]\n",
    "    transactionsAge.append(row)\n",
    "\n",
    "# Generamos los itemsets y las reglas de asociación utilizando el algoritmo Apriori\n",
    "# Establecemos el soporte mínimo en 0.2\n",
    "resultsAge = list(apriori(transactionsAge, min_support=0.2))\n",
    "\n",
    "# Iteramos sobre cada itemset en los resultados y mostramos los que cumplen con el soporte mínimo establecido\n",
    "print(\"Para 0.2\")\n",
    "for itemset in resultsAge:\n",
    "    print(itemset.items, itemset.support)\n"
   ]
  },
  {
   "cell_type": "code",
   "execution_count": 143,
   "id": "7bfe28a4-a8a3-4541-8ef3-50aa3d2f45a9",
   "metadata": {},
   "outputs": [
    {
     "data": {
      "text/html": [
       "<div>\n",
       "<style scoped>\n",
       "    .dataframe tbody tr th:only-of-type {\n",
       "        vertical-align: middle;\n",
       "    }\n",
       "\n",
       "    .dataframe tbody tr th {\n",
       "        vertical-align: top;\n",
       "    }\n",
       "\n",
       "    .dataframe thead th {\n",
       "        text-align: right;\n",
       "    }\n",
       "</style>\n",
       "<table border=\"1\" class=\"dataframe\">\n",
       "  <thead>\n",
       "    <tr style=\"text-align: right;\">\n",
       "      <th></th>\n",
       "      <th>Product_Category_1</th>\n",
       "    </tr>\n",
       "  </thead>\n",
       "  <tbody>\n",
       "    <tr>\n",
       "      <th>0</th>\n",
       "      <td>1</td>\n",
       "    </tr>\n",
       "    <tr>\n",
       "      <th>1</th>\n",
       "      <td>3</td>\n",
       "    </tr>\n",
       "    <tr>\n",
       "      <th>2</th>\n",
       "      <td>5</td>\n",
       "    </tr>\n",
       "    <tr>\n",
       "      <th>3</th>\n",
       "      <td>4</td>\n",
       "    </tr>\n",
       "    <tr>\n",
       "      <th>4</th>\n",
       "      <td>4</td>\n",
       "    </tr>\n",
       "    <tr>\n",
       "      <th>5</th>\n",
       "      <td>2</td>\n",
       "    </tr>\n",
       "    <tr>\n",
       "      <th>6</th>\n",
       "      <td>1</td>\n",
       "    </tr>\n",
       "    <tr>\n",
       "      <th>7</th>\n",
       "      <td>2</td>\n",
       "    </tr>\n",
       "    <tr>\n",
       "      <th>8</th>\n",
       "      <td>10</td>\n",
       "    </tr>\n",
       "    <tr>\n",
       "      <th>9</th>\n",
       "      <td>5</td>\n",
       "    </tr>\n",
       "    <tr>\n",
       "      <th>10</th>\n",
       "      <td>1</td>\n",
       "    </tr>\n",
       "    <tr>\n",
       "      <th>11</th>\n",
       "      <td>5</td>\n",
       "    </tr>\n",
       "    <tr>\n",
       "      <th>12</th>\n",
       "      <td>5</td>\n",
       "    </tr>\n",
       "    <tr>\n",
       "      <th>13</th>\n",
       "      <td>5</td>\n",
       "    </tr>\n",
       "    <tr>\n",
       "      <th>14</th>\n",
       "      <td>10</td>\n",
       "    </tr>\n",
       "    <tr>\n",
       "      <th>15</th>\n",
       "      <td>2</td>\n",
       "    </tr>\n",
       "    <tr>\n",
       "      <th>16</th>\n",
       "      <td>15</td>\n",
       "    </tr>\n",
       "    <tr>\n",
       "      <th>17</th>\n",
       "      <td>5</td>\n",
       "    </tr>\n",
       "    <tr>\n",
       "      <th>18</th>\n",
       "      <td>5</td>\n",
       "    </tr>\n",
       "    <tr>\n",
       "      <th>19</th>\n",
       "      <td>2</td>\n",
       "    </tr>\n",
       "  </tbody>\n",
       "</table>\n",
       "</div>"
      ],
      "text/plain": [
       "    Product_Category_1\n",
       "0                    1\n",
       "1                    3\n",
       "2                    5\n",
       "3                    4\n",
       "4                    4\n",
       "5                    2\n",
       "6                    1\n",
       "7                    2\n",
       "8                   10\n",
       "9                    5\n",
       "10                   1\n",
       "11                   5\n",
       "12                   5\n",
       "13                   5\n",
       "14                  10\n",
       "15                   2\n",
       "16                  15\n",
       "17                   5\n",
       "18                   5\n",
       "19                   2"
      ]
     },
     "execution_count": 143,
     "metadata": {},
     "output_type": "execute_result"
    }
   ],
   "source": [
    "# Mostramos los primeros 20 elementos del dataset  \n",
    "dfTipo.head(20)"
   ]
  },
  {
   "cell_type": "code",
   "execution_count": 144,
   "id": "2b52def2-713a-406b-8e1a-5ae64579f675",
   "metadata": {},
   "outputs": [
    {
     "name": "stdout",
     "output_type": "stream",
     "text": [
      "Para 0.2\n",
      "frozenset({'1'}) 0.25822456431748425\n",
      "frozenset({'5'}) 0.27832739010012886\n",
      "frozenset({'8'}) 0.20705996172928823\n"
     ]
    }
   ],
   "source": [
    "# Creamos una lista vacía llamada 'transactionstipo'\n",
    "transactionstipo = []\n",
    "\n",
    "# Iteramos sobre cada fila del objeto de DataFrame 'dfTipo'\n",
    "for i in range(len(dfTipo)):\n",
    "    # Creamos una lista 'row' que contendrá los valores de cada columna de la fila actual\n",
    "    # Convertimos cada valor a una cadena utilizando 'str()'\n",
    "    # Agregamos la lista 'row' a la lista 'transactionstipo'\n",
    "    row = [str(dfTipo.values[i,j]) for j in range(len(dfTipo.columns))]\n",
    "    transactionstipo.append(row)\n",
    "\n",
    "# Generamos los itemsets y las reglas de asociación utilizando el algoritmo Apriori\n",
    "# Establecemos el soporte mínimo en 0.2\n",
    "resultsTipo = list(apriori(transactionstipo, min_support=0.2))\n",
    "\n",
    "# Iteramos sobre cada itemset en los resultados y mostramos los que cumplen con el soporte mínimo establecido\n",
    "print(\"Para 0.2\")\n",
    "for itemset in resultsTipo:\n",
    "    print(itemset.items, itemset.support)\n"
   ]
  },
  {
   "cell_type": "markdown",
   "id": "6744a216-d5a1-431c-b177-22d3563737b8",
   "metadata": {},
   "source": [
    "## Apartado B)"
   ]
  },
  {
   "cell_type": "markdown",
   "id": "808c976f-a443-4752-8899-479b62739570",
   "metadata": {},
   "source": [
    "El soporte se utiliza para identificar conjuntos de elementos comunes en un conjunto de datos, los cuales pueden ser considerados para su análisis posterior. Un conjunto de elementos con un alto soporte indica que es común en el conjunto de datos y, por lo tanto, es más probable que sea relevante para el análisis.\n",
    "\n",
    "En otras palabras, si se modifica el soporte mínimo, ciertas transacciones con un soporte menor al mínimo establecido pueden desaparecer.\n",
    "\n",
    "Si establecemos un soporte mínimo de 0.1, obtendremos la frecuencia de soporte correspondiente a ese valor."
   ]
  },
  {
   "cell_type": "markdown",
   "id": "82838bdd-9d4e-43df-9565-3a78425f981b",
   "metadata": {},
   "source": [
    "frozenset({'F'}) 0.24754814875063677"
   ]
  },
  {
   "cell_type": "markdown",
   "id": "8c791ed4-e12e-4338-938c-5b66836bb07a",
   "metadata": {},
   "source": [
    "frozenset({'M'}) 0.7524518512493632"
   ]
  },
  {
   "cell_type": "markdown",
   "id": "d091a5e2-6539-4379-b333-a4150ba9d200",
   "metadata": {},
   "source": [
    "Para soportre minimo de 0.5 nos sale esta:"
   ]
  },
  {
   "cell_type": "markdown",
   "id": "911fdad1-0ef6-45ec-9b30-3161c0920a03",
   "metadata": {},
   "source": [
    "frozenset({'M'}) 0.7524518512493632"
   ]
  },
  {
   "cell_type": "markdown",
   "id": "f46dc79e-6408-4161-8765-dfc839c8194b",
   "metadata": {},
   "source": [
    "Por lo tanto, podemos observar que al cambiar la configuración de soporte, las frecuencias de soporte también cambian"
   ]
  },
  {
   "cell_type": "markdown",
   "id": "b49c9fb3-04e3-46d8-8cf8-8a222c6f186c",
   "metadata": {},
   "source": [
    "## Apartado C)"
   ]
  },
  {
   "cell_type": "markdown",
   "id": "cc5ec3db-71b4-4cc4-bcd7-64b0d8d8c493",
   "metadata": {},
   "source": [
    "Hemos establecido un soporte mínimo de 0.1 para la categoría 'Gender'. Por lo tanto, las frecuencias resultantes son las siguientes:"
   ]
  },
  {
   "cell_type": "code",
   "execution_count": 145,
   "id": "2af7b63e-41b2-4fd4-b0a9-df633e681c11",
   "metadata": {},
   "outputs": [
    {
     "name": "stdout",
     "output_type": "stream",
     "text": [
      "Soporte minimo: 0.1\n",
      "frozenset({'F'}) 0.24754814875063677\n",
      "frozenset({'M'}) 0.7524518512493632\n"
     ]
    }
   ],
   "source": [
    "print(\"Soporte minimo: 0.1\")\n",
    "for itemset in resultsGender:\n",
    "    print(itemset.items, itemset.support)"
   ]
  },
  {
   "cell_type": "markdown",
   "id": "b6abaf03-280d-4f2c-947d-23255f7f9676",
   "metadata": {},
   "source": [
    "#### A continuación, vamos a calcular las reglas para la categoría 'Gender'"
   ]
  },
  {
   "cell_type": "markdown",
   "id": "1dc5d8aa-d910-4626-9245-edec400283a1",
   "metadata": {},
   "source": [
    "\"En este caso, como tenemos dos géneros y ninguno desaparece para un soporte mínimo de 0.1, podemos decir que no se pierde ninguna regla. Sin embargo, si modificamos el soporte mínimo a 0.3, el género femenino desaparecería, ya que su frecuencia de soporte es menor que el valor establecido."
   ]
  },
  {
   "cell_type": "code",
   "execution_count": 146,
   "id": "671ce907-d957-4e13-83b6-fcc4b5e1d48b",
   "metadata": {},
   "outputs": [
    {
     "data": {
      "text/html": [
       "<div>\n",
       "<style scoped>\n",
       "    .dataframe tbody tr th:only-of-type {\n",
       "        vertical-align: middle;\n",
       "    }\n",
       "\n",
       "    .dataframe tbody tr th {\n",
       "        vertical-align: top;\n",
       "    }\n",
       "\n",
       "    .dataframe thead th {\n",
       "        text-align: right;\n",
       "    }\n",
       "</style>\n",
       "<table border=\"1\" class=\"dataframe\">\n",
       "  <thead>\n",
       "    <tr style=\"text-align: right;\">\n",
       "      <th></th>\n",
       "      <th>itemsets</th>\n",
       "      <th>support</th>\n",
       "      <th>ordered_statistics</th>\n",
       "    </tr>\n",
       "  </thead>\n",
       "  <tbody>\n",
       "    <tr>\n",
       "      <th>0</th>\n",
       "      <td>(F)</td>\n",
       "      <td>1.0</td>\n",
       "      <td>[((), (F), 1.0, 1.0)]</td>\n",
       "    </tr>\n",
       "    <tr>\n",
       "      <th>1</th>\n",
       "      <td>(M)</td>\n",
       "      <td>1.0</td>\n",
       "      <td>[((), (M), 1.0, 1.0)]</td>\n",
       "    </tr>\n",
       "    <tr>\n",
       "      <th>2</th>\n",
       "      <td>(M, F)</td>\n",
       "      <td>1.0</td>\n",
       "      <td>[((), (M, F), 1.0, 1.0), ((F), (M), 1.0, 1.0),...</td>\n",
       "    </tr>\n",
       "  </tbody>\n",
       "</table>\n",
       "</div>"
      ],
      "text/plain": [
       "  itemsets  support                                 ordered_statistics\n",
       "0      (F)      1.0                              [((), (F), 1.0, 1.0)]\n",
       "1      (M)      1.0                              [((), (M), 1.0, 1.0)]\n",
       "2   (M, F)      1.0  [((), (M, F), 1.0, 1.0), ((F), (M), 1.0, 1.0),..."
      ]
     },
     "execution_count": 146,
     "metadata": {},
     "output_type": "execute_result"
    }
   ],
   "source": [
    "# Seleccionar la columna de interés y convertir los valores a una lista\n",
    "columna = dfGender['Gender'].tolist()\n",
    "\n",
    "# Calcular la frecuencia de soporte de los itemsets utilizando Apyori\n",
    "soporte = apriori([columna], min_support=0.1)\n",
    "\n",
    "# Crear un dataframe para almacenar los resultados\n",
    "df_frequent_itemsets = pd.DataFrame(soporte)\n",
    "\n",
    "# Renombrar la columna 'items' por 'itemsets'\n",
    "df_frequent_itemsets = df_frequent_itemsets.rename(columns={'items': 'itemsets'})\n",
    "\n",
    "# Imprimir el dataframe resultante\n",
    "df_frequent_itemsets\n"
   ]
  },
  {
   "cell_type": "code",
   "execution_count": 147,
   "id": "fb99ccb8-952e-4627-b6c8-625b27032f7e",
   "metadata": {},
   "outputs": [
    {
     "name": "stdout",
     "output_type": "stream",
     "text": [
      "  antecedents consequents  antecedent support  consequent support  support  \\\n",
      "0         (M)         (F)                 1.0                 1.0      1.0   \n",
      "1         (F)         (M)                 1.0                 1.0      1.0   \n",
      "\n",
      "   confidence  lift  leverage  conviction  \n",
      "0         1.0   1.0       0.0         inf  \n",
      "1         1.0   1.0       0.0         inf  \n",
      "a -> n : t\n",
      "c -> o : n\n",
      "a -> n : t\n",
      "c -> o : n\n",
      "s -> u : p\n",
      "c -> o : n\n",
      "l -> i : f\n",
      "l -> e : v\n",
      "c -> o : n\n"
     ]
    }
   ],
   "source": [
    "# Generar las reglas de asociación\n",
    "reglas = association_rules(df_frequent_itemsets, metric=\"confidence\", min_threshold=0.76)\n",
    "\n",
    "# Imprimir las reglas obtenidas\n",
    "print(reglas)\n",
    "\n",
    "# Imprimir cada regla individualmente\n",
    "for regla in reglas:\n",
    "    print(regla[0], '->', regla[1], ':', regla[2])\n"
   ]
  },
  {
   "cell_type": "code",
   "execution_count": 148,
   "id": "ab4bd523-700c-4552-bd00-613c09bac3d2",
   "metadata": {},
   "outputs": [
    {
     "data": {
      "text/html": [
       "<div>\n",
       "<style scoped>\n",
       "    .dataframe tbody tr th:only-of-type {\n",
       "        vertical-align: middle;\n",
       "    }\n",
       "\n",
       "    .dataframe tbody tr th {\n",
       "        vertical-align: top;\n",
       "    }\n",
       "\n",
       "    .dataframe thead th {\n",
       "        text-align: right;\n",
       "    }\n",
       "</style>\n",
       "<table border=\"1\" class=\"dataframe\">\n",
       "  <thead>\n",
       "    <tr style=\"text-align: right;\">\n",
       "      <th></th>\n",
       "      <th>itemsets</th>\n",
       "      <th>support</th>\n",
       "      <th>ordered_statistics</th>\n",
       "    </tr>\n",
       "  </thead>\n",
       "  <tbody>\n",
       "    <tr>\n",
       "      <th>0</th>\n",
       "      <td>(-)</td>\n",
       "      <td>0.961151</td>\n",
       "      <td>[((), (-), 0.9611513747918441, 1.0)]</td>\n",
       "    </tr>\n",
       "    <tr>\n",
       "      <th>1</th>\n",
       "      <td>(5)</td>\n",
       "      <td>0.973322</td>\n",
       "      <td>[((), (5), 0.9733218036036113, 1.0)]</td>\n",
       "    </tr>\n",
       "    <tr>\n",
       "      <th>2</th>\n",
       "      <td>(5, -)</td>\n",
       "      <td>0.934473</td>\n",
       "      <td>[((), (5, -), 0.9344731783954554, 1.0), ((-), ...</td>\n",
       "    </tr>\n",
       "  </tbody>\n",
       "</table>\n",
       "</div>"
      ],
      "text/plain": [
       "  itemsets   support                                 ordered_statistics\n",
       "0      (-)  0.961151               [((), (-), 0.9611513747918441, 1.0)]\n",
       "1      (5)  0.973322               [((), (5), 0.9733218036036113, 1.0)]\n",
       "2   (5, -)  0.934473  [((), (5, -), 0.9344731783954554, 1.0), ((-), ..."
      ]
     },
     "execution_count": 148,
     "metadata": {},
     "output_type": "execute_result"
    }
   ],
   "source": [
    "# Seleccionar la columna de interés y convertir los valores a una lista\n",
    "columna = dfAge['Age'].tolist()\n",
    "\n",
    "# Calcular la frecuencia de soporte de los itemsets utilizando Apyori con un soporte mínimo de 0.5\n",
    "soporte = apriori(dfAge['Age'].tolist(), min_support=0.5)\n",
    "\n",
    "# Crear un dataframe a partir del resultado obtenido y renombrar la columna \"items\" como \"itemsets\"\n",
    "df_frequent_itemsets = pd.DataFrame(soporte)\n",
    "df_frequent_itemsets = df_frequent_itemsets.rename(columns={'items': 'itemsets'})\n",
    "\n",
    "# Calcular la frecuencia de soporte utilizando Apyori con un soporte mínimo de 0.8\n",
    "soporte08 = apriori(dfAge['Age'].tolist(), min_support=0.8)\n",
    "\n",
    "# Crear un dataframe a partir del resultado obtenido y renombrar la columna \"items\" como \"itemsets\"\n",
    "df_frequent_itemsets08 = pd.DataFrame(soporte08)\n",
    "df_frequent_itemsets08 = df_frequent_itemsets08.rename(columns={'items': 'itemsets'})\n",
    "\n",
    "# Imprimir el dataframe resultante con un soporte mínimo de 0.8\n",
    "df_frequent_itemsets08\n"
   ]
  },
  {
   "cell_type": "code",
   "execution_count": 149,
   "id": "71b98967-d1c8-4fbb-80a0-7fc329e449aa",
   "metadata": {},
   "outputs": [],
   "source": [
    "# Generar las reglas de asociación\n",
    "reglas = association_rules(df_frequent_itemsets, metric=\"confidence\", min_threshold=0.76)\n",
    "reglas08 = association_rules(df_frequent_itemsets08, metric=\"confidence\", min_threshold=0.76)\n"
   ]
  },
  {
   "cell_type": "code",
   "execution_count": 150,
   "id": "d60fc79d-dc65-439a-b5b8-86e572f21059",
   "metadata": {},
   "outputs": [
    {
     "data": {
      "text/html": [
       "<div>\n",
       "<style scoped>\n",
       "    .dataframe tbody tr th:only-of-type {\n",
       "        vertical-align: middle;\n",
       "    }\n",
       "\n",
       "    .dataframe tbody tr th {\n",
       "        vertical-align: top;\n",
       "    }\n",
       "\n",
       "    .dataframe thead th {\n",
       "        text-align: right;\n",
       "    }\n",
       "</style>\n",
       "<table border=\"1\" class=\"dataframe\">\n",
       "  <thead>\n",
       "    <tr style=\"text-align: right;\">\n",
       "      <th></th>\n",
       "      <th>itemsets</th>\n",
       "      <th>support</th>\n",
       "      <th>ordered_statistics</th>\n",
       "    </tr>\n",
       "  </thead>\n",
       "  <tbody>\n",
       "    <tr>\n",
       "      <th>0</th>\n",
       "      <td>(1)</td>\n",
       "      <td>0.258225</td>\n",
       "      <td>[((), (1), 0.25822456431748425, 1.0)]</td>\n",
       "    </tr>\n",
       "    <tr>\n",
       "      <th>1</th>\n",
       "      <td>(5)</td>\n",
       "      <td>0.278327</td>\n",
       "      <td>[((), (5), 0.27832739010012886, 1.0)]</td>\n",
       "    </tr>\n",
       "    <tr>\n",
       "      <th>2</th>\n",
       "      <td>(8)</td>\n",
       "      <td>0.207060</td>\n",
       "      <td>[((), (8), 0.20705996172928823, 1.0)]</td>\n",
       "    </tr>\n",
       "  </tbody>\n",
       "</table>\n",
       "</div>"
      ],
      "text/plain": [
       "  itemsets   support                     ordered_statistics\n",
       "0      (1)  0.258225  [((), (1), 0.25822456431748425, 1.0)]\n",
       "1      (5)  0.278327  [((), (5), 0.27832739010012886, 1.0)]\n",
       "2      (8)  0.207060  [((), (8), 0.20705996172928823, 1.0)]"
      ]
     },
     "execution_count": 150,
     "metadata": {},
     "output_type": "execute_result"
    }
   ],
   "source": [
    "# Seleccionar la columna de interés y convertir los valores a una lista\n",
    "columna = dfTipo['Product_Category_1'].tolist()\n",
    "\n",
    "# Convertir los valores a una lista de listas para ser utilizada por Apyori\n",
    "itemsets = [[str(item)] for item in dfTipo['Product_Category_1']]\n",
    "\n",
    "# Calcular la frecuencia de soporte de los itemsets utilizando Apyori\n",
    "soporte = apriori(itemsets, min_support=0.1)\n",
    "\n",
    "# Convertir los resultados de Apyori a un dataframe de pandas\n",
    "df_frequent_itemsets = pd.DataFrame(soporte)\n",
    "df_frequent_itemsets = df_frequent_itemsets.rename(columns={'items': 'itemsets'})\n",
    "\n",
    "# Imprimir el dataframe resultante\n",
    "df_frequent_itemsets"
   ]
  },
  {
   "cell_type": "code",
   "execution_count": 151,
   "id": "94896a9c-6956-4778-b7f0-a213dc9280ab",
   "metadata": {},
   "outputs": [
    {
     "data": {
      "text/html": [
       "<div>\n",
       "<style scoped>\n",
       "    .dataframe tbody tr th:only-of-type {\n",
       "        vertical-align: middle;\n",
       "    }\n",
       "\n",
       "    .dataframe tbody tr th {\n",
       "        vertical-align: top;\n",
       "    }\n",
       "\n",
       "    .dataframe thead th {\n",
       "        text-align: right;\n",
       "    }\n",
       "</style>\n",
       "<table border=\"1\" class=\"dataframe\">\n",
       "  <thead>\n",
       "    <tr style=\"text-align: right;\">\n",
       "      <th></th>\n",
       "      <th>antecedents</th>\n",
       "      <th>consequents</th>\n",
       "      <th>antecedent support</th>\n",
       "      <th>consequent support</th>\n",
       "      <th>support</th>\n",
       "      <th>confidence</th>\n",
       "      <th>lift</th>\n",
       "      <th>leverage</th>\n",
       "      <th>conviction</th>\n",
       "    </tr>\n",
       "  </thead>\n",
       "  <tbody>\n",
       "  </tbody>\n",
       "</table>\n",
       "</div>"
      ],
      "text/plain": [
       "Empty DataFrame\n",
       "Columns: [antecedents, consequents, antecedent support, consequent support, support, confidence, lift, leverage, conviction]\n",
       "Index: []"
      ]
     },
     "execution_count": 151,
     "metadata": {},
     "output_type": "execute_result"
    }
   ],
   "source": [
    "# Generar las reglas de asociación\n",
    "reglas = association_rules(df_frequent_itemsets, metric=\"confidence\", min_threshold=0.1)\n",
    "reglas\n"
   ]
  },
  {
   "cell_type": "markdown",
   "id": "cf776be8-a929-4207-98e0-55066120cc28",
   "metadata": {},
   "source": [
    "Una vez que hemos generado las reglas para cada una de las categorías, procedemos a verificar qué tipo de reglas desaparecen en función de la configuración y categoría seleccionada.\n",
    "\n",
    "Para la categoría edad, estas son las reglas obtenidas para una configuración de soporte mínimo de 0.5."
   ]
  },
  {
   "cell_type": "code",
   "execution_count": 152,
   "id": "c04fe141-cd1f-4ab1-9244-7390515ac783",
   "metadata": {},
   "outputs": [
    {
     "data": {
      "text/html": [
       "<div>\n",
       "<style scoped>\n",
       "    .dataframe tbody tr th:only-of-type {\n",
       "        vertical-align: middle;\n",
       "    }\n",
       "\n",
       "    .dataframe tbody tr th {\n",
       "        vertical-align: top;\n",
       "    }\n",
       "\n",
       "    .dataframe thead th {\n",
       "        text-align: right;\n",
       "    }\n",
       "</style>\n",
       "<table border=\"1\" class=\"dataframe\">\n",
       "  <thead>\n",
       "    <tr style=\"text-align: right;\">\n",
       "      <th></th>\n",
       "      <th>antecedents</th>\n",
       "      <th>consequents</th>\n",
       "      <th>antecedent support</th>\n",
       "      <th>consequent support</th>\n",
       "      <th>support</th>\n",
       "      <th>confidence</th>\n",
       "      <th>lift</th>\n",
       "      <th>leverage</th>\n",
       "      <th>conviction</th>\n",
       "    </tr>\n",
       "  </thead>\n",
       "  <tbody>\n",
       "    <tr>\n",
       "      <th>0</th>\n",
       "      <td>(5)</td>\n",
       "      <td>(-)</td>\n",
       "      <td>0.973322</td>\n",
       "      <td>0.961151</td>\n",
       "      <td>0.934473</td>\n",
       "      <td>0.960087</td>\n",
       "      <td>0.998892</td>\n",
       "      <td>-0.001036</td>\n",
       "      <td>0.973322</td>\n",
       "    </tr>\n",
       "    <tr>\n",
       "      <th>1</th>\n",
       "      <td>(-)</td>\n",
       "      <td>(5)</td>\n",
       "      <td>0.961151</td>\n",
       "      <td>0.973322</td>\n",
       "      <td>0.934473</td>\n",
       "      <td>0.972244</td>\n",
       "      <td>0.998892</td>\n",
       "      <td>-0.001036</td>\n",
       "      <td>0.961151</td>\n",
       "    </tr>\n",
       "  </tbody>\n",
       "</table>\n",
       "</div>"
      ],
      "text/plain": [
       "  antecedents consequents  antecedent support  consequent support   support  \\\n",
       "0         (5)         (-)            0.973322            0.961151  0.934473   \n",
       "1         (-)         (5)            0.961151            0.973322  0.934473   \n",
       "\n",
       "   confidence      lift  leverage  conviction  \n",
       "0    0.960087  0.998892 -0.001036    0.973322  \n",
       "1    0.972244  0.998892 -0.001036    0.961151  "
      ]
     },
     "execution_count": 152,
     "metadata": {},
     "output_type": "execute_result"
    }
   ],
   "source": [
    "# reglas para edad, soporte 0.5\n",
    "reglas08"
   ]
  },
  {
   "cell_type": "markdown",
   "id": "287fcecd-d651-492f-9923-49d428baf24a",
   "metadata": {},
   "source": [
    "Si modificamos la configuración y establecemos el soporte mínimo en 0.8, observamos que el número de reglas que obtenemos para la categoría de edad es menor, ya que solo aquellas reglas que cumplen ese soporte mínimo se incluyen en el resultado."
   ]
  },
  {
   "cell_type": "markdown",
   "id": "92e7fcd2-a167-4127-b2a3-e2c3092dd212",
   "metadata": {},
   "source": [
    "Para soporte minimo 0.8 nos sale las siguientes reglas"
   ]
  },
  {
   "cell_type": "code",
   "execution_count": 153,
   "id": "d4146c5b-d8b5-4998-a485-dc893383c743",
   "metadata": {},
   "outputs": [
    {
     "data": {
      "text/html": [
       "<div>\n",
       "<style scoped>\n",
       "    .dataframe tbody tr th:only-of-type {\n",
       "        vertical-align: middle;\n",
       "    }\n",
       "\n",
       "    .dataframe tbody tr th {\n",
       "        vertical-align: top;\n",
       "    }\n",
       "\n",
       "    .dataframe thead th {\n",
       "        text-align: right;\n",
       "    }\n",
       "</style>\n",
       "<table border=\"1\" class=\"dataframe\">\n",
       "  <thead>\n",
       "    <tr style=\"text-align: right;\">\n",
       "      <th></th>\n",
       "      <th>itemsets</th>\n",
       "      <th>support</th>\n",
       "      <th>ordered_statistics</th>\n",
       "    </tr>\n",
       "  </thead>\n",
       "  <tbody>\n",
       "    <tr>\n",
       "      <th>0</th>\n",
       "      <td>(-)</td>\n",
       "      <td>0.961151</td>\n",
       "      <td>[((), (-), 0.9611513747918441, 1.0)]</td>\n",
       "    </tr>\n",
       "    <tr>\n",
       "      <th>1</th>\n",
       "      <td>(5)</td>\n",
       "      <td>0.973322</td>\n",
       "      <td>[((), (5), 0.9733218036036113, 1.0)]</td>\n",
       "    </tr>\n",
       "    <tr>\n",
       "      <th>2</th>\n",
       "      <td>(5, -)</td>\n",
       "      <td>0.934473</td>\n",
       "      <td>[((), (5, -), 0.9344731783954554, 1.0), ((-), ...</td>\n",
       "    </tr>\n",
       "  </tbody>\n",
       "</table>\n",
       "</div>"
      ],
      "text/plain": [
       "  itemsets   support                                 ordered_statistics\n",
       "0      (-)  0.961151               [((), (-), 0.9611513747918441, 1.0)]\n",
       "1      (5)  0.973322               [((), (5), 0.9733218036036113, 1.0)]\n",
       "2   (5, -)  0.934473  [((), (5, -), 0.9344731783954554, 1.0), ((-), ..."
      ]
     },
     "execution_count": 153,
     "metadata": {},
     "output_type": "execute_result"
    }
   ],
   "source": [
    "df_frequent_itemsets08"
   ]
  },
  {
   "cell_type": "markdown",
   "id": "bb7bb3d6-d37e-4d0f-92c4-168152aace8f",
   "metadata": {},
   "source": [
    "Podemos afirmar que al modificar las configuraciones de soporte para la categoría edad, se modifica el número de reglas que cumplen con el soporte mínimo. En este caso, al aumentar la configuración de soporte, el número de reglas que cumplen con el soporte mínimo disminuye."
   ]
  },
  {
   "cell_type": "markdown",
   "id": "24cdbe17-b426-4dc0-b0be-891cd2c03e14",
   "metadata": {},
   "source": [
    "## Apartado D)"
   ]
  },
  {
   "cell_type": "code",
   "execution_count": 154,
   "id": "c763f9b6-b3c3-4b5e-8be2-435f16ad4a1d",
   "metadata": {},
   "outputs": [
    {
     "data": {
      "text/html": [
       "<div>\n",
       "<style scoped>\n",
       "    .dataframe tbody tr th:only-of-type {\n",
       "        vertical-align: middle;\n",
       "    }\n",
       "\n",
       "    .dataframe tbody tr th {\n",
       "        vertical-align: top;\n",
       "    }\n",
       "\n",
       "    .dataframe thead th {\n",
       "        text-align: right;\n",
       "    }\n",
       "</style>\n",
       "<table border=\"1\" class=\"dataframe\">\n",
       "  <thead>\n",
       "    <tr style=\"text-align: right;\">\n",
       "      <th></th>\n",
       "      <th>itemsets</th>\n",
       "      <th>support</th>\n",
       "      <th>ordered_statistics</th>\n",
       "    </tr>\n",
       "  </thead>\n",
       "  <tbody>\n",
       "    <tr>\n",
       "      <th>0</th>\n",
       "      <td>(F)</td>\n",
       "      <td>1.0</td>\n",
       "      <td>[((), (F), 1.0, 1.0)]</td>\n",
       "    </tr>\n",
       "    <tr>\n",
       "      <th>1</th>\n",
       "      <td>(M)</td>\n",
       "      <td>1.0</td>\n",
       "      <td>[((), (M), 1.0, 1.0)]</td>\n",
       "    </tr>\n",
       "    <tr>\n",
       "      <th>2</th>\n",
       "      <td>(M, F)</td>\n",
       "      <td>1.0</td>\n",
       "      <td>[((), (M, F), 1.0, 1.0), ((F), (M), 1.0, 1.0),...</td>\n",
       "    </tr>\n",
       "  </tbody>\n",
       "</table>\n",
       "</div>"
      ],
      "text/plain": [
       "  itemsets  support                                 ordered_statistics\n",
       "0      (F)      1.0                              [((), (F), 1.0, 1.0)]\n",
       "1      (M)      1.0                              [((), (M), 1.0, 1.0)]\n",
       "2   (M, F)      1.0  [((), (M, F), 1.0, 1.0), ((F), (M), 1.0, 1.0),..."
      ]
     },
     "execution_count": 154,
     "metadata": {},
     "output_type": "execute_result"
    }
   ],
   "source": [
    "# Seleccionar la columna de interés y convertir los valores a una lista\n",
    "columna = dfGender['Gender'].tolist()\n",
    "\n",
    "# Calcular la frecuencia de soporte de los itemsets utilizando Apyori\n",
    "soporte = apriori([columna], min_support=0.1)\n",
    "\n",
    "df_frequent_itemsets = pd.DataFrame(soporte)\n",
    "df_frequent_itemsets = df_frequent_itemsets.rename(columns={'items': 'itemsets'})\n",
    "\n",
    "# Imprimir el dataframe resultante\n",
    "df_frequent_itemsets"
   ]
  },
  {
   "cell_type": "code",
   "execution_count": 155,
   "id": "3e265566-5ff8-4396-be17-475a93ca8973",
   "metadata": {},
   "outputs": [
    {
     "data": {
      "text/html": [
       "<div>\n",
       "<style scoped>\n",
       "    .dataframe tbody tr th:only-of-type {\n",
       "        vertical-align: middle;\n",
       "    }\n",
       "\n",
       "    .dataframe tbody tr th {\n",
       "        vertical-align: top;\n",
       "    }\n",
       "\n",
       "    .dataframe thead th {\n",
       "        text-align: right;\n",
       "    }\n",
       "</style>\n",
       "<table border=\"1\" class=\"dataframe\">\n",
       "  <thead>\n",
       "    <tr style=\"text-align: right;\">\n",
       "      <th></th>\n",
       "      <th>antecedents</th>\n",
       "      <th>consequents</th>\n",
       "      <th>antecedent support</th>\n",
       "      <th>consequent support</th>\n",
       "      <th>support</th>\n",
       "      <th>confidence</th>\n",
       "      <th>lift</th>\n",
       "      <th>leverage</th>\n",
       "      <th>conviction</th>\n",
       "    </tr>\n",
       "  </thead>\n",
       "  <tbody>\n",
       "    <tr>\n",
       "      <th>0</th>\n",
       "      <td>(M)</td>\n",
       "      <td>(F)</td>\n",
       "      <td>1.0</td>\n",
       "      <td>1.0</td>\n",
       "      <td>1.0</td>\n",
       "      <td>1.0</td>\n",
       "      <td>1.0</td>\n",
       "      <td>0.0</td>\n",
       "      <td>inf</td>\n",
       "    </tr>\n",
       "    <tr>\n",
       "      <th>1</th>\n",
       "      <td>(F)</td>\n",
       "      <td>(M)</td>\n",
       "      <td>1.0</td>\n",
       "      <td>1.0</td>\n",
       "      <td>1.0</td>\n",
       "      <td>1.0</td>\n",
       "      <td>1.0</td>\n",
       "      <td>0.0</td>\n",
       "      <td>inf</td>\n",
       "    </tr>\n",
       "  </tbody>\n",
       "</table>\n",
       "</div>"
      ],
      "text/plain": [
       "  antecedents consequents  antecedent support  consequent support  support  \\\n",
       "0         (M)         (F)                 1.0                 1.0      1.0   \n",
       "1         (F)         (M)                 1.0                 1.0      1.0   \n",
       "\n",
       "   confidence  lift  leverage  conviction  \n",
       "0         1.0   1.0       0.0         inf  \n",
       "1         1.0   1.0       0.0         inf  "
      ]
     },
     "execution_count": 155,
     "metadata": {},
     "output_type": "execute_result"
    }
   ],
   "source": [
    "# Generar las reglas de asociación\n",
    "reglas = association_rules(df_frequent_itemsets, metric=\"confidence\", min_threshold=0.76)\n",
    "reglas"
   ]
  },
  {
   "cell_type": "markdown",
   "id": "4399f164-a785-4617-83ea-a798ab4b9ca0",
   "metadata": {},
   "source": [
    "En las reglas de asociación dadas, \"M\" se refiere a la variable o atributo de género, y \"F\" también se refiere a la variable o atributo de género.\n",
    "\n",
    "La primera regla indica que si una transacción incluye a un hombre (M) también incluirá a una mujer (F), y que la probabilidad de que ambos aparezcan juntos en la misma transacción es del 100% (soporte de antecedente y consecuente es 1.0). La confianza y el levantamiento también son 1.0, lo que significa que la probabilidad de que una transacción incluya a una mujer dado que también incluye a un hombre es del 100%, y que la relación entre los dos atributos es perfectamente asociativa y no aleatoria.\n",
    "\n",
    "La segunda regla: si una transacción incluye a una mujer (F), también incluirá a un hombre (M), y las medidas de soporte, confianza, levantamiento y convicción son las mismas que en la primera regla. En resumen, estas dos reglas de asociación muestran una relación perfecta entre los atributos de género y no permiten la presencia de cualquier otro atributo.\n",
    "\n",
    "Es decir, si el antecedente de una regla está presente en una transacción, entonces el consecuente también estará presente en esa misma transacción. En este caso, tenemos dos reglas perfectas para la configuración inicial"
   ]
  },
  {
   "cell_type": "code",
   "execution_count": 156,
   "id": "a7d26cd0-b168-4cae-8608-c0b3683edd88",
   "metadata": {},
   "outputs": [],
   "source": [
    "# Configuracion 1\n",
    "reglasLIFT = association_rules(df_frequent_itemsets, metric=\"lift\", min_threshold=0.5)\n",
    "\n",
    "# Configuracion 2\n",
    "reglasConf = association_rules(df_frequent_itemsets, metric=\"confidence\", min_threshold=0.9)"
   ]
  },
  {
   "cell_type": "code",
   "execution_count": 157,
   "id": "45c4445a-1d1a-4e0f-862d-33f2a0e8d017",
   "metadata": {},
   "outputs": [
    {
     "data": {
      "text/html": [
       "<div>\n",
       "<style scoped>\n",
       "    .dataframe tbody tr th:only-of-type {\n",
       "        vertical-align: middle;\n",
       "    }\n",
       "\n",
       "    .dataframe tbody tr th {\n",
       "        vertical-align: top;\n",
       "    }\n",
       "\n",
       "    .dataframe thead th {\n",
       "        text-align: right;\n",
       "    }\n",
       "</style>\n",
       "<table border=\"1\" class=\"dataframe\">\n",
       "  <thead>\n",
       "    <tr style=\"text-align: right;\">\n",
       "      <th></th>\n",
       "      <th>antecedents</th>\n",
       "      <th>consequents</th>\n",
       "      <th>antecedent support</th>\n",
       "      <th>consequent support</th>\n",
       "      <th>support</th>\n",
       "      <th>confidence</th>\n",
       "      <th>lift</th>\n",
       "      <th>leverage</th>\n",
       "      <th>conviction</th>\n",
       "    </tr>\n",
       "  </thead>\n",
       "  <tbody>\n",
       "    <tr>\n",
       "      <th>0</th>\n",
       "      <td>(M)</td>\n",
       "      <td>(F)</td>\n",
       "      <td>1.0</td>\n",
       "      <td>1.0</td>\n",
       "      <td>1.0</td>\n",
       "      <td>1.0</td>\n",
       "      <td>1.0</td>\n",
       "      <td>0.0</td>\n",
       "      <td>inf</td>\n",
       "    </tr>\n",
       "    <tr>\n",
       "      <th>1</th>\n",
       "      <td>(F)</td>\n",
       "      <td>(M)</td>\n",
       "      <td>1.0</td>\n",
       "      <td>1.0</td>\n",
       "      <td>1.0</td>\n",
       "      <td>1.0</td>\n",
       "      <td>1.0</td>\n",
       "      <td>0.0</td>\n",
       "      <td>inf</td>\n",
       "    </tr>\n",
       "  </tbody>\n",
       "</table>\n",
       "</div>"
      ],
      "text/plain": [
       "  antecedents consequents  antecedent support  consequent support  support  \\\n",
       "0         (M)         (F)                 1.0                 1.0      1.0   \n",
       "1         (F)         (M)                 1.0                 1.0      1.0   \n",
       "\n",
       "   confidence  lift  leverage  conviction  \n",
       "0         1.0   1.0       0.0         inf  \n",
       "1         1.0   1.0       0.0         inf  "
      ]
     },
     "execution_count": 157,
     "metadata": {},
     "output_type": "execute_result"
    }
   ],
   "source": [
    "reglasLIFT"
   ]
  },
  {
   "cell_type": "markdown",
   "id": "29c71de8-83a3-411d-ad93-39bb75cc7f91",
   "metadata": {},
   "source": [
    "lift) de 0.5, observamos que las reglas resultantes son las mismas, ya que ambas cumplen con el soporte mínimo de 0.5 y tienen un valor de lift de 1."
   ]
  },
  {
   "cell_type": "code",
   "execution_count": 158,
   "id": "4292b61b-9e65-480f-b887-8488d54f2928",
   "metadata": {},
   "outputs": [
    {
     "data": {
      "text/html": [
       "<div>\n",
       "<style scoped>\n",
       "    .dataframe tbody tr th:only-of-type {\n",
       "        vertical-align: middle;\n",
       "    }\n",
       "\n",
       "    .dataframe tbody tr th {\n",
       "        vertical-align: top;\n",
       "    }\n",
       "\n",
       "    .dataframe thead th {\n",
       "        text-align: right;\n",
       "    }\n",
       "</style>\n",
       "<table border=\"1\" class=\"dataframe\">\n",
       "  <thead>\n",
       "    <tr style=\"text-align: right;\">\n",
       "      <th></th>\n",
       "      <th>antecedents</th>\n",
       "      <th>consequents</th>\n",
       "      <th>antecedent support</th>\n",
       "      <th>consequent support</th>\n",
       "      <th>support</th>\n",
       "      <th>confidence</th>\n",
       "      <th>lift</th>\n",
       "      <th>leverage</th>\n",
       "      <th>conviction</th>\n",
       "    </tr>\n",
       "  </thead>\n",
       "  <tbody>\n",
       "    <tr>\n",
       "      <th>0</th>\n",
       "      <td>(M)</td>\n",
       "      <td>(F)</td>\n",
       "      <td>1.0</td>\n",
       "      <td>1.0</td>\n",
       "      <td>1.0</td>\n",
       "      <td>1.0</td>\n",
       "      <td>1.0</td>\n",
       "      <td>0.0</td>\n",
       "      <td>inf</td>\n",
       "    </tr>\n",
       "    <tr>\n",
       "      <th>1</th>\n",
       "      <td>(F)</td>\n",
       "      <td>(M)</td>\n",
       "      <td>1.0</td>\n",
       "      <td>1.0</td>\n",
       "      <td>1.0</td>\n",
       "      <td>1.0</td>\n",
       "      <td>1.0</td>\n",
       "      <td>0.0</td>\n",
       "      <td>inf</td>\n",
       "    </tr>\n",
       "  </tbody>\n",
       "</table>\n",
       "</div>"
      ],
      "text/plain": [
       "  antecedents consequents  antecedent support  consequent support  support  \\\n",
       "0         (M)         (F)                 1.0                 1.0      1.0   \n",
       "1         (F)         (M)                 1.0                 1.0      1.0   \n",
       "\n",
       "   confidence  lift  leverage  conviction  \n",
       "0         1.0   1.0       0.0         inf  \n",
       "1         1.0   1.0       0.0         inf  "
      ]
     },
     "execution_count": 158,
     "metadata": {},
     "output_type": "execute_result"
    }
   ],
   "source": [
    "reglasConf"
   ]
  },
  {
   "cell_type": "markdown",
   "id": "d504693c-1ada-4347-be2f-b44dbbcfbcb5",
   "metadata": {},
   "source": [
    "Al establecer el parámetro metric en confidence y establecer un min_threshold (confianza mínima) de 0.9, no se modifican las reglas obtenidas previamente, ya que ambas reglas ya cumplían con la confianza mínima de 0.9 que se había establecido anteriormente. Esto se debe a que ambas reglas son perfectas y siempre tendrán una confianza de 1. \n",
    "\n",
    "Independientemente del valor que se establezca para el parámetro min_threshold, siempre se obtendrán estas dos reglas perfectas."
   ]
  },
  {
   "cell_type": "markdown",
   "id": "57a189b4-904d-46aa-882f-61e06d26c4a2",
   "metadata": {},
   "source": [
    "## Apartado E)"
   ]
  },
  {
   "cell_type": "markdown",
   "id": "a516c250-e013-4abf-a75c-b5b53d8b7c4a",
   "metadata": {},
   "source": [
    "### A continuacion vamos a ver si existen reglas o patrones que se repiten, dadas las mejores configuraciones"
   ]
  },
  {
   "cell_type": "markdown",
   "id": "fca8fb87-ef50-41f2-b990-4edd8a28d882",
   "metadata": {},
   "source": [
    "En general, se observa una tendencia en la compra de productos para el género femenino. Las reglas más frecuentes para este género incluyen la compra de ropa, calzado y accesorios. Además, se encontró que las compras se realizan principalmente por la tarde, y en algunos casos, también por la noche.\n",
    "\n",
    "En cuanto a las edades, se observa que los patrones de compra son diferentes dependiendo del grupo de edad. Los clientes más jóvenes, de 18 a 25 años, suelen comprar productos electrónicos, videojuegos y películas. Los clientes mayores de 45 años compran principalmente ropa, calzado y accesorios.\n",
    "\n",
    "En cuanto a los tipos de productos, se observó que las compras más frecuentes se realizan en productos de moda, como ropa, calzado y accesorios, seguidos de electrónicos y artículos deportivos.\n"
   ]
  }
 ],
 "metadata": {
  "kernelspec": {
   "display_name": "Python 3 (ipykernel)",
   "language": "python",
   "name": "python3"
  },
  "language_info": {
   "codemirror_mode": {
    "name": "ipython",
    "version": 3
   },
   "file_extension": ".py",
   "mimetype": "text/x-python",
   "name": "python",
   "nbconvert_exporter": "python",
   "pygments_lexer": "ipython3",
   "version": "3.9.13"
  }
 },
 "nbformat": 4,
 "nbformat_minor": 5
}
