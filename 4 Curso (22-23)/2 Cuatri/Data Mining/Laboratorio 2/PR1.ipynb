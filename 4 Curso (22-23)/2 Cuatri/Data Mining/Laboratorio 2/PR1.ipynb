{
 "cells": [
  {
   "cell_type": "markdown",
   "id": "d6bccc69-2723-40c9-b252-e1f2a963bdf3",
   "metadata": {},
   "source": [
    "# Práctica 1"
   ]
  },
  {
   "cell_type": "code",
   "execution_count": 8,
   "id": "84f325df-8ee8-4abe-8d5d-d1a26eb4f16a",
   "metadata": {},
   "outputs": [],
   "source": [
    "from apyori import apriori\n",
    "import pandas as pd"
   ]
  },
  {
   "cell_type": "code",
   "execution_count": 10,
   "id": "7dd5884e-c1fa-49ee-9b3d-36f4eb8a6a5b",
   "metadata": {},
   "outputs": [],
   "source": [
    "df = pd.read_csv('./datasetlab2/BlackFriday.csv')"
   ]
  },
  {
   "cell_type": "code",
   "execution_count": null,
   "id": "7f1415c4-3ddd-4ebf-abf2-f9bfc284e672",
   "metadata": {},
   "outputs": [],
   "source": [
    "sdf\n"
   ]
  },
  {
   "cell_type": "code",
   "execution_count": null,
   "id": "3366deef-0d4f-489d-9389-6c36ff4f4b79",
   "metadata": {},
   "outputs": [],
   "source": [
    "\n"
   ]
  },
  {
   "cell_type": "code",
   "execution_count": null,
   "id": "bae948be-1bed-4fcb-ba2b-867eb63e06ce",
   "metadata": {},
   "outputs": [],
   "source": []
  }
 ],
 "metadata": {
  "kernelspec": {
   "display_name": "Python 3 (ipykernel)",
   "language": "python",
   "name": "python3"
  },
  "language_info": {
   "codemirror_mode": {
    "name": "ipython",
    "version": 3
   },
   "file_extension": ".py",
   "mimetype": "text/x-python",
   "name": "python",
   "nbconvert_exporter": "python",
   "pygments_lexer": "ipython3",
   "version": "3.9.13"
  }
 },
 "nbformat": 4,
 "nbformat_minor": 5
}
