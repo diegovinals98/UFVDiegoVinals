{
 "cells": [
  {
   "cell_type": "markdown",
   "id": "99732e88-f6f8-4365-9b7b-9eae026be581",
   "metadata": {
    "tags": []
   },
   "source": [
    "# Prueba Laboratorio"
   ]
  },
  {
   "cell_type": "code",
   "execution_count": 2,
   "id": "58a64fbd-6f91-4cdc-8d0b-e646f176ea68",
   "metadata": {},
   "outputs": [
    {
     "name": "stdout",
     "output_type": "stream",
     "text": [
      "<class 'int'>\n"
     ]
    }
   ],
   "source": [
    "x = 2\n",
    "print(type(x))"
   ]
  },
  {
   "cell_type": "code",
   "execution_count": 3,
   "id": "6a24f5fd-e9b8-4864-9652-4f4f3cd3fc78",
   "metadata": {},
   "outputs": [],
   "source": [
    "def suma (x,y):\n",
    "    return x + y"
   ]
  },
  {
   "cell_type": "code",
   "execution_count": 5,
   "id": "e49a26d1-f6ba-45fd-9e8b-f2d0ec82d93a",
   "metadata": {},
   "outputs": [
    {
     "data": {
      "text/plain": [
       "12"
      ]
     },
     "execution_count": 5,
     "metadata": {},
     "output_type": "execute_result"
    }
   ],
   "source": [
    "x = 10\n",
    "y = 2\n",
    "suma (x,y)"
   ]
  },
  {
   "cell_type": "code",
   "execution_count": null,
   "id": "b7b9313b-6c7d-4950-aa5c-d8e5ec53487f",
   "metadata": {},
   "outputs": [],
   "source": []
  }
 ],
 "metadata": {
  "kernelspec": {
   "display_name": "Python 3 (ipykernel)",
   "language": "python",
   "name": "python3"
  },
  "language_info": {
   "codemirror_mode": {
    "name": "ipython",
    "version": 3
   },
   "file_extension": ".py",
   "mimetype": "text/x-python",
   "name": "python",
   "nbconvert_exporter": "python",
   "pygments_lexer": "ipython3",
   "version": "3.9.13"
  }
 },
 "nbformat": 4,
 "nbformat_minor": 5
}
