{
 "cells": [
  {
   "cell_type": "markdown",
   "id": "f4f777d6-cf6e-4cd1-885b-43b7f49f730d",
   "metadata": {},
   "source": [
    "# Práctica Final"
   ]
  },
  {
   "cell_type": "markdown",
   "id": "b2279a29-e458-49e2-a91e-83ed5a7f404d",
   "metadata": {},
   "source": [
    "Integrantes: Diego Viñals, Ignacio Tejero, Miguel Ángel Lobo"
   ]
  },
  {
   "cell_type": "markdown",
   "id": "2ba4fb66-f34a-449c-abbc-57abfd8c0c86",
   "metadata": {},
   "source": [
    "## El objetivo de esta práctica es investigar la variación del crimen en función de eventos deportivos en Estados Unidos. Nos centraremos en la evolución del crimen en la ciudad de Boston en relación con los partidos de la NBA que se jugaron en la capital de Massachusetts.\n",
    "## Nuestro grupo sostendrá la hipótesis de que los eventos deportivos pueden aumentar la inseguridad en las calles, lo que podría llevar a un aumento de la criminalidad."
   ]
  },
  {
   "cell_type": "code",
   "execution_count": 939,
   "id": "e9183168-1c97-4814-a9f3-38925fe04260",
   "metadata": {},
   "outputs": [],
   "source": [
    "# Importamos las librerias necesarias para poder depurar el dataset\n",
    "import pandas as pd\n",
    "import numpy as np\n",
    "import matplotlib.pyplot as plt\n",
    "%matplotlib inline\n",
    "import warnings\n",
    "warnings.filterwarnings('ignore')\n",
    "import plotly.express as px\n",
    "import plotly.graph_objects as go\n",
    "from plotly.subplots import make_subplots"
   ]
  },
  {
   "cell_type": "markdown",
   "id": "52e920e2-39d1-4dad-b0d0-cf0968f210a9",
   "metadata": {},
   "source": [
    "#### Importamos los dos datasets que vamos a utilizar, game.csv, que contiene un listado de todos los partidos de la NBA desde la temporada inaugural 1946/1947. El otro, csv_2017_2022.csv, contiene un listado de todos los datos de criminalidad de la ciudad de Boston desde el año 2017 hasta el año 2022"
   ]
  },
  {
   "cell_type": "code",
   "execution_count": 942,
   "id": "310b2df3-613e-4ae9-a5e2-c7327191eed1",
   "metadata": {},
   "outputs": [
    {
     "data": {
      "text/html": [
       "<div>\n",
       "<style scoped>\n",
       "    .dataframe tbody tr th:only-of-type {\n",
       "        vertical-align: middle;\n",
       "    }\n",
       "\n",
       "    .dataframe tbody tr th {\n",
       "        vertical-align: top;\n",
       "    }\n",
       "\n",
       "    .dataframe thead th {\n",
       "        text-align: right;\n",
       "    }\n",
       "</style>\n",
       "<table border=\"1\" class=\"dataframe\">\n",
       "  <thead>\n",
       "    <tr style=\"text-align: right;\">\n",
       "      <th></th>\n",
       "      <th>Unnamed: 0</th>\n",
       "      <th>INCIDENT_NUMBER</th>\n",
       "      <th>OFFENSE_CODE</th>\n",
       "      <th>OFFENSE_CODE_GROUP</th>\n",
       "      <th>OFFENSE_DESCRIPTION</th>\n",
       "      <th>DISTRICT</th>\n",
       "      <th>REPORTING_AREA</th>\n",
       "      <th>SHOOTING</th>\n",
       "      <th>OCCURRED_ON_DATE</th>\n",
       "      <th>YEAR</th>\n",
       "      <th>MONTH</th>\n",
       "      <th>DAY_OF_WEEK</th>\n",
       "      <th>HOUR</th>\n",
       "      <th>UCR_PART</th>\n",
       "      <th>STREET</th>\n",
       "      <th>Lat</th>\n",
       "      <th>Long</th>\n",
       "      <th>Location</th>\n",
       "    </tr>\n",
       "  </thead>\n",
       "  <tbody>\n",
       "    <tr>\n",
       "      <th>0</th>\n",
       "      <td>0</td>\n",
       "      <td>225520077</td>\n",
       "      <td>3126</td>\n",
       "      <td>NaN</td>\n",
       "      <td>WARRANT ARREST - OUTSIDE OF BOSTON WARRANT</td>\n",
       "      <td>D14</td>\n",
       "      <td>786</td>\n",
       "      <td>0</td>\n",
       "      <td>2022-02-02 00:00:00</td>\n",
       "      <td>2022</td>\n",
       "      <td>2</td>\n",
       "      <td>Wednesday</td>\n",
       "      <td>0</td>\n",
       "      <td>NaN</td>\n",
       "      <td>WASHINGTON ST</td>\n",
       "      <td>42.343081</td>\n",
       "      <td>-71.141723</td>\n",
       "      <td>(42.34308127134165, -71.14172267328729)</td>\n",
       "    </tr>\n",
       "    <tr>\n",
       "      <th>1</th>\n",
       "      <td>1</td>\n",
       "      <td>222648862</td>\n",
       "      <td>3831</td>\n",
       "      <td>NaN</td>\n",
       "      <td>M/V - LEAVING SCENE - PROPERTY DAMAGE</td>\n",
       "      <td>B2</td>\n",
       "      <td>288</td>\n",
       "      <td>0</td>\n",
       "      <td>2022-02-05 18:25:00</td>\n",
       "      <td>2022</td>\n",
       "      <td>2</td>\n",
       "      <td>Saturday</td>\n",
       "      <td>18</td>\n",
       "      <td>NaN</td>\n",
       "      <td>WASHINGTON ST</td>\n",
       "      <td>42.329748</td>\n",
       "      <td>-71.084540</td>\n",
       "      <td>(42.329748204791635, -71.08454011649543)</td>\n",
       "    </tr>\n",
       "    <tr>\n",
       "      <th>2</th>\n",
       "      <td>2</td>\n",
       "      <td>222201764</td>\n",
       "      <td>724</td>\n",
       "      <td>NaN</td>\n",
       "      <td>AUTO THEFT</td>\n",
       "      <td>C6</td>\n",
       "      <td>200</td>\n",
       "      <td>0</td>\n",
       "      <td>2022-01-09 00:00:00</td>\n",
       "      <td>2022</td>\n",
       "      <td>1</td>\n",
       "      <td>Sunday</td>\n",
       "      <td>0</td>\n",
       "      <td>NaN</td>\n",
       "      <td>W BROADWAY</td>\n",
       "      <td>42.341288</td>\n",
       "      <td>-71.054679</td>\n",
       "      <td>(42.341287504390436, -71.05467932649397)</td>\n",
       "    </tr>\n",
       "    <tr>\n",
       "      <th>3</th>\n",
       "      <td>3</td>\n",
       "      <td>222201559</td>\n",
       "      <td>301</td>\n",
       "      <td>NaN</td>\n",
       "      <td>ROBBERY</td>\n",
       "      <td>D4</td>\n",
       "      <td></td>\n",
       "      <td>0</td>\n",
       "      <td>2022-03-05 13:00:00</td>\n",
       "      <td>2022</td>\n",
       "      <td>3</td>\n",
       "      <td>Saturday</td>\n",
       "      <td>13</td>\n",
       "      <td>NaN</td>\n",
       "      <td>ALBANY ST</td>\n",
       "      <td>42.333184</td>\n",
       "      <td>-71.073939</td>\n",
       "      <td>(42.333184490911954, -71.07393881002383)</td>\n",
       "    </tr>\n",
       "    <tr>\n",
       "      <th>4</th>\n",
       "      <td>4</td>\n",
       "      <td>222111641</td>\n",
       "      <td>619</td>\n",
       "      <td>NaN</td>\n",
       "      <td>LARCENY ALL OTHERS</td>\n",
       "      <td>D14</td>\n",
       "      <td>778</td>\n",
       "      <td>0</td>\n",
       "      <td>2022-02-14 12:30:00</td>\n",
       "      <td>2022</td>\n",
       "      <td>2</td>\n",
       "      <td>Monday</td>\n",
       "      <td>12</td>\n",
       "      <td>NaN</td>\n",
       "      <td>WASHINGTON ST</td>\n",
       "      <td>42.349056</td>\n",
       "      <td>-71.150498</td>\n",
       "      <td>(42.34905600030506, -71.15049849975023)</td>\n",
       "    </tr>\n",
       "    <tr>\n",
       "      <th>...</th>\n",
       "      <td>...</td>\n",
       "      <td>...</td>\n",
       "      <td>...</td>\n",
       "      <td>...</td>\n",
       "      <td>...</td>\n",
       "      <td>...</td>\n",
       "      <td>...</td>\n",
       "      <td>...</td>\n",
       "      <td>...</td>\n",
       "      <td>...</td>\n",
       "      <td>...</td>\n",
       "      <td>...</td>\n",
       "      <td>...</td>\n",
       "      <td>...</td>\n",
       "      <td>...</td>\n",
       "      <td>...</td>\n",
       "      <td>...</td>\n",
       "      <td>...</td>\n",
       "    </tr>\n",
       "    <tr>\n",
       "      <th>446088</th>\n",
       "      <td>101333</td>\n",
       "      <td>I120201612-00</td>\n",
       "      <td>3130</td>\n",
       "      <td>Search Warrants</td>\n",
       "      <td>SEARCH WARRANT</td>\n",
       "      <td>B2</td>\n",
       "      <td>292</td>\n",
       "      <td>NaN</td>\n",
       "      <td>2017-01-20 02:00:00</td>\n",
       "      <td>2017</td>\n",
       "      <td>1</td>\n",
       "      <td>Friday</td>\n",
       "      <td>2</td>\n",
       "      <td>Part Three</td>\n",
       "      <td>JOHN ELIOT SQ</td>\n",
       "      <td>42.330013</td>\n",
       "      <td>-71.091179</td>\n",
       "      <td>(42.33001318, -71.09117863)</td>\n",
       "    </tr>\n",
       "    <tr>\n",
       "      <th>446089</th>\n",
       "      <td>101334</td>\n",
       "      <td>I120201612-00</td>\n",
       "      <td>3125</td>\n",
       "      <td>Warrant Arrests</td>\n",
       "      <td>WARRANT ARREST</td>\n",
       "      <td>B2</td>\n",
       "      <td>292</td>\n",
       "      <td>NaN</td>\n",
       "      <td>2017-01-20 02:00:00</td>\n",
       "      <td>2017</td>\n",
       "      <td>1</td>\n",
       "      <td>Friday</td>\n",
       "      <td>2</td>\n",
       "      <td>Part Three</td>\n",
       "      <td>JOHN ELIOT SQ</td>\n",
       "      <td>42.330013</td>\n",
       "      <td>-71.091179</td>\n",
       "      <td>(42.33001318, -71.09117863)</td>\n",
       "    </tr>\n",
       "    <tr>\n",
       "      <th>446090</th>\n",
       "      <td>101335</td>\n",
       "      <td>I120201612-00</td>\n",
       "      <td>1841</td>\n",
       "      <td>Drug Violation</td>\n",
       "      <td>DRUGS - POSS CLASS A - INTENT TO MFR DIST DISP</td>\n",
       "      <td>B2</td>\n",
       "      <td>292</td>\n",
       "      <td>NaN</td>\n",
       "      <td>2017-01-20 02:00:00</td>\n",
       "      <td>2017</td>\n",
       "      <td>1</td>\n",
       "      <td>Friday</td>\n",
       "      <td>2</td>\n",
       "      <td>Part Two</td>\n",
       "      <td>JOHN ELIOT SQ</td>\n",
       "      <td>42.330013</td>\n",
       "      <td>-71.091179</td>\n",
       "      <td>(42.33001318, -71.09117863)</td>\n",
       "    </tr>\n",
       "    <tr>\n",
       "      <th>446091</th>\n",
       "      <td>101336</td>\n",
       "      <td>I120201612-00</td>\n",
       "      <td>1841</td>\n",
       "      <td>Drug Violation</td>\n",
       "      <td>DRUGS - POSS CLASS A - INTENT TO MFR DIST DISP</td>\n",
       "      <td>B2</td>\n",
       "      <td>292</td>\n",
       "      <td>NaN</td>\n",
       "      <td>2017-01-20 02:00:00</td>\n",
       "      <td>2017</td>\n",
       "      <td>1</td>\n",
       "      <td>Friday</td>\n",
       "      <td>2</td>\n",
       "      <td>Part Two</td>\n",
       "      <td>JOHN ELIOT SQ</td>\n",
       "      <td>42.330013</td>\n",
       "      <td>-71.091179</td>\n",
       "      <td>(42.33001318, -71.09117863)</td>\n",
       "    </tr>\n",
       "    <tr>\n",
       "      <th>446092</th>\n",
       "      <td>101337</td>\n",
       "      <td>I120201612-00</td>\n",
       "      <td>1841</td>\n",
       "      <td>Drug Violation</td>\n",
       "      <td>DRUGS - POSS CLASS A - INTENT TO MFR DIST DISP</td>\n",
       "      <td>B2</td>\n",
       "      <td>292</td>\n",
       "      <td>NaN</td>\n",
       "      <td>2017-01-20 02:00:00</td>\n",
       "      <td>2017</td>\n",
       "      <td>1</td>\n",
       "      <td>Friday</td>\n",
       "      <td>2</td>\n",
       "      <td>Part Two</td>\n",
       "      <td>JOHN ELIOT SQ</td>\n",
       "      <td>42.330013</td>\n",
       "      <td>-71.091179</td>\n",
       "      <td>(42.33001318, -71.09117863)</td>\n",
       "    </tr>\n",
       "  </tbody>\n",
       "</table>\n",
       "<p>446093 rows × 18 columns</p>\n",
       "</div>"
      ],
      "text/plain": [
       "        Unnamed: 0 INCIDENT_NUMBER  OFFENSE_CODE OFFENSE_CODE_GROUP  \\\n",
       "0                0       225520077          3126                NaN   \n",
       "1                1       222648862          3831                NaN   \n",
       "2                2       222201764           724                NaN   \n",
       "3                3       222201559           301                NaN   \n",
       "4                4       222111641           619                NaN   \n",
       "...            ...             ...           ...                ...   \n",
       "446088      101333   I120201612-00          3130    Search Warrants   \n",
       "446089      101334   I120201612-00          3125    Warrant Arrests   \n",
       "446090      101335   I120201612-00          1841     Drug Violation   \n",
       "446091      101336   I120201612-00          1841     Drug Violation   \n",
       "446092      101337   I120201612-00          1841     Drug Violation   \n",
       "\n",
       "                                   OFFENSE_DESCRIPTION DISTRICT  \\\n",
       "0           WARRANT ARREST - OUTSIDE OF BOSTON WARRANT      D14   \n",
       "1                M/V - LEAVING SCENE - PROPERTY DAMAGE       B2   \n",
       "2                                           AUTO THEFT       C6   \n",
       "3                                              ROBBERY       D4   \n",
       "4                                   LARCENY ALL OTHERS      D14   \n",
       "...                                                ...      ...   \n",
       "446088                                  SEARCH WARRANT       B2   \n",
       "446089                                  WARRANT ARREST       B2   \n",
       "446090  DRUGS - POSS CLASS A - INTENT TO MFR DIST DISP       B2   \n",
       "446091  DRUGS - POSS CLASS A - INTENT TO MFR DIST DISP       B2   \n",
       "446092  DRUGS - POSS CLASS A - INTENT TO MFR DIST DISP       B2   \n",
       "\n",
       "       REPORTING_AREA SHOOTING     OCCURRED_ON_DATE  YEAR  MONTH DAY_OF_WEEK  \\\n",
       "0                 786        0  2022-02-02 00:00:00  2022      2   Wednesday   \n",
       "1                 288        0  2022-02-05 18:25:00  2022      2    Saturday   \n",
       "2                 200        0  2022-01-09 00:00:00  2022      1      Sunday   \n",
       "3                            0  2022-03-05 13:00:00  2022      3    Saturday   \n",
       "4                 778        0  2022-02-14 12:30:00  2022      2      Monday   \n",
       "...               ...      ...                  ...   ...    ...         ...   \n",
       "446088            292      NaN  2017-01-20 02:00:00  2017      1      Friday   \n",
       "446089            292      NaN  2017-01-20 02:00:00  2017      1      Friday   \n",
       "446090            292      NaN  2017-01-20 02:00:00  2017      1      Friday   \n",
       "446091            292      NaN  2017-01-20 02:00:00  2017      1      Friday   \n",
       "446092            292      NaN  2017-01-20 02:00:00  2017      1      Friday   \n",
       "\n",
       "        HOUR    UCR_PART         STREET        Lat       Long  \\\n",
       "0          0         NaN  WASHINGTON ST  42.343081 -71.141723   \n",
       "1         18         NaN  WASHINGTON ST  42.329748 -71.084540   \n",
       "2          0         NaN     W BROADWAY  42.341288 -71.054679   \n",
       "3         13         NaN      ALBANY ST  42.333184 -71.073939   \n",
       "4         12         NaN  WASHINGTON ST  42.349056 -71.150498   \n",
       "...      ...         ...            ...        ...        ...   \n",
       "446088     2  Part Three  JOHN ELIOT SQ  42.330013 -71.091179   \n",
       "446089     2  Part Three  JOHN ELIOT SQ  42.330013 -71.091179   \n",
       "446090     2    Part Two  JOHN ELIOT SQ  42.330013 -71.091179   \n",
       "446091     2    Part Two  JOHN ELIOT SQ  42.330013 -71.091179   \n",
       "446092     2    Part Two  JOHN ELIOT SQ  42.330013 -71.091179   \n",
       "\n",
       "                                        Location  \n",
       "0        (42.34308127134165, -71.14172267328729)  \n",
       "1       (42.329748204791635, -71.08454011649543)  \n",
       "2       (42.341287504390436, -71.05467932649397)  \n",
       "3       (42.333184490911954, -71.07393881002383)  \n",
       "4        (42.34905600030506, -71.15049849975023)  \n",
       "...                                          ...  \n",
       "446088               (42.33001318, -71.09117863)  \n",
       "446089               (42.33001318, -71.09117863)  \n",
       "446090               (42.33001318, -71.09117863)  \n",
       "446091               (42.33001318, -71.09117863)  \n",
       "446092               (42.33001318, -71.09117863)  \n",
       "\n",
       "[446093 rows x 18 columns]"
      ]
     },
     "execution_count": 942,
     "metadata": {},
     "output_type": "execute_result"
    }
   ],
   "source": [
    "# Importamos CSV\n",
    "partidos = pd.read_csv('./game.csv')\n",
    "crimenes = pd.read_csv(\"./csv_2017_2022.csv\")\n",
    "partidos['game_date'] = pd.to_datetime(partidos['game_date'], dayfirst = True)\n",
    "partidos = partidos.dropna()\n",
    "\n",
    "crimenes"
   ]
  },
  {
   "cell_type": "markdown",
   "id": "76e31535-1be7-4d4f-a53b-5123462140d7",
   "metadata": {},
   "source": [
    "#### En lugar de relacionar los crímenes en la ciudad de Boston entre 2017 y 2022 (información que se encuentra en el conjunto de datos) con todos los partidos jugados en ese período de tiempo, se decidió relacionarlos únicamente con los partidos de la temporada 2017-2018."
   ]
  },
  {
   "cell_type": "code",
   "execution_count": 937,
   "id": "30d2fc7c-e9fc-42e6-9be3-07c4c15b37c9",
   "metadata": {},
   "outputs": [
    {
     "name": "stdout",
     "output_type": "stream",
     "text": [
      "Golden State Warriors\n",
      "Cleveland Cavaliers\n",
      "Indiana Pacers\n",
      "Sacramento Kings\n",
      "Orlando Magic\n",
      "Detroit Pistons\n",
      "Utah Jazz\n",
      "Dallas Mavericks\n",
      "Phoenix Suns\n",
      "Washington Wizards\n",
      "Boston Celtics\n",
      "Memphis Grizzlies\n",
      "San Antonio Spurs\n",
      "Oklahoma City Thunder\n",
      "Los Angeles Lakers\n",
      "Toronto Raptors\n",
      "Milwaukee Bucks\n",
      "Charlotte Hornets\n",
      "Minnesota Timberwolves\n",
      "Brooklyn Nets\n",
      "Philadelphia 76ers\n",
      "New Orleans Pelicans\n",
      "Denver Nuggets\n",
      "New York Knicks\n",
      "Chicago Bulls\n",
      "Houston Rockets\n",
      "Miami Heat\n",
      "LA Clippers\n",
      "Portland Trail Blazers\n",
      "Atlanta Hawks\n"
     ]
    }
   ],
   "source": [
    "# Imprimimos todos los equipos\n",
    "partidos.set_index(partidos['game_date'], inplace = True, drop = True)\n",
    "partidos2017 = partidos.loc['2017-10-01':'2018-03-31']\n",
    "team_names = partidos2017['team_name_home'].unique()\n",
    "\n",
    "for item in partidos2017['team_name_home'].unique():\n",
    "    print(item)"
   ]
  },
  {
   "cell_type": "markdown",
   "id": "ad1c0d7f-6026-47b6-917f-e9900a59b49b",
   "metadata": {},
   "source": [
    "#### Vemos que el equipo que queremos es \"Boston Celtics\", procedemos a eliminar todas las filas que no contengan este equipo"
   ]
  },
  {
   "cell_type": "code",
   "execution_count": 922,
   "id": "21c21d54-e0ba-4970-9d4b-4cf2517b0042",
   "metadata": {},
   "outputs": [],
   "source": [
    "# Filtramos el dataset para que solo esten los partidos que se juegan en Boston\n",
    "partidosBoston2017 = partidos2017[(partidos2017['team_name_home'] == 'Boston Celtics')]"
   ]
  },
  {
   "cell_type": "code",
   "execution_count": 923,
   "id": "1062b748-de34-49f5-9ec0-132471b97eae",
   "metadata": {},
   "outputs": [
    {
     "data": {
      "text/html": [
       "<div>\n",
       "<style scoped>\n",
       "    .dataframe tbody tr th:only-of-type {\n",
       "        vertical-align: middle;\n",
       "    }\n",
       "\n",
       "    .dataframe tbody tr th {\n",
       "        vertical-align: top;\n",
       "    }\n",
       "\n",
       "    .dataframe thead th {\n",
       "        text-align: right;\n",
       "    }\n",
       "</style>\n",
       "<table border=\"1\" class=\"dataframe\">\n",
       "  <thead>\n",
       "    <tr style=\"text-align: right;\">\n",
       "      <th></th>\n",
       "      <th>season_id</th>\n",
       "      <th>team_id_home</th>\n",
       "      <th>team_abbreviation_home</th>\n",
       "      <th>team_name_home</th>\n",
       "      <th>game_id</th>\n",
       "      <th>game_date</th>\n",
       "      <th>matchup_home</th>\n",
       "      <th>wl_home</th>\n",
       "      <th>min_home</th>\n",
       "      <th>fgm_home</th>\n",
       "      <th>...</th>\n",
       "      <th>dreb_away</th>\n",
       "      <th>reb_away</th>\n",
       "      <th>ast_away</th>\n",
       "      <th>stl_away</th>\n",
       "      <th>blk_away</th>\n",
       "      <th>tov_away</th>\n",
       "      <th>pf_away</th>\n",
       "      <th>pts_away</th>\n",
       "      <th>plus_minus_away</th>\n",
       "      <th>video_available_away</th>\n",
       "    </tr>\n",
       "  </thead>\n",
       "  <tbody>\n",
       "    <tr>\n",
       "      <th>0</th>\n",
       "      <td>22017</td>\n",
       "      <td>1610612738</td>\n",
       "      <td>BOS</td>\n",
       "      <td>Boston Celtics</td>\n",
       "      <td>21700007</td>\n",
       "      <td>2017-10-18</td>\n",
       "      <td>BOS vs. MIL</td>\n",
       "      <td>L</td>\n",
       "      <td>240</td>\n",
       "      <td>39.0</td>\n",
       "      <td>...</td>\n",
       "      <td>39.0</td>\n",
       "      <td>45.0</td>\n",
       "      <td>19.0</td>\n",
       "      <td>6.0</td>\n",
       "      <td>4.0</td>\n",
       "      <td>15.0</td>\n",
       "      <td>22.0</td>\n",
       "      <td>108</td>\n",
       "      <td>8</td>\n",
       "      <td>1</td>\n",
       "    </tr>\n",
       "    <tr>\n",
       "      <th>1</th>\n",
       "      <td>22017</td>\n",
       "      <td>1610612738</td>\n",
       "      <td>BOS</td>\n",
       "      <td>Boston Celtics</td>\n",
       "      <td>21700051</td>\n",
       "      <td>2017-10-24</td>\n",
       "      <td>BOS vs. NYK</td>\n",
       "      <td>W</td>\n",
       "      <td>240</td>\n",
       "      <td>37.0</td>\n",
       "      <td>...</td>\n",
       "      <td>32.0</td>\n",
       "      <td>43.0</td>\n",
       "      <td>20.0</td>\n",
       "      <td>8.0</td>\n",
       "      <td>2.0</td>\n",
       "      <td>14.0</td>\n",
       "      <td>17.0</td>\n",
       "      <td>89</td>\n",
       "      <td>-21</td>\n",
       "      <td>2</td>\n",
       "    </tr>\n",
       "    <tr>\n",
       "      <th>2</th>\n",
       "      <td>22017</td>\n",
       "      <td>1610612738</td>\n",
       "      <td>BOS</td>\n",
       "      <td>Boston Celtics</td>\n",
       "      <td>21700092</td>\n",
       "      <td>2017-10-30</td>\n",
       "      <td>BOS vs. SAS</td>\n",
       "      <td>W</td>\n",
       "      <td>240</td>\n",
       "      <td>42.0</td>\n",
       "      <td>...</td>\n",
       "      <td>28.0</td>\n",
       "      <td>40.0</td>\n",
       "      <td>24.0</td>\n",
       "      <td>8.0</td>\n",
       "      <td>4.0</td>\n",
       "      <td>11.0</td>\n",
       "      <td>14.0</td>\n",
       "      <td>94</td>\n",
       "      <td>-14</td>\n",
       "      <td>1</td>\n",
       "    </tr>\n",
       "    <tr>\n",
       "      <th>3</th>\n",
       "      <td>22017</td>\n",
       "      <td>1610612738</td>\n",
       "      <td>BOS</td>\n",
       "      <td>Boston Celtics</td>\n",
       "      <td>21700109</td>\n",
       "      <td>2017-11-01</td>\n",
       "      <td>BOS vs. SAC</td>\n",
       "      <td>W</td>\n",
       "      <td>240</td>\n",
       "      <td>40.0</td>\n",
       "      <td>...</td>\n",
       "      <td>19.0</td>\n",
       "      <td>26.0</td>\n",
       "      <td>24.0</td>\n",
       "      <td>10.0</td>\n",
       "      <td>5.0</td>\n",
       "      <td>15.0</td>\n",
       "      <td>18.0</td>\n",
       "      <td>86</td>\n",
       "      <td>-27</td>\n",
       "      <td>2</td>\n",
       "    </tr>\n",
       "    <tr>\n",
       "      <th>4</th>\n",
       "      <td>22017</td>\n",
       "      <td>1610612738</td>\n",
       "      <td>BOS</td>\n",
       "      <td>Boston Celtics</td>\n",
       "      <td>21700161</td>\n",
       "      <td>2017-11-08</td>\n",
       "      <td>BOS vs. LAL</td>\n",
       "      <td>W</td>\n",
       "      <td>240</td>\n",
       "      <td>38.0</td>\n",
       "      <td>...</td>\n",
       "      <td>36.0</td>\n",
       "      <td>48.0</td>\n",
       "      <td>16.0</td>\n",
       "      <td>8.0</td>\n",
       "      <td>8.0</td>\n",
       "      <td>20.0</td>\n",
       "      <td>30.0</td>\n",
       "      <td>96</td>\n",
       "      <td>-11</td>\n",
       "      <td>1</td>\n",
       "    </tr>\n",
       "    <tr>\n",
       "      <th>5</th>\n",
       "      <td>22017</td>\n",
       "      <td>1610612738</td>\n",
       "      <td>BOS</td>\n",
       "      <td>Boston Celtics</td>\n",
       "      <td>21700170</td>\n",
       "      <td>2017-11-10</td>\n",
       "      <td>BOS vs. CHA</td>\n",
       "      <td>W</td>\n",
       "      <td>240</td>\n",
       "      <td>30.0</td>\n",
       "      <td>...</td>\n",
       "      <td>40.0</td>\n",
       "      <td>47.0</td>\n",
       "      <td>20.0</td>\n",
       "      <td>5.0</td>\n",
       "      <td>7.0</td>\n",
       "      <td>14.0</td>\n",
       "      <td>21.0</td>\n",
       "      <td>87</td>\n",
       "      <td>-3</td>\n",
       "      <td>1</td>\n",
       "    </tr>\n",
       "    <tr>\n",
       "      <th>6</th>\n",
       "      <td>22017</td>\n",
       "      <td>1610612738</td>\n",
       "      <td>BOS</td>\n",
       "      <td>Boston Celtics</td>\n",
       "      <td>21700188</td>\n",
       "      <td>2017-11-12</td>\n",
       "      <td>BOS vs. TOR</td>\n",
       "      <td>W</td>\n",
       "      <td>240</td>\n",
       "      <td>35.0</td>\n",
       "      <td>...</td>\n",
       "      <td>30.0</td>\n",
       "      <td>36.0</td>\n",
       "      <td>18.0</td>\n",
       "      <td>8.0</td>\n",
       "      <td>8.0</td>\n",
       "      <td>17.0</td>\n",
       "      <td>20.0</td>\n",
       "      <td>94</td>\n",
       "      <td>-1</td>\n",
       "      <td>1</td>\n",
       "    </tr>\n",
       "    <tr>\n",
       "      <th>7</th>\n",
       "      <td>22017</td>\n",
       "      <td>1610612738</td>\n",
       "      <td>BOS</td>\n",
       "      <td>Boston Celtics</td>\n",
       "      <td>21700215</td>\n",
       "      <td>2017-11-16</td>\n",
       "      <td>BOS vs. GSW</td>\n",
       "      <td>W</td>\n",
       "      <td>240</td>\n",
       "      <td>26.0</td>\n",
       "      <td>...</td>\n",
       "      <td>40.0</td>\n",
       "      <td>47.0</td>\n",
       "      <td>22.0</td>\n",
       "      <td>9.0</td>\n",
       "      <td>10.0</td>\n",
       "      <td>15.0</td>\n",
       "      <td>24.0</td>\n",
       "      <td>88</td>\n",
       "      <td>-4</td>\n",
       "      <td>1</td>\n",
       "    </tr>\n",
       "    <tr>\n",
       "      <th>8</th>\n",
       "      <td>22017</td>\n",
       "      <td>1610612738</td>\n",
       "      <td>BOS</td>\n",
       "      <td>Boston Celtics</td>\n",
       "      <td>21700269</td>\n",
       "      <td>2017-11-24</td>\n",
       "      <td>BOS vs. ORL</td>\n",
       "      <td>W</td>\n",
       "      <td>240</td>\n",
       "      <td>42.0</td>\n",
       "      <td>...</td>\n",
       "      <td>35.0</td>\n",
       "      <td>51.0</td>\n",
       "      <td>21.0</td>\n",
       "      <td>6.0</td>\n",
       "      <td>4.0</td>\n",
       "      <td>12.0</td>\n",
       "      <td>16.0</td>\n",
       "      <td>103</td>\n",
       "      <td>-15</td>\n",
       "      <td>1</td>\n",
       "    </tr>\n",
       "    <tr>\n",
       "      <th>9</th>\n",
       "      <td>22017</td>\n",
       "      <td>1610612738</td>\n",
       "      <td>BOS</td>\n",
       "      <td>Boston Celtics</td>\n",
       "      <td>21700292</td>\n",
       "      <td>2017-11-27</td>\n",
       "      <td>BOS vs. DET</td>\n",
       "      <td>L</td>\n",
       "      <td>240</td>\n",
       "      <td>40.0</td>\n",
       "      <td>...</td>\n",
       "      <td>32.0</td>\n",
       "      <td>40.0</td>\n",
       "      <td>26.0</td>\n",
       "      <td>8.0</td>\n",
       "      <td>2.0</td>\n",
       "      <td>8.0</td>\n",
       "      <td>19.0</td>\n",
       "      <td>118</td>\n",
       "      <td>10</td>\n",
       "      <td>1</td>\n",
       "    </tr>\n",
       "  </tbody>\n",
       "</table>\n",
       "<p>10 rows × 55 columns</p>\n",
       "</div>"
      ],
      "text/plain": [
       "   season_id  team_id_home team_abbreviation_home  team_name_home   game_id  \\\n",
       "0      22017    1610612738                    BOS  Boston Celtics  21700007   \n",
       "1      22017    1610612738                    BOS  Boston Celtics  21700051   \n",
       "2      22017    1610612738                    BOS  Boston Celtics  21700092   \n",
       "3      22017    1610612738                    BOS  Boston Celtics  21700109   \n",
       "4      22017    1610612738                    BOS  Boston Celtics  21700161   \n",
       "5      22017    1610612738                    BOS  Boston Celtics  21700170   \n",
       "6      22017    1610612738                    BOS  Boston Celtics  21700188   \n",
       "7      22017    1610612738                    BOS  Boston Celtics  21700215   \n",
       "8      22017    1610612738                    BOS  Boston Celtics  21700269   \n",
       "9      22017    1610612738                    BOS  Boston Celtics  21700292   \n",
       "\n",
       "   game_date matchup_home wl_home  min_home  fgm_home  ...  dreb_away  \\\n",
       "0 2017-10-18  BOS vs. MIL       L       240      39.0  ...       39.0   \n",
       "1 2017-10-24  BOS vs. NYK       W       240      37.0  ...       32.0   \n",
       "2 2017-10-30  BOS vs. SAS       W       240      42.0  ...       28.0   \n",
       "3 2017-11-01  BOS vs. SAC       W       240      40.0  ...       19.0   \n",
       "4 2017-11-08  BOS vs. LAL       W       240      38.0  ...       36.0   \n",
       "5 2017-11-10  BOS vs. CHA       W       240      30.0  ...       40.0   \n",
       "6 2017-11-12  BOS vs. TOR       W       240      35.0  ...       30.0   \n",
       "7 2017-11-16  BOS vs. GSW       W       240      26.0  ...       40.0   \n",
       "8 2017-11-24  BOS vs. ORL       W       240      42.0  ...       35.0   \n",
       "9 2017-11-27  BOS vs. DET       L       240      40.0  ...       32.0   \n",
       "\n",
       "   reb_away  ast_away  stl_away  blk_away  tov_away  pf_away  pts_away  \\\n",
       "0      45.0      19.0       6.0       4.0      15.0     22.0       108   \n",
       "1      43.0      20.0       8.0       2.0      14.0     17.0        89   \n",
       "2      40.0      24.0       8.0       4.0      11.0     14.0        94   \n",
       "3      26.0      24.0      10.0       5.0      15.0     18.0        86   \n",
       "4      48.0      16.0       8.0       8.0      20.0     30.0        96   \n",
       "5      47.0      20.0       5.0       7.0      14.0     21.0        87   \n",
       "6      36.0      18.0       8.0       8.0      17.0     20.0        94   \n",
       "7      47.0      22.0       9.0      10.0      15.0     24.0        88   \n",
       "8      51.0      21.0       6.0       4.0      12.0     16.0       103   \n",
       "9      40.0      26.0       8.0       2.0       8.0     19.0       118   \n",
       "\n",
       "   plus_minus_away  video_available_away  \n",
       "0                8                     1  \n",
       "1              -21                     2  \n",
       "2              -14                     1  \n",
       "3              -27                     2  \n",
       "4              -11                     1  \n",
       "5               -3                     1  \n",
       "6               -1                     1  \n",
       "7               -4                     1  \n",
       "8              -15                     1  \n",
       "9               10                     1  \n",
       "\n",
       "[10 rows x 55 columns]"
      ]
     },
     "execution_count": 923,
     "metadata": {},
     "output_type": "execute_result"
    }
   ],
   "source": [
    "partidosBoston2017 = partidosBoston2017.reset_index(drop=True)\n",
    "partidosBoston2017.head(10)"
   ]
  },
  {
   "cell_type": "markdown",
   "id": "a00041eb-2508-4741-99f0-f1ae3aba1d1c",
   "metadata": {},
   "source": [
    "#### Filtramos el conjunto de datos de crímenes de la ciudad de Boston por fecha (desde 2017 hasta 2018) y por distrito, ya que observamos que el estadio de los Celtics se encuentra en el distrito A1."
   ]
  },
  {
   "cell_type": "code",
   "execution_count": 924,
   "id": "d3c9c9e9-b897-4fd1-8a3f-1fcacc639ddf",
   "metadata": {},
   "outputs": [
    {
     "data": {
      "text/html": [
       "<div>\n",
       "<style scoped>\n",
       "    .dataframe tbody tr th:only-of-type {\n",
       "        vertical-align: middle;\n",
       "    }\n",
       "\n",
       "    .dataframe tbody tr th {\n",
       "        vertical-align: top;\n",
       "    }\n",
       "\n",
       "    .dataframe thead th {\n",
       "        text-align: right;\n",
       "    }\n",
       "</style>\n",
       "<table border=\"1\" class=\"dataframe\">\n",
       "  <thead>\n",
       "    <tr style=\"text-align: right;\">\n",
       "      <th></th>\n",
       "      <th>Unnamed: 0</th>\n",
       "      <th>INCIDENT_NUMBER</th>\n",
       "      <th>OFFENSE_CODE</th>\n",
       "      <th>OFFENSE_CODE_GROUP</th>\n",
       "      <th>OFFENSE_DESCRIPTION</th>\n",
       "      <th>DISTRICT</th>\n",
       "      <th>REPORTING_AREA</th>\n",
       "      <th>SHOOTING</th>\n",
       "      <th>OCCURRED_ON_DATE</th>\n",
       "      <th>YEAR</th>\n",
       "      <th>MONTH</th>\n",
       "      <th>DAY_OF_WEEK</th>\n",
       "      <th>HOUR</th>\n",
       "      <th>UCR_PART</th>\n",
       "      <th>STREET</th>\n",
       "      <th>Lat</th>\n",
       "      <th>Long</th>\n",
       "      <th>Location</th>\n",
       "    </tr>\n",
       "  </thead>\n",
       "  <tbody>\n",
       "    <tr>\n",
       "      <th>245880</th>\n",
       "      <td>13</td>\n",
       "      <td>I192074364</td>\n",
       "      <td>619</td>\n",
       "      <td>Larceny</td>\n",
       "      <td>LARCENY ALL OTHERS</td>\n",
       "      <td>A1</td>\n",
       "      <td>107</td>\n",
       "      <td>NaN</td>\n",
       "      <td>2018-01-01</td>\n",
       "      <td>2018</td>\n",
       "      <td>1</td>\n",
       "      <td>Monday</td>\n",
       "      <td>7</td>\n",
       "      <td>Part One</td>\n",
       "      <td>FEDERAL ST</td>\n",
       "      <td>42.356133</td>\n",
       "      <td>-71.056635</td>\n",
       "      <td>(42.35613296, -71.05663451)</td>\n",
       "    </tr>\n",
       "    <tr>\n",
       "      <th>245920</th>\n",
       "      <td>53</td>\n",
       "      <td>I192054648</td>\n",
       "      <td>1109</td>\n",
       "      <td>Fraud</td>\n",
       "      <td>FRAUD - WIRE</td>\n",
       "      <td>A1</td>\n",
       "      <td>61</td>\n",
       "      <td>NaN</td>\n",
       "      <td>2018-03-26</td>\n",
       "      <td>2018</td>\n",
       "      <td>3</td>\n",
       "      <td>Monday</td>\n",
       "      <td>0</td>\n",
       "      <td>Part Two</td>\n",
       "      <td>CAUSEWAY ST</td>\n",
       "      <td>42.366670</td>\n",
       "      <td>-71.059002</td>\n",
       "      <td>(42.36666960, -71.05900199)</td>\n",
       "    </tr>\n",
       "    <tr>\n",
       "      <th>245965</th>\n",
       "      <td>98</td>\n",
       "      <td>I192040873</td>\n",
       "      <td>3201</td>\n",
       "      <td>Property Lost</td>\n",
       "      <td>PROPERTY - LOST</td>\n",
       "      <td>A1</td>\n",
       "      <td>174</td>\n",
       "      <td>NaN</td>\n",
       "      <td>2018-02-12</td>\n",
       "      <td>2018</td>\n",
       "      <td>2</td>\n",
       "      <td>Monday</td>\n",
       "      <td>15</td>\n",
       "      <td>Part Three</td>\n",
       "      <td>FRONTAGE RD</td>\n",
       "      <td>42.341323</td>\n",
       "      <td>-71.062469</td>\n",
       "      <td>(42.34132308, -71.06246896)</td>\n",
       "    </tr>\n",
       "    <tr>\n",
       "      <th>246219</th>\n",
       "      <td>352</td>\n",
       "      <td>I192008360</td>\n",
       "      <td>3201</td>\n",
       "      <td>Property Lost</td>\n",
       "      <td>PROPERTY - LOST</td>\n",
       "      <td>A1</td>\n",
       "      <td>77</td>\n",
       "      <td>NaN</td>\n",
       "      <td>2018-01-28</td>\n",
       "      <td>2018</td>\n",
       "      <td>1</td>\n",
       "      <td>Sunday</td>\n",
       "      <td>12</td>\n",
       "      <td>Part Three</td>\n",
       "      <td>BULFINCH PL</td>\n",
       "      <td>42.361526</td>\n",
       "      <td>-71.061338</td>\n",
       "      <td>(42.36152577, -71.06133846)</td>\n",
       "    </tr>\n",
       "    <tr>\n",
       "      <th>246327</th>\n",
       "      <td>460</td>\n",
       "      <td>I192004301</td>\n",
       "      <td>3114</td>\n",
       "      <td>Investigate Property</td>\n",
       "      <td>INVESTIGATE PROPERTY</td>\n",
       "      <td>A1</td>\n",
       "      <td>81</td>\n",
       "      <td>NaN</td>\n",
       "      <td>2018-01-01</td>\n",
       "      <td>2018</td>\n",
       "      <td>1</td>\n",
       "      <td>Monday</td>\n",
       "      <td>9</td>\n",
       "      <td>Part Three</td>\n",
       "      <td>MICHELANGELO ST</td>\n",
       "      <td>42.367089</td>\n",
       "      <td>-71.054811</td>\n",
       "      <td>(42.36708890, -71.05481065)</td>\n",
       "    </tr>\n",
       "    <tr>\n",
       "      <th>264955</th>\n",
       "      <td>19088</td>\n",
       "      <td>I182084827</td>\n",
       "      <td>1107</td>\n",
       "      <td>Fraud</td>\n",
       "      <td>FRAUD - IMPERSONATION</td>\n",
       "      <td>A1</td>\n",
       "      <td>61</td>\n",
       "      <td>NaN</td>\n",
       "      <td>2018-03-26</td>\n",
       "      <td>2018</td>\n",
       "      <td>3</td>\n",
       "      <td>Monday</td>\n",
       "      <td>9</td>\n",
       "      <td>Part Two</td>\n",
       "      <td>CAUSEWAY ST</td>\n",
       "      <td>42.364743</td>\n",
       "      <td>-71.062570</td>\n",
       "      <td>(42.36474297, -71.06256983)</td>\n",
       "    </tr>\n",
       "    <tr>\n",
       "      <th>270137</th>\n",
       "      <td>24270</td>\n",
       "      <td>I182079337</td>\n",
       "      <td>3115</td>\n",
       "      <td>Investigate Person</td>\n",
       "      <td>INVESTIGATE PERSON</td>\n",
       "      <td>A1</td>\n",
       "      <td>64</td>\n",
       "      <td>NaN</td>\n",
       "      <td>2018-02-19</td>\n",
       "      <td>2018</td>\n",
       "      <td>2</td>\n",
       "      <td>Monday</td>\n",
       "      <td>15</td>\n",
       "      <td>Part Three</td>\n",
       "      <td>FRUIT ST</td>\n",
       "      <td>42.362403</td>\n",
       "      <td>-71.069547</td>\n",
       "      <td>(42.36240281, -71.06954652)</td>\n",
       "    </tr>\n",
       "    <tr>\n",
       "      <th>287659</th>\n",
       "      <td>41792</td>\n",
       "      <td>I182060735</td>\n",
       "      <td>802</td>\n",
       "      <td>Simple Assault</td>\n",
       "      <td>ASSAULT SIMPLE - BATTERY</td>\n",
       "      <td>A1</td>\n",
       "      <td>92</td>\n",
       "      <td>NaN</td>\n",
       "      <td>2018-01-14</td>\n",
       "      <td>2018</td>\n",
       "      <td>1</td>\n",
       "      <td>Sunday</td>\n",
       "      <td>11</td>\n",
       "      <td>Part Two</td>\n",
       "      <td>DEVONSHIRE ST</td>\n",
       "      <td>42.358734</td>\n",
       "      <td>-71.057186</td>\n",
       "      <td>(42.35873436, -71.05718635)</td>\n",
       "    </tr>\n",
       "    <tr>\n",
       "      <th>290199</th>\n",
       "      <td>44332</td>\n",
       "      <td>I182058021</td>\n",
       "      <td>2629</td>\n",
       "      <td>Harassment</td>\n",
       "      <td>HARASSMENT</td>\n",
       "      <td>A1</td>\n",
       "      <td>116</td>\n",
       "      <td>NaN</td>\n",
       "      <td>2018-03-01</td>\n",
       "      <td>2018</td>\n",
       "      <td>3</td>\n",
       "      <td>Thursday</td>\n",
       "      <td>7</td>\n",
       "      <td>Part Two</td>\n",
       "      <td>EDINBORO ST</td>\n",
       "      <td>42.352072</td>\n",
       "      <td>-71.059753</td>\n",
       "      <td>(42.35207238, -71.05975342)</td>\n",
       "    </tr>\n",
       "    <tr>\n",
       "      <th>290200</th>\n",
       "      <td>44333</td>\n",
       "      <td>I182058021</td>\n",
       "      <td>1402</td>\n",
       "      <td>Vandalism</td>\n",
       "      <td>VANDALISM</td>\n",
       "      <td>A1</td>\n",
       "      <td>116</td>\n",
       "      <td>NaN</td>\n",
       "      <td>2018-03-01</td>\n",
       "      <td>2018</td>\n",
       "      <td>3</td>\n",
       "      <td>Thursday</td>\n",
       "      <td>7</td>\n",
       "      <td>Part Two</td>\n",
       "      <td>EDINBORO ST</td>\n",
       "      <td>42.352072</td>\n",
       "      <td>-71.059753</td>\n",
       "      <td>(42.35207238, -71.05975342)</td>\n",
       "    </tr>\n",
       "  </tbody>\n",
       "</table>\n",
       "</div>"
      ],
      "text/plain": [
       "        Unnamed: 0 INCIDENT_NUMBER  OFFENSE_CODE    OFFENSE_CODE_GROUP  \\\n",
       "245880          13      I192074364           619               Larceny   \n",
       "245920          53      I192054648          1109                 Fraud   \n",
       "245965          98      I192040873          3201         Property Lost   \n",
       "246219         352      I192008360          3201         Property Lost   \n",
       "246327         460      I192004301          3114  Investigate Property   \n",
       "264955       19088      I182084827          1107                 Fraud   \n",
       "270137       24270      I182079337          3115    Investigate Person   \n",
       "287659       41792      I182060735           802        Simple Assault   \n",
       "290199       44332      I182058021          2629            Harassment   \n",
       "290200       44333      I182058021          1402             Vandalism   \n",
       "\n",
       "             OFFENSE_DESCRIPTION DISTRICT REPORTING_AREA SHOOTING  \\\n",
       "245880        LARCENY ALL OTHERS       A1            107      NaN   \n",
       "245920              FRAUD - WIRE       A1             61      NaN   \n",
       "245965           PROPERTY - LOST       A1            174      NaN   \n",
       "246219           PROPERTY - LOST       A1             77      NaN   \n",
       "246327      INVESTIGATE PROPERTY       A1             81      NaN   \n",
       "264955     FRAUD - IMPERSONATION       A1             61      NaN   \n",
       "270137        INVESTIGATE PERSON       A1             64      NaN   \n",
       "287659  ASSAULT SIMPLE - BATTERY       A1             92      NaN   \n",
       "290199                HARASSMENT       A1            116      NaN   \n",
       "290200                 VANDALISM       A1            116      NaN   \n",
       "\n",
       "       OCCURRED_ON_DATE  YEAR  MONTH DAY_OF_WEEK  HOUR    UCR_PART  \\\n",
       "245880       2018-01-01  2018      1      Monday     7    Part One   \n",
       "245920       2018-03-26  2018      3      Monday     0    Part Two   \n",
       "245965       2018-02-12  2018      2      Monday    15  Part Three   \n",
       "246219       2018-01-28  2018      1      Sunday    12  Part Three   \n",
       "246327       2018-01-01  2018      1      Monday     9  Part Three   \n",
       "264955       2018-03-26  2018      3      Monday     9    Part Two   \n",
       "270137       2018-02-19  2018      2      Monday    15  Part Three   \n",
       "287659       2018-01-14  2018      1      Sunday    11    Part Two   \n",
       "290199       2018-03-01  2018      3    Thursday     7    Part Two   \n",
       "290200       2018-03-01  2018      3    Thursday     7    Part Two   \n",
       "\n",
       "                 STREET        Lat       Long                     Location  \n",
       "245880       FEDERAL ST  42.356133 -71.056635  (42.35613296, -71.05663451)  \n",
       "245920      CAUSEWAY ST  42.366670 -71.059002  (42.36666960, -71.05900199)  \n",
       "245965      FRONTAGE RD  42.341323 -71.062469  (42.34132308, -71.06246896)  \n",
       "246219      BULFINCH PL  42.361526 -71.061338  (42.36152577, -71.06133846)  \n",
       "246327  MICHELANGELO ST  42.367089 -71.054811  (42.36708890, -71.05481065)  \n",
       "264955      CAUSEWAY ST  42.364743 -71.062570  (42.36474297, -71.06256983)  \n",
       "270137         FRUIT ST  42.362403 -71.069547  (42.36240281, -71.06954652)  \n",
       "287659    DEVONSHIRE ST  42.358734 -71.057186  (42.35873436, -71.05718635)  \n",
       "290199      EDINBORO ST  42.352072 -71.059753  (42.35207238, -71.05975342)  \n",
       "290200      EDINBORO ST  42.352072 -71.059753  (42.35207238, -71.05975342)  "
      ]
     },
     "execution_count": 924,
     "metadata": {},
     "output_type": "execute_result"
    }
   ],
   "source": [
    "crimenes['OCCURRED_ON_DATE'] = pd.to_datetime(crimenes['OCCURRED_ON_DATE']).dt.strftime('%Y-%m-%d')\n",
    "crimenes = crimenes.loc[(crimenes['DISTRICT'] == 'A1') & (crimenes['OCCURRED_ON_DATE'] >= '2017-10-01') & (crimenes['OCCURRED_ON_DATE'] <= '2018-03-31')]\n",
    "crimenes.reset_index()\n",
    "crimenes.head(10)"
   ]
  },
  {
   "cell_type": "markdown",
   "id": "542e2bec-6316-43fa-ad73-551903721607",
   "metadata": {},
   "source": [
    "#### Combinamos los dos conjuntos de datos de tal manera que solo queden registrados los crímenes ocurridos en la ciudad de Boston durante los días en los que  se jugaron partidos en la temporada 2017-2018."
   ]
  },
  {
   "cell_type": "code",
   "execution_count": 925,
   "id": "f87e9791-a531-4b8a-9e27-29f11bddd04b",
   "metadata": {
    "tags": []
   },
   "outputs": [
    {
     "data": {
      "text/html": [
       "<div>\n",
       "<style scoped>\n",
       "    .dataframe tbody tr th:only-of-type {\n",
       "        vertical-align: middle;\n",
       "    }\n",
       "\n",
       "    .dataframe tbody tr th {\n",
       "        vertical-align: top;\n",
       "    }\n",
       "\n",
       "    .dataframe thead th {\n",
       "        text-align: right;\n",
       "    }\n",
       "</style>\n",
       "<table border=\"1\" class=\"dataframe\">\n",
       "  <thead>\n",
       "    <tr style=\"text-align: right;\">\n",
       "      <th></th>\n",
       "      <th>OCCURRED_ON_DATE</th>\n",
       "      <th>matchup_home</th>\n",
       "      <th>wl_home</th>\n",
       "      <th>YEAR</th>\n",
       "      <th>OFFENSE_DESCRIPTION</th>\n",
       "    </tr>\n",
       "  </thead>\n",
       "  <tbody>\n",
       "    <tr>\n",
       "      <th>0</th>\n",
       "      <td>2017-10-18</td>\n",
       "      <td>BOS vs. MIL</td>\n",
       "      <td>L</td>\n",
       "      <td>2017</td>\n",
       "      <td>PROPERTY - ACCIDENTAL DAMAGE</td>\n",
       "    </tr>\n",
       "    <tr>\n",
       "      <th>1</th>\n",
       "      <td>2017-10-18</td>\n",
       "      <td>BOS vs. MIL</td>\n",
       "      <td>L</td>\n",
       "      <td>2017</td>\n",
       "      <td>ASSAULT SIMPLE - BATTERY</td>\n",
       "    </tr>\n",
       "    <tr>\n",
       "      <th>2</th>\n",
       "      <td>2017-10-18</td>\n",
       "      <td>BOS vs. MIL</td>\n",
       "      <td>L</td>\n",
       "      <td>2017</td>\n",
       "      <td>HARASSMENT</td>\n",
       "    </tr>\n",
       "    <tr>\n",
       "      <th>3</th>\n",
       "      <td>2017-10-18</td>\n",
       "      <td>BOS vs. MIL</td>\n",
       "      <td>L</td>\n",
       "      <td>2017</td>\n",
       "      <td>LARCENY THEFT FROM MV - NON-ACCESSORY</td>\n",
       "    </tr>\n",
       "    <tr>\n",
       "      <th>4</th>\n",
       "      <td>2017-10-18</td>\n",
       "      <td>BOS vs. MIL</td>\n",
       "      <td>L</td>\n",
       "      <td>2017</td>\n",
       "      <td>PROPERTY - LOST</td>\n",
       "    </tr>\n",
       "    <tr>\n",
       "      <th>5</th>\n",
       "      <td>2017-10-18</td>\n",
       "      <td>BOS vs. MIL</td>\n",
       "      <td>L</td>\n",
       "      <td>2017</td>\n",
       "      <td>PROPERTY - LOST</td>\n",
       "    </tr>\n",
       "    <tr>\n",
       "      <th>6</th>\n",
       "      <td>2017-10-18</td>\n",
       "      <td>BOS vs. MIL</td>\n",
       "      <td>L</td>\n",
       "      <td>2017</td>\n",
       "      <td>LARCENY THEFT FROM MV - NON-ACCESSORY</td>\n",
       "    </tr>\n",
       "    <tr>\n",
       "      <th>7</th>\n",
       "      <td>2017-10-18</td>\n",
       "      <td>BOS vs. MIL</td>\n",
       "      <td>L</td>\n",
       "      <td>2017</td>\n",
       "      <td>VANDALISM</td>\n",
       "    </tr>\n",
       "    <tr>\n",
       "      <th>8</th>\n",
       "      <td>2017-10-18</td>\n",
       "      <td>BOS vs. MIL</td>\n",
       "      <td>L</td>\n",
       "      <td>2017</td>\n",
       "      <td>LARCENY THEFT FROM MV - NON-ACCESSORY</td>\n",
       "    </tr>\n",
       "    <tr>\n",
       "      <th>9</th>\n",
       "      <td>2017-10-18</td>\n",
       "      <td>BOS vs. MIL</td>\n",
       "      <td>L</td>\n",
       "      <td>2017</td>\n",
       "      <td>SICK/INJURED/MEDICAL - PERSON</td>\n",
       "    </tr>\n",
       "  </tbody>\n",
       "</table>\n",
       "</div>"
      ],
      "text/plain": [
       "  OCCURRED_ON_DATE matchup_home wl_home  YEAR  \\\n",
       "0       2017-10-18  BOS vs. MIL       L  2017   \n",
       "1       2017-10-18  BOS vs. MIL       L  2017   \n",
       "2       2017-10-18  BOS vs. MIL       L  2017   \n",
       "3       2017-10-18  BOS vs. MIL       L  2017   \n",
       "4       2017-10-18  BOS vs. MIL       L  2017   \n",
       "5       2017-10-18  BOS vs. MIL       L  2017   \n",
       "6       2017-10-18  BOS vs. MIL       L  2017   \n",
       "7       2017-10-18  BOS vs. MIL       L  2017   \n",
       "8       2017-10-18  BOS vs. MIL       L  2017   \n",
       "9       2017-10-18  BOS vs. MIL       L  2017   \n",
       "\n",
       "                     OFFENSE_DESCRIPTION  \n",
       "0           PROPERTY - ACCIDENTAL DAMAGE  \n",
       "1               ASSAULT SIMPLE - BATTERY  \n",
       "2                             HARASSMENT  \n",
       "3  LARCENY THEFT FROM MV - NON-ACCESSORY  \n",
       "4                        PROPERTY - LOST  \n",
       "5                        PROPERTY - LOST  \n",
       "6  LARCENY THEFT FROM MV - NON-ACCESSORY  \n",
       "7                              VANDALISM  \n",
       "8  LARCENY THEFT FROM MV - NON-ACCESSORY  \n",
       "9          SICK/INJURED/MEDICAL - PERSON  "
      ]
     },
     "execution_count": 925,
     "metadata": {},
     "output_type": "execute_result"
    }
   ],
   "source": [
    "crimenes['OCCURRED_ON_DATE'] = pd.to_datetime(crimenes['OCCURRED_ON_DATE'])\n",
    "crimenes_partidos = pd.merge(partidosBoston2017, crimenes, left_on='game_date', right_on='OCCURRED_ON_DATE')\n",
    "# Seleccionar las columnas deseadas\n",
    "crimenes_partidos = crimenes_partidos[['OCCURRED_ON_DATE', 'matchup_home', 'wl_home', 'YEAR', 'OFFENSE_DESCRIPTION']]\n",
    "\n",
    "# Mostrar las filas que coinciden en ambas tablas\n",
    "crimenes_partidos.head(10)"
   ]
  },
  {
   "cell_type": "markdown",
   "id": "0b4cbd6a-7c27-4103-a063-786ae316780f",
   "metadata": {},
   "source": [
    "#### Graficamos el conjunto de datos 'crimenes_partidos'. En el eje X colocamos la fecha en que tuvo lugar el partido y en el eje Y el número de delitos cometidos ese día. El objetivo es obtener una gráfica que muestre el número de delitos que se cometieron en los días de partido.\""
   ]
  },
  {
   "cell_type": "code",
   "execution_count": 926,
   "id": "7ca8588d-463a-4188-bde8-3f066fad9ebb",
   "metadata": {},
   "outputs": [
    {
     "data": {
      "image/png": "[encoded data removed]",
      "text/plain": [
       "<Figure size 1500x800 with 1 Axes>"
      ]
     },
     "metadata": {},
     "output_type": "display_data"
    }
   ],
   "source": [
    "# Convertir la columna OCCURRED_ON_DATE a tipo datetime\n",
    "crimenes_partidos['OCCURRED_ON_DATE'] = pd.to_datetime(crimenes_partidos['OCCURRED_ON_DATE'])\n",
    "\n",
    "# Agrupar los datos por fecha y contar el número de delitos\n",
    "crimenes_por_fecha_Partido = crimenes_partidos.groupby(crimenes_partidos['OCCURRED_ON_DATE'].dt.date)['OFFENSE_DESCRIPTION'].count()\n",
    "\n",
    "# Generar el diagrama de barras\n",
    "crimenes_por_fecha_Partido.plot(kind='bar', figsize=(15, 8))\n",
    "\n",
    "# Configurar el título y los ejes\n",
    "plt.title('Número de delitos en dia de partido', fontsize=20)\n",
    "plt.xlabel('Fecha', fontsize=16)\n",
    "plt.ylabel('Número de delitos', fontsize=16)\n",
    "plt.xticks(rotation=45, ha='right')\n",
    "\n",
    "# Mostrar el diagrama de barras\n",
    "plt.show()\n"
   ]
  },
  {
   "cell_type": "markdown",
   "id": "0f6c81d9-3ac5-4ad8-ac35-d74dae9f0c5c",
   "metadata": {},
   "source": [
    "#### A continuación, queremos crear un conjunto de datos que muestre únicamente los crímenes que sucedieron en los días en que no hubo partido."
   ]
  },
  {
   "cell_type": "code",
   "execution_count": 927,
   "id": "faa7e2b8-884f-4982-ab47-c5f949891ce9",
   "metadata": {},
   "outputs": [
    {
     "data": {
      "text/html": [
       "<div>\n",
       "<style scoped>\n",
       "    .dataframe tbody tr th:only-of-type {\n",
       "        vertical-align: middle;\n",
       "    }\n",
       "\n",
       "    .dataframe tbody tr th {\n",
       "        vertical-align: top;\n",
       "    }\n",
       "\n",
       "    .dataframe thead th {\n",
       "        text-align: right;\n",
       "    }\n",
       "</style>\n",
       "<table border=\"1\" class=\"dataframe\">\n",
       "  <thead>\n",
       "    <tr style=\"text-align: right;\">\n",
       "      <th></th>\n",
       "      <th>OCCURRED_ON_DATE</th>\n",
       "      <th>YEAR</th>\n",
       "      <th>OFFENSE_DESCRIPTION</th>\n",
       "    </tr>\n",
       "  </thead>\n",
       "  <tbody>\n",
       "    <tr>\n",
       "      <th>245880</th>\n",
       "      <td>2018-01-01</td>\n",
       "      <td>2018</td>\n",
       "      <td>LARCENY ALL OTHERS</td>\n",
       "    </tr>\n",
       "    <tr>\n",
       "      <th>245920</th>\n",
       "      <td>2018-03-26</td>\n",
       "      <td>2018</td>\n",
       "      <td>FRAUD - WIRE</td>\n",
       "    </tr>\n",
       "    <tr>\n",
       "      <th>245965</th>\n",
       "      <td>2018-02-12</td>\n",
       "      <td>2018</td>\n",
       "      <td>PROPERTY - LOST</td>\n",
       "    </tr>\n",
       "    <tr>\n",
       "      <th>246219</th>\n",
       "      <td>2018-01-28</td>\n",
       "      <td>2018</td>\n",
       "      <td>PROPERTY - LOST</td>\n",
       "    </tr>\n",
       "    <tr>\n",
       "      <th>246327</th>\n",
       "      <td>2018-01-01</td>\n",
       "      <td>2018</td>\n",
       "      <td>INVESTIGATE PROPERTY</td>\n",
       "    </tr>\n",
       "    <tr>\n",
       "      <th>264955</th>\n",
       "      <td>2018-03-26</td>\n",
       "      <td>2018</td>\n",
       "      <td>FRAUD - IMPERSONATION</td>\n",
       "    </tr>\n",
       "    <tr>\n",
       "      <th>270137</th>\n",
       "      <td>2018-02-19</td>\n",
       "      <td>2018</td>\n",
       "      <td>INVESTIGATE PERSON</td>\n",
       "    </tr>\n",
       "    <tr>\n",
       "      <th>287659</th>\n",
       "      <td>2018-01-14</td>\n",
       "      <td>2018</td>\n",
       "      <td>ASSAULT SIMPLE - BATTERY</td>\n",
       "    </tr>\n",
       "    <tr>\n",
       "      <th>290199</th>\n",
       "      <td>2018-03-01</td>\n",
       "      <td>2018</td>\n",
       "      <td>HARASSMENT</td>\n",
       "    </tr>\n",
       "    <tr>\n",
       "      <th>290200</th>\n",
       "      <td>2018-03-01</td>\n",
       "      <td>2018</td>\n",
       "      <td>VANDALISM</td>\n",
       "    </tr>\n",
       "  </tbody>\n",
       "</table>\n",
       "</div>"
      ],
      "text/plain": [
       "       OCCURRED_ON_DATE  YEAR       OFFENSE_DESCRIPTION\n",
       "245880       2018-01-01  2018        LARCENY ALL OTHERS\n",
       "245920       2018-03-26  2018              FRAUD - WIRE\n",
       "245965       2018-02-12  2018           PROPERTY - LOST\n",
       "246219       2018-01-28  2018           PROPERTY - LOST\n",
       "246327       2018-01-01  2018      INVESTIGATE PROPERTY\n",
       "264955       2018-03-26  2018     FRAUD - IMPERSONATION\n",
       "270137       2018-02-19  2018        INVESTIGATE PERSON\n",
       "287659       2018-01-14  2018  ASSAULT SIMPLE - BATTERY\n",
       "290199       2018-03-01  2018                HARASSMENT\n",
       "290200       2018-03-01  2018                 VANDALISM"
      ]
     },
     "execution_count": 927,
     "metadata": {},
     "output_type": "execute_result"
    }
   ],
   "source": [
    "# Creamos una lista con las fechas de los partidos\n",
    "fechas_partidos = partidosBoston2017[\"game_date\"].tolist()\n",
    "\n",
    "# Creamos una lista para almacenar los índices de las filas que coinciden con las fechas de los partidos\n",
    "indices_eliminar = []\n",
    "\n",
    "# Recorremos todas las filas del dataset de crímenes\n",
    "for i, fila in crimenes.iterrows():\n",
    "    # Si la fecha no coincide con una de las fechas de los partidos, agregamos el índice a la lista\n",
    "    if fila[\"OCCURRED_ON_DATE\"] in fechas_partidos:\n",
    "        indices_eliminar.append(i)\n",
    "\n",
    "# Creamos un nuevo dataset con las filas que no coinciden con las fechas de los partidos\n",
    "crimenes_sin_partidos = crimenes.drop(indices_eliminar)\n",
    "crimenes_sin_partidos = crimenes_sin_partidos[['OCCURRED_ON_DATE', 'YEAR', 'OFFENSE_DESCRIPTION']]\n",
    "crimenes_sin_partidos.head(10)"
   ]
  },
  {
   "cell_type": "markdown",
   "id": "d6957b1c-578b-4dd2-9192-02676517166b",
   "metadata": {},
   "source": [
    "#### Graficamos el conjunto de datos 'crimenes_sin_partidos'. En el eje X colocamos la fecha en que no hubo partido y en el eje Y el número de delitos cometidos ese día. El objetivo es obtener una gráfica que muestre el número de delitos que se cometieron en los días en que no hubo partido."
   ]
  },
  {
   "cell_type": "code",
   "execution_count": 928,
   "id": "56b5db46-cbbc-4a05-b5ac-b06368b6c142",
   "metadata": {},
   "outputs": [
    {
     "data": {
      "application/vnd.plotly.v1+json": {
       "config": {
        "plotlyServerURL": "https://plot.ly"
       },
       "data": [
        {
         "alignmentgroup": "True",
         "hovertemplate": "Fecha=%{x}<br>Numero de delitos=%{y}<extra></extra>",
         "legendgroup": "",
         "marker": {
          "color": "#636efa",
          "pattern": {
           "shape": ""
          }
         },
         "name": "",
         "offsetgroup": "",
         "orientation": "v",
         "showlegend": false,
         "textposition": "auto",
         "type": "bar",
         "x": [
          "2017-10-01",
          "2017-10-02",
          "2017-10-03",
          "2017-10-04",
          "2017-10-05",
          "2017-10-06",
          "2017-10-07",
          "2017-10-08",
          "2017-10-09",
          "2017-10-10",
          "2017-10-11",
          "2017-10-12",
          "2017-10-13",
          "2017-10-14",
          "2017-10-15",
          "2017-10-16",
          "2017-10-17",
          "2017-10-19",
          "2017-10-20",
          "2017-10-21",
          "2017-10-22",
          "2017-10-23",
          "2017-10-25",
          "2017-10-26",
          "2017-10-27",
          "2017-10-28",
          "2017-10-29",
          "2017-10-31",
          "2017-11-02",
          "2017-11-03",
          "2017-11-04",
          "2017-11-05",
          "2017-11-06",
          "2017-11-07",
          "2017-11-09",
          "2017-11-11",
          "2017-11-13",
          "2017-11-14",
          "2017-11-15",
          "2017-11-17",
          "2017-11-18",
          "2017-11-19",
          "2017-11-20",
          "2017-11-21",
          "2017-11-22",
          "2017-11-23",
          "2017-11-25",
          "2017-11-26",
          "2017-11-28",
          "2017-11-29",
          "2017-12-01",
          "2017-12-03",
          "2017-12-05",
          "2017-12-07",
          "2017-12-08",
          "2017-12-09",
          "2017-12-10",
          "2017-12-11",
          "2017-12-12",
          "2017-12-14",
          "2017-12-16",
          "2017-12-17",
          "2017-12-18",
          "2017-12-19",
          "2017-12-21",
          "2017-12-22",
          "2017-12-24",
          "2017-12-26",
          "2017-12-27",
          "2017-12-29",
          "2017-12-30",
          "2018-01-01",
          "2018-01-02",
          "2018-01-04",
          "2018-01-06",
          "2018-01-07",
          "2018-01-08",
          "2018-01-09",
          "2018-01-10",
          "2018-01-11",
          "2018-01-12",
          "2018-01-13",
          "2018-01-14",
          "2018-01-15",
          "2018-01-17",
          "2018-01-19",
          "2018-01-20",
          "2018-01-22",
          "2018-01-23",
          "2018-01-24",
          "2018-01-25",
          "2018-01-26",
          "2018-01-27",
          "2018-01-28",
          "2018-01-29",
          "2018-01-30",
          "2018-02-01",
          "2018-02-03",
          "2018-02-05",
          "2018-02-06",
          "2018-02-07",
          "2018-02-08",
          "2018-02-10",
          "2018-02-12",
          "2018-02-13",
          "2018-02-15",
          "2018-02-16",
          "2018-02-17",
          "2018-02-18",
          "2018-02-19",
          "2018-02-20",
          "2018-02-21",
          "2018-02-22",
          "2018-02-23",
          "2018-02-24",
          "2018-02-25",
          "2018-02-27",
          "2018-03-01",
          "2018-03-02",
          "2018-03-03",
          "2018-03-04",
          "2018-03-05",
          "2018-03-06",
          "2018-03-07",
          "2018-03-08",
          "2018-03-09",
          "2018-03-10",
          "2018-03-12",
          "2018-03-13",
          "2018-03-15",
          "2018-03-16",
          "2018-03-17",
          "2018-03-18",
          "2018-03-19",
          "2018-03-21",
          "2018-03-22",
          "2018-03-23",
          "2018-03-24",
          "2018-03-25",
          "2018-03-26",
          "2018-03-27",
          "2018-03-28",
          "2018-03-29",
          "2018-03-30"
         ],
         "xaxis": "x",
         "y": [
          38,
          35,
          37,
          34,
          31,
          30,
          33,
          39,
          22,
          28,
          28,
          34,
          30,
          36,
          34,
          39,
          18,
          37,
          35,
          40,
          34,
          37,
          30,
          29,
          30,
          36,
          31,
          26,
          33,
          34,
          42,
          45,
          32,
          33,
          36,
          25,
          23,
          25,
          24,
          29,
          33,
          29,
          23,
          28,
          25,
          14,
          30,
          29,
          37,
          30,
          37,
          32,
          24,
          32,
          39,
          29,
          27,
          27,
          37,
          26,
          34,
          25,
          18,
          32,
          31,
          30,
          21,
          16,
          32,
          24,
          22,
          34,
          18,
          13,
          33,
          25,
          29,
          38,
          35,
          30,
          35,
          26,
          25,
          27,
          29,
          33,
          15,
          30,
          24,
          24,
          30,
          24,
          34,
          27,
          27,
          23,
          27,
          26,
          19,
          22,
          12,
          40,
          32,
          30,
          17,
          45,
          43,
          23,
          16,
          22,
          31,
          33,
          18,
          32,
          31,
          24,
          39,
          30,
          22,
          20,
          31,
          13,
          47,
          37,
          24,
          19,
          44,
          26,
          10,
          25,
          29,
          51,
          31,
          20,
          19,
          18,
          31,
          20,
          40,
          28,
          29,
          34,
          23,
          29
         ],
         "yaxis": "y"
        }
       ],
       "layout": {
        "autosize": true,
        "barmode": "relative",
        "legend": {
         "tracegroupgap": 0
        },
        "template": {
         "data": {
          "bar": [
           {
            "error_x": {
             "color": "#2a3f5f"
            },
            "error_y": {
             "color": "#2a3f5f"
            },
            "marker": {
             "line": {
              "color": "#E5ECF6",
              "width": 0.5
             },
             "pattern": {
              "fillmode": "overlay",
              "size": 10,
              "solidity": 0.2
             }
            },
            "type": "bar"
           }
          ],
          "barpolar": [
           {
            "marker": {
             "line": {
              "color": "#E5ECF6",
              "width": 0.5
             },
             "pattern": {
              "fillmode": "overlay",
              "size": 10,
              "solidity": 0.2
             }
            },
            "type": "barpolar"
           }
          ],
          "carpet": [
           {
            "aaxis": {
             "endlinecolor": "#2a3f5f",
             "gridcolor": "white",
             "linecolor": "white",
             "minorgridcolor": "white",
             "startlinecolor": "#2a3f5f"
            },
            "baxis": {
             "endlinecolor": "#2a3f5f",
             "gridcolor": "white",
             "linecolor": "white",
             "minorgridcolor": "white",
             "startlinecolor": "#2a3f5f"
            },
            "type": "carpet"
           }
          ],
          "choropleth": [
           {
            "colorbar": {
             "outlinewidth": 0,
             "ticks": ""
            },
            "type": "choropleth"
           }
          ],
          "contour": [
           {
            "colorbar": {
             "outlinewidth": 0,
             "ticks": ""
            },
            "colorscale": [
             [
              0,
              "#0d0887"
             ],
             [
              0.1111111111111111,
              "#46039f"
             ],
             [
              0.2222222222222222,
              "#7201a8"
             ],
             [
              0.3333333333333333,
              "#9c179e"
             ],
             [
              0.4444444444444444,
              "#bd3786"
             ],
             [
              0.5555555555555556,
              "#d8576b"
             ],
             [
              0.6666666666666666,
              "#ed7953"
             ],
             [
              0.7777777777777778,
              "#fb9f3a"
             ],
             [
              0.8888888888888888,
              "#fdca26"
             ],
             [
              1,
              "#f0f921"
             ]
            ],
            "type": "contour"
           }
          ],
          "contourcarpet": [
           {
            "colorbar": {
             "outlinewidth": 0,
             "ticks": ""
            },
            "type": "contourcarpet"
           }
          ],
          "heatmap": [
           {
            "colorbar": {
             "outlinewidth": 0,
             "ticks": ""
            },
            "colorscale": [
             [
              0,
              "#0d0887"
             ],
             [
              0.1111111111111111,
              "#46039f"
             ],
             [
              0.2222222222222222,
              "#7201a8"
             ],
             [
              0.3333333333333333,
              "#9c179e"
             ],
             [
              0.4444444444444444,
              "#bd3786"
             ],
             [
              0.5555555555555556,
              "#d8576b"
             ],
             [
              0.6666666666666666,
              "#ed7953"
             ],
             [
              0.7777777777777778,
              "#fb9f3a"
             ],
             [
              0.8888888888888888,
              "#fdca26"
             ],
             [
              1,
              "#f0f921"
             ]
            ],
            "type": "heatmap"
           }
          ],
          "heatmapgl": [
           {
            "colorbar": {
             "outlinewidth": 0,
             "ticks": ""
            },
            "colorscale": [
             [
              0,
              "#0d0887"
             ],
             [
              0.1111111111111111,
              "#46039f"
             ],
             [
              0.2222222222222222,
              "#7201a8"
             ],
             [
              0.3333333333333333,
              "#9c179e"
             ],
             [
              0.4444444444444444,
              "#bd3786"
             ],
             [
              0.5555555555555556,
              "#d8576b"
             ],
             [
              0.6666666666666666,
              "#ed7953"
             ],
             [
              0.7777777777777778,
              "#fb9f3a"
             ],
             [
              0.8888888888888888,
              "#fdca26"
             ],
             [
              1,
              "#f0f921"
             ]
            ],
            "type": "heatmapgl"
           }
          ],
          "histogram": [
           {
            "marker": {
             "pattern": {
              "fillmode": "overlay",
              "size": 10,
              "solidity": 0.2
             }
            },
            "type": "histogram"
           }
          ],
          "histogram2d": [
           {
            "colorbar": {
             "outlinewidth": 0,
             "ticks": ""
            },
            "colorscale": [
             [
              0,
              "#0d0887"
             ],
             [
              0.1111111111111111,
              "#46039f"
             ],
             [
              0.2222222222222222,
              "#7201a8"
             ],
             [
              0.3333333333333333,
              "#9c179e"
             ],
             [
              0.4444444444444444,
              "#bd3786"
             ],
             [
              0.5555555555555556,
              "#d8576b"
             ],
             [
              0.6666666666666666,
              "#ed7953"
             ],
             [
              0.7777777777777778,
              "#fb9f3a"
             ],
             [
              0.8888888888888888,
              "#fdca26"
             ],
             [
              1,
              "#f0f921"
             ]
            ],
            "type": "histogram2d"
           }
          ],
          "histogram2dcontour": [
           {
            "colorbar": {
             "outlinewidth": 0,
             "ticks": ""
            },
            "colorscale": [
             [
              0,
              "#0d0887"
             ],
             [
              0.1111111111111111,
              "#46039f"
             ],
             [
              0.2222222222222222,
              "#7201a8"
             ],
             [
              0.3333333333333333,
              "#9c179e"
             ],
             [
              0.4444444444444444,
              "#bd3786"
             ],
             [
              0.5555555555555556,
              "#d8576b"
             ],
             [
              0.6666666666666666,
              "#ed7953"
             ],
             [
              0.7777777777777778,
              "#fb9f3a"
             ],
             [
              0.8888888888888888,
              "#fdca26"
             ],
             [
              1,
              "#f0f921"
             ]
            ],
            "type": "histogram2dcontour"
           }
          ],
          "mesh3d": [
           {
            "colorbar": {
             "outlinewidth": 0,
             "ticks": ""
            },
            "type": "mesh3d"
           }
          ],
          "parcoords": [
           {
            "line": {
             "colorbar": {
              "outlinewidth": 0,
              "ticks": ""
             }
            },
            "type": "parcoords"
           }
          ],
          "pie": [
           {
            "automargin": true,
            "type": "pie"
           }
          ],
          "scatter": [
           {
            "fillpattern": {
             "fillmode": "overlay",
             "size": 10,
             "solidity": 0.2
            },
            "type": "scatter"
           }
          ],
          "scatter3d": [
           {
            "line": {
             "colorbar": {
              "outlinewidth": 0,
              "ticks": ""
             }
            },
            "marker": {
             "colorbar": {
              "outlinewidth": 0,
              "ticks": ""
             }
            },
            "type": "scatter3d"
           }
          ],
          "scattercarpet": [
           {
            "marker": {
             "colorbar": {
              "outlinewidth": 0,
              "ticks": ""
             }
            },
            "type": "scattercarpet"
           }
          ],
          "scattergeo": [
           {
            "marker": {
             "colorbar": {
              "outlinewidth": 0,
              "ticks": ""
             }
            },
            "type": "scattergeo"
           }
          ],
          "scattergl": [
           {
            "marker": {
             "colorbar": {
              "outlinewidth": 0,
              "ticks": ""
             }
            },
            "type": "scattergl"
           }
          ],
          "scattermapbox": [
           {
            "marker": {
             "colorbar": {
              "outlinewidth": 0,
              "ticks": ""
             }
            },
            "type": "scattermapbox"
           }
          ],
          "scatterpolar": [
           {
            "marker": {
             "colorbar": {
              "outlinewidth": 0,
              "ticks": ""
             }
            },
            "type": "scatterpolar"
           }
          ],
          "scatterpolargl": [
           {
            "marker": {
             "colorbar": {
              "outlinewidth": 0,
              "ticks": ""
             }
            },
            "type": "scatterpolargl"
           }
          ],
          "scatterternary": [
           {
            "marker": {
             "colorbar": {
              "outlinewidth": 0,
              "ticks": ""
             }
            },
            "type": "scatterternary"
           }
          ],
          "surface": [
           {
            "colorbar": {
             "outlinewidth": 0,
             "ticks": ""
            },
            "colorscale": [
             [
              0,
              "#0d0887"
             ],
             [
              0.1111111111111111,
              "#46039f"
             ],
             [
              0.2222222222222222,
              "#7201a8"
             ],
             [
              0.3333333333333333,
              "#9c179e"
             ],
             [
              0.4444444444444444,
              "#bd3786"
             ],
             [
              0.5555555555555556,
              "#d8576b"
             ],
             [
              0.6666666666666666,
              "#ed7953"
             ],
             [
              0.7777777777777778,
              "#fb9f3a"
             ],
             [
              0.8888888888888888,
              "#fdca26"
             ],
             [
              1,
              "#f0f921"
             ]
            ],
            "type": "surface"
           }
          ],
          "table": [
           {
            "cells": {
             "fill": {
              "color": "#EBF0F8"
             },
             "line": {
              "color": "white"
             }
            },
            "header": {
             "fill": {
              "color": "#C8D4E3"
             },
             "line": {
              "color": "white"
             }
            },
            "type": "table"
           }
          ]
         },
         "layout": {
          "annotationdefaults": {
           "arrowcolor": "#2a3f5f",
           "arrowhead": 0,
           "arrowwidth": 1
          },
          "autotypenumbers": "strict",
          "coloraxis": {
           "colorbar": {
            "outlinewidth": 0,
            "ticks": ""
           }
          },
          "colorscale": {
           "diverging": [
            [
             0,
             "#8e0152"
            ],
            [
             0.1,
             "#c51b7d"
            ],
            [
             0.2,
             "#de77ae"
            ],
            [
             0.3,
             "#f1b6da"
            ],
            [
             0.4,
             "#fde0ef"
            ],
            [
             0.5,
             "#f7f7f7"
            ],
            [
             0.6,
             "#e6f5d0"
            ],
            [
             0.7,
             "#b8e186"
            ],
            [
             0.8,
             "#7fbc41"
            ],
            [
             0.9,
             "#4d9221"
            ],
            [
             1,
             "#276419"
            ]
           ],
           "sequential": [
            [
             0,
             "#0d0887"
            ],
            [
             0.1111111111111111,
             "#46039f"
            ],
            [
             0.2222222222222222,
             "#7201a8"
            ],
            [
             0.3333333333333333,
             "#9c179e"
            ],
            [
             0.4444444444444444,
             "#bd3786"
            ],
            [
             0.5555555555555556,
             "#d8576b"
            ],
            [
             0.6666666666666666,
             "#ed7953"
            ],
            [
             0.7777777777777778,
             "#fb9f3a"
            ],
            [
             0.8888888888888888,
             "#fdca26"
            ],
            [
             1,
             "#f0f921"
            ]
           ],
           "sequentialminus": [
            [
             0,
             "#0d0887"
            ],
            [
             0.1111111111111111,
             "#46039f"
            ],
            [
             0.2222222222222222,
             "#7201a8"
            ],
            [
             0.3333333333333333,
             "#9c179e"
            ],
            [
             0.4444444444444444,
             "#bd3786"
            ],
            [
             0.5555555555555556,
             "#d8576b"
            ],
            [
             0.6666666666666666,
             "#ed7953"
            ],
            [
             0.7777777777777778,
             "#fb9f3a"
            ],
            [
             0.8888888888888888,
             "#fdca26"
            ],
            [
             1,
             "#f0f921"
            ]
           ]
          },
          "colorway": [
           "#636efa",
           "#EF553B",
           "#00cc96",
           "#ab63fa",
           "#FFA15A",
           "#19d3f3",
           "#FF6692",
           "#B6E880",
           "#FF97FF",
           "#FECB52"
          ],
          "font": {
           "color": "#2a3f5f"
          },
          "geo": {
           "bgcolor": "white",
           "lakecolor": "white",
           "landcolor": "#E5ECF6",
           "showlakes": true,
           "showland": true,
           "subunitcolor": "white"
          },
          "hoverlabel": {
           "align": "left"
          },
          "hovermode": "closest",
          "mapbox": {
           "style": "light"
          },
          "paper_bgcolor": "white",
          "plot_bgcolor": "#E5ECF6",
          "polar": {
           "angularaxis": {
            "gridcolor": "white",
            "linecolor": "white",
            "ticks": ""
           },
           "bgcolor": "#E5ECF6",
           "radialaxis": {
            "gridcolor": "white",
            "linecolor": "white",
            "ticks": ""
           }
          },
          "scene": {
           "xaxis": {
            "backgroundcolor": "#E5ECF6",
            "gridcolor": "white",
            "gridwidth": 2,
            "linecolor": "white",
            "showbackground": true,
            "ticks": "",
            "zerolinecolor": "white"
           },
           "yaxis": {
            "backgroundcolor": "#E5ECF6",
            "gridcolor": "white",
            "gridwidth": 2,
            "linecolor": "white",
            "showbackground": true,
            "ticks": "",
            "zerolinecolor": "white"
           },
           "zaxis": {
            "backgroundcolor": "#E5ECF6",
            "gridcolor": "white",
            "gridwidth": 2,
            "linecolor": "white",
            "showbackground": true,
            "ticks": "",
            "zerolinecolor": "white"
           }
          },
          "shapedefaults": {
           "line": {
            "color": "#2a3f5f"
           }
          },
          "ternary": {
           "aaxis": {
            "gridcolor": "white",
            "linecolor": "white",
            "ticks": ""
           },
           "baxis": {
            "gridcolor": "white",
            "linecolor": "white",
            "ticks": ""
           },
           "bgcolor": "#E5ECF6",
           "caxis": {
            "gridcolor": "white",
            "linecolor": "white",
            "ticks": ""
           }
          },
          "title": {
           "x": 0.05
          },
          "xaxis": {
           "automargin": true,
           "gridcolor": "white",
           "linecolor": "white",
           "ticks": "",
           "title": {
            "standoff": 15
           },
           "zerolinecolor": "white",
           "zerolinewidth": 2
          },
          "yaxis": {
           "automargin": true,
           "gridcolor": "white",
           "linecolor": "white",
           "ticks": "",
           "title": {
            "standoff": 15
           },
           "zerolinecolor": "white",
           "zerolinewidth": 2
          }
         }
        },
        "title": {
         "text": "Número de delitos por fecha cuando no hay partido"
        },
        "xaxis": {
         "anchor": "y",
         "autorange": true,
         "domain": [
          0,
          1
         ],
         "range": [
          "2017-09-30 12:00",
          "2018-03-30 12:00"
         ],
         "title": {
          "text": "Fecha"
         },
         "type": "date"
        },
        "yaxis": {
         "anchor": "x",
         "autorange": true,
         "domain": [
          0,
          1
         ],
         "range": [
          0,
          53.68421052631579
         ],
         "title": {
          "text": "Número de delitos"
         },
         "type": "linear"
        }
       }
      },
      "image/png": "[encoded data removed]",
      "text/html": [
       "<div>                            <div id=\"45d4a421-e82f-4999-98d7-74e9a8a0311b\" class=\"plotly-graph-div\" style=\"height:525px; width:100%;\"></div>            <script type=\"text/javascript\">                require([\"plotly\"], function(Plotly) {                    window.PLOTLYENV=window.PLOTLYENV || {};                                    if (document.getElementById(\"45d4a421-e82f-4999-98d7-74e9a8a0311b\")) {                    Plotly.newPlot(                        \"45d4a421-e82f-4999-98d7-74e9a8a0311b\",                        [{\"alignmentgroup\":\"True\",\"hovertemplate\":\"Fecha=%{x}<br>Numero de delitos=%{y}<extra></extra>\",\"legendgroup\":\"\",\"marker\":{\"color\":\"#636efa\",\"pattern\":{\"shape\":\"\"}},\"name\":\"\",\"offsetgroup\":\"\",\"orientation\":\"v\",\"showlegend\":false,\"textposition\":\"auto\",\"x\":[\"2017-10-01\",\"2017-10-02\",\"2017-10-03\",\"2017-10-04\",\"2017-10-05\",\"2017-10-06\",\"2017-10-07\",\"2017-10-08\",\"2017-10-09\",\"2017-10-10\",\"2017-10-11\",\"2017-10-12\",\"2017-10-13\",\"2017-10-14\",\"2017-10-15\",\"2017-10-16\",\"2017-10-17\",\"2017-10-19\",\"2017-10-20\",\"2017-10-21\",\"2017-10-22\",\"2017-10-23\",\"2017-10-25\",\"2017-10-26\",\"2017-10-27\",\"2017-10-28\",\"2017-10-29\",\"2017-10-31\",\"2017-11-02\",\"2017-11-03\",\"2017-11-04\",\"2017-11-05\",\"2017-11-06\",\"2017-11-07\",\"2017-11-09\",\"2017-11-11\",\"2017-11-13\",\"2017-11-14\",\"2017-11-15\",\"2017-11-17\",\"2017-11-18\",\"2017-11-19\",\"2017-11-20\",\"2017-11-21\",\"2017-11-22\",\"2017-11-23\",\"2017-11-25\",\"2017-11-26\",\"2017-11-28\",\"2017-11-29\",\"2017-12-01\",\"2017-12-03\",\"2017-12-05\",\"2017-12-07\",\"2017-12-08\",\"2017-12-09\",\"2017-12-10\",\"2017-12-11\",\"2017-12-12\",\"2017-12-14\",\"2017-12-16\",\"2017-12-17\",\"2017-12-18\",\"2017-12-19\",\"2017-12-21\",\"2017-12-22\",\"2017-12-24\",\"2017-12-26\",\"2017-12-27\",\"2017-12-29\",\"2017-12-30\",\"2018-01-01\",\"2018-01-02\",\"2018-01-04\",\"2018-01-06\",\"2018-01-07\",\"2018-01-08\",\"2018-01-09\",\"2018-01-10\",\"2018-01-11\",\"2018-01-12\",\"2018-01-13\",\"2018-01-14\",\"2018-01-15\",\"2018-01-17\",\"2018-01-19\",\"2018-01-20\",\"2018-01-22\",\"2018-01-23\",\"2018-01-24\",\"2018-01-25\",\"2018-01-26\",\"2018-01-27\",\"2018-01-28\",\"2018-01-29\",\"2018-01-30\",\"2018-02-01\",\"2018-02-03\",\"2018-02-05\",\"2018-02-06\",\"2018-02-07\",\"2018-02-08\",\"2018-02-10\",\"2018-02-12\",\"2018-02-13\",\"2018-02-15\",\"2018-02-16\",\"2018-02-17\",\"2018-02-18\",\"2018-02-19\",\"2018-02-20\",\"2018-02-21\",\"2018-02-22\",\"2018-02-23\",\"2018-02-24\",\"2018-02-25\",\"2018-02-27\",\"2018-03-01\",\"2018-03-02\",\"2018-03-03\",\"2018-03-04\",\"2018-03-05\",\"2018-03-06\",\"2018-03-07\",\"2018-03-08\",\"2018-03-09\",\"2018-03-10\",\"2018-03-12\",\"2018-03-13\",\"2018-03-15\",\"2018-03-16\",\"2018-03-17\",\"2018-03-18\",\"2018-03-19\",\"2018-03-21\",\"2018-03-22\",\"2018-03-23\",\"2018-03-24\",\"2018-03-25\",\"2018-03-26\",\"2018-03-27\",\"2018-03-28\",\"2018-03-29\",\"2018-03-30\"],\"xaxis\":\"x\",\"y\":[38,35,37,34,31,30,33,39,22,28,28,34,30,36,34,39,18,37,35,40,34,37,30,29,30,36,31,26,33,34,42,45,32,33,36,25,23,25,24,29,33,29,23,28,25,14,30,29,37,30,37,32,24,32,39,29,27,27,37,26,34,25,18,32,31,30,21,16,32,24,22,34,18,13,33,25,29,38,35,30,35,26,25,27,29,33,15,30,24,24,30,24,34,27,27,23,27,26,19,22,12,40,32,30,17,45,43,23,16,22,31,33,18,32,31,24,39,30,22,20,31,13,47,37,24,19,44,26,10,25,29,51,31,20,19,18,31,20,40,28,29,34,23,29],\"yaxis\":\"y\",\"type\":\"bar\"}],                        {\"template\":{\"data\":{\"histogram2dcontour\":[{\"type\":\"histogram2dcontour\",\"colorbar\":{\"outlinewidth\":0,\"ticks\":\"\"},\"colorscale\":[[0.0,\"#0d0887\"],[0.1111111111111111,\"#46039f\"],[0.2222222222222222,\"#7201a8\"],[0.3333333333333333,\"#9c179e\"],[0.4444444444444444,\"#bd3786\"],[0.5555555555555556,\"#d8576b\"],[0.6666666666666666,\"#ed7953\"],[0.7777777777777778,\"#fb9f3a\"],[0.8888888888888888,\"#fdca26\"],[1.0,\"#f0f921\"]]}],\"choropleth\":[{\"type\":\"choropleth\",\"colorbar\":{\"outlinewidth\":0,\"ticks\":\"\"}}],\"histogram2d\":[{\"type\":\"histogram2d\",\"colorbar\":{\"outlinewidth\":0,\"ticks\":\"\"},\"colorscale\":[[0.0,\"#0d0887\"],[0.1111111111111111,\"#46039f\"],[0.2222222222222222,\"#7201a8\"],[0.3333333333333333,\"#9c179e\"],[0.4444444444444444,\"#bd3786\"],[0.5555555555555556,\"#d8576b\"],[0.6666666666666666,\"#ed7953\"],[0.7777777777777778,\"#fb9f3a\"],[0.8888888888888888,\"#fdca26\"],[1.0,\"#f0f921\"]]}],\"heatmap\":[{\"type\":\"heatmap\",\"colorbar\":{\"outlinewidth\":0,\"ticks\":\"\"},\"colorscale\":[[0.0,\"#0d0887\"],[0.1111111111111111,\"#46039f\"],[0.2222222222222222,\"#7201a8\"],[0.3333333333333333,\"#9c179e\"],[0.4444444444444444,\"#bd3786\"],[0.5555555555555556,\"#d8576b\"],[0.6666666666666666,\"#ed7953\"],[0.7777777777777778,\"#fb9f3a\"],[0.8888888888888888,\"#fdca26\"],[1.0,\"#f0f921\"]]}],\"heatmapgl\":[{\"type\":\"heatmapgl\",\"colorbar\":{\"outlinewidth\":0,\"ticks\":\"\"},\"colorscale\":[[0.0,\"#0d0887\"],[0.1111111111111111,\"#46039f\"],[0.2222222222222222,\"#7201a8\"],[0.3333333333333333,\"#9c179e\"],[0.4444444444444444,\"#bd3786\"],[0.5555555555555556,\"#d8576b\"],[0.6666666666666666,\"#ed7953\"],[0.7777777777777778,\"#fb9f3a\"],[0.8888888888888888,\"#fdca26\"],[1.0,\"#f0f921\"]]}],\"contourcarpet\":[{\"type\":\"contourcarpet\",\"colorbar\":{\"outlinewidth\":0,\"ticks\":\"\"}}],\"contour\":[{\"type\":\"contour\",\"colorbar\":{\"outlinewidth\":0,\"ticks\":\"\"},\"colorscale\":[[0.0,\"#0d0887\"],[0.1111111111111111,\"#46039f\"],[0.2222222222222222,\"#7201a8\"],[0.3333333333333333,\"#9c179e\"],[0.4444444444444444,\"#bd3786\"],[0.5555555555555556,\"#d8576b\"],[0.6666666666666666,\"#ed7953\"],[0.7777777777777778,\"#fb9f3a\"],[0.8888888888888888,\"#fdca26\"],[1.0,\"#f0f921\"]]}],\"surface\":[{\"type\":\"surface\",\"colorbar\":{\"outlinewidth\":0,\"ticks\":\"\"},\"colorscale\":[[0.0,\"#0d0887\"],[0.1111111111111111,\"#46039f\"],[0.2222222222222222,\"#7201a8\"],[0.3333333333333333,\"#9c179e\"],[0.4444444444444444,\"#bd3786\"],[0.5555555555555556,\"#d8576b\"],[0.6666666666666666,\"#ed7953\"],[0.7777777777777778,\"#fb9f3a\"],[0.8888888888888888,\"#fdca26\"],[1.0,\"#f0f921\"]]}],\"mesh3d\":[{\"type\":\"mesh3d\",\"colorbar\":{\"outlinewidth\":0,\"ticks\":\"\"}}],\"scatter\":[{\"fillpattern\":{\"fillmode\":\"overlay\",\"size\":10,\"solidity\":0.2},\"type\":\"scatter\"}],\"parcoords\":[{\"type\":\"parcoords\",\"line\":{\"colorbar\":{\"outlinewidth\":0,\"ticks\":\"\"}}}],\"scatterpolargl\":[{\"type\":\"scatterpolargl\",\"marker\":{\"colorbar\":{\"outlinewidth\":0,\"ticks\":\"\"}}}],\"bar\":[{\"error_x\":{\"color\":\"#2a3f5f\"},\"error_y\":{\"color\":\"#2a3f5f\"},\"marker\":{\"line\":{\"color\":\"#E5ECF6\",\"width\":0.5},\"pattern\":{\"fillmode\":\"overlay\",\"size\":10,\"solidity\":0.2}},\"type\":\"bar\"}],\"scattergeo\":[{\"type\":\"scattergeo\",\"marker\":{\"colorbar\":{\"outlinewidth\":0,\"ticks\":\"\"}}}],\"scatterpolar\":[{\"type\":\"scatterpolar\",\"marker\":{\"colorbar\":{\"outlinewidth\":0,\"ticks\":\"\"}}}],\"histogram\":[{\"marker\":{\"pattern\":{\"fillmode\":\"overlay\",\"size\":10,\"solidity\":0.2}},\"type\":\"histogram\"}],\"scattergl\":[{\"type\":\"scattergl\",\"marker\":{\"colorbar\":{\"outlinewidth\":0,\"ticks\":\"\"}}}],\"scatter3d\":[{\"type\":\"scatter3d\",\"line\":{\"colorbar\":{\"outlinewidth\":0,\"ticks\":\"\"}},\"marker\":{\"colorbar\":{\"outlinewidth\":0,\"ticks\":\"\"}}}],\"scattermapbox\":[{\"type\":\"scattermapbox\",\"marker\":{\"colorbar\":{\"outlinewidth\":0,\"ticks\":\"\"}}}],\"scatterternary\":[{\"type\":\"scatterternary\",\"marker\":{\"colorbar\":{\"outlinewidth\":0,\"ticks\":\"\"}}}],\"scattercarpet\":[{\"type\":\"scattercarpet\",\"marker\":{\"colorbar\":{\"outlinewidth\":0,\"ticks\":\"\"}}}],\"carpet\":[{\"aaxis\":{\"endlinecolor\":\"#2a3f5f\",\"gridcolor\":\"white\",\"linecolor\":\"white\",\"minorgridcolor\":\"white\",\"startlinecolor\":\"#2a3f5f\"},\"baxis\":{\"endlinecolor\":\"#2a3f5f\",\"gridcolor\":\"white\",\"linecolor\":\"white\",\"minorgridcolor\":\"white\",\"startlinecolor\":\"#2a3f5f\"},\"type\":\"carpet\"}],\"table\":[{\"cells\":{\"fill\":{\"color\":\"#EBF0F8\"},\"line\":{\"color\":\"white\"}},\"header\":{\"fill\":{\"color\":\"#C8D4E3\"},\"line\":{\"color\":\"white\"}},\"type\":\"table\"}],\"barpolar\":[{\"marker\":{\"line\":{\"color\":\"#E5ECF6\",\"width\":0.5},\"pattern\":{\"fillmode\":\"overlay\",\"size\":10,\"solidity\":0.2}},\"type\":\"barpolar\"}],\"pie\":[{\"automargin\":true,\"type\":\"pie\"}]},\"layout\":{\"autotypenumbers\":\"strict\",\"colorway\":[\"#636efa\",\"#EF553B\",\"#00cc96\",\"#ab63fa\",\"#FFA15A\",\"#19d3f3\",\"#FF6692\",\"#B6E880\",\"#FF97FF\",\"#FECB52\"],\"font\":{\"color\":\"#2a3f5f\"},\"hovermode\":\"closest\",\"hoverlabel\":{\"align\":\"left\"},\"paper_bgcolor\":\"white\",\"plot_bgcolor\":\"#E5ECF6\",\"polar\":{\"bgcolor\":\"#E5ECF6\",\"angularaxis\":{\"gridcolor\":\"white\",\"linecolor\":\"white\",\"ticks\":\"\"},\"radialaxis\":{\"gridcolor\":\"white\",\"linecolor\":\"white\",\"ticks\":\"\"}},\"ternary\":{\"bgcolor\":\"#E5ECF6\",\"aaxis\":{\"gridcolor\":\"white\",\"linecolor\":\"white\",\"ticks\":\"\"},\"baxis\":{\"gridcolor\":\"white\",\"linecolor\":\"white\",\"ticks\":\"\"},\"caxis\":{\"gridcolor\":\"white\",\"linecolor\":\"white\",\"ticks\":\"\"}},\"coloraxis\":{\"colorbar\":{\"outlinewidth\":0,\"ticks\":\"\"}},\"colorscale\":{\"sequential\":[[0.0,\"#0d0887\"],[0.1111111111111111,\"#46039f\"],[0.2222222222222222,\"#7201a8\"],[0.3333333333333333,\"#9c179e\"],[0.4444444444444444,\"#bd3786\"],[0.5555555555555556,\"#d8576b\"],[0.6666666666666666,\"#ed7953\"],[0.7777777777777778,\"#fb9f3a\"],[0.8888888888888888,\"#fdca26\"],[1.0,\"#f0f921\"]],\"sequentialminus\":[[0.0,\"#0d0887\"],[0.1111111111111111,\"#46039f\"],[0.2222222222222222,\"#7201a8\"],[0.3333333333333333,\"#9c179e\"],[0.4444444444444444,\"#bd3786\"],[0.5555555555555556,\"#d8576b\"],[0.6666666666666666,\"#ed7953\"],[0.7777777777777778,\"#fb9f3a\"],[0.8888888888888888,\"#fdca26\"],[1.0,\"#f0f921\"]],\"diverging\":[[0,\"#8e0152\"],[0.1,\"#c51b7d\"],[0.2,\"#de77ae\"],[0.3,\"#f1b6da\"],[0.4,\"#fde0ef\"],[0.5,\"#f7f7f7\"],[0.6,\"#e6f5d0\"],[0.7,\"#b8e186\"],[0.8,\"#7fbc41\"],[0.9,\"#4d9221\"],[1,\"#276419\"]]},\"xaxis\":{\"gridcolor\":\"white\",\"linecolor\":\"white\",\"ticks\":\"\",\"title\":{\"standoff\":15},\"zerolinecolor\":\"white\",\"automargin\":true,\"zerolinewidth\":2},\"yaxis\":{\"gridcolor\":\"white\",\"linecolor\":\"white\",\"ticks\":\"\",\"title\":{\"standoff\":15},\"zerolinecolor\":\"white\",\"automargin\":true,\"zerolinewidth\":2},\"scene\":{\"xaxis\":{\"backgroundcolor\":\"#E5ECF6\",\"gridcolor\":\"white\",\"linecolor\":\"white\",\"showbackground\":true,\"ticks\":\"\",\"zerolinecolor\":\"white\",\"gridwidth\":2},\"yaxis\":{\"backgroundcolor\":\"#E5ECF6\",\"gridcolor\":\"white\",\"linecolor\":\"white\",\"showbackground\":true,\"ticks\":\"\",\"zerolinecolor\":\"white\",\"gridwidth\":2},\"zaxis\":{\"backgroundcolor\":\"#E5ECF6\",\"gridcolor\":\"white\",\"linecolor\":\"white\",\"showbackground\":true,\"ticks\":\"\",\"zerolinecolor\":\"white\",\"gridwidth\":2}},\"shapedefaults\":{\"line\":{\"color\":\"#2a3f5f\"}},\"annotationdefaults\":{\"arrowcolor\":\"#2a3f5f\",\"arrowhead\":0,\"arrowwidth\":1},\"geo\":{\"bgcolor\":\"white\",\"landcolor\":\"#E5ECF6\",\"subunitcolor\":\"white\",\"showland\":true,\"showlakes\":true,\"lakecolor\":\"white\"},\"title\":{\"x\":0.05},\"mapbox\":{\"style\":\"light\"}}},\"xaxis\":{\"anchor\":\"y\",\"domain\":[0.0,1.0],\"title\":{\"text\":\"Fecha\"}},\"yaxis\":{\"anchor\":\"x\",\"domain\":[0.0,1.0],\"title\":{\"text\":\"N\\u00famero de delitos\"}},\"legend\":{\"tracegroupgap\":0},\"title\":{\"text\":\"N\\u00famero de delitos por fecha cuando no hay partido\"},\"barmode\":\"relative\"},                        {\"responsive\": true}                    ).then(function(){\n",
       "                            \n",
       "var gd = document.getElementById('45d4a421-e82f-4999-98d7-74e9a8a0311b');\n",
       "var x = new MutationObserver(function (mutations, observer) {{\n",
       "        var display = window.getComputedStyle(gd).display;\n",
       "        if (!display || display === 'none') {{\n",
       "            console.log([gd, 'removed!']);\n",
       "            Plotly.purge(gd);\n",
       "            observer.disconnect();\n",
       "        }}\n",
       "}});\n",
       "\n",
       "// Listen for the removal of the full notebook cells\n",
       "var notebookContainer = gd.closest('#notebook-container');\n",
       "if (notebookContainer) {{\n",
       "    x.observe(notebookContainer, {childList: true});\n",
       "}}\n",
       "\n",
       "// Listen for the clearing of the current output cell\n",
       "var outputEl = gd.closest('.output');\n",
       "if (outputEl) {{\n",
       "    x.observe(outputEl, {childList: true});\n",
       "}}\n",
       "\n",
       "                        })                };                });            </script>        </div>"
      ]
     },
     "metadata": {},
     "output_type": "display_data"
    }
   ],
   "source": [
    "\n",
    "\n",
    "# Agrupar los datos por fecha y contar el número de delitos\n",
    "crimenes_por_fecha = crimenes_sin_partidos.groupby(crimenes_sin_partidos['OCCURRED_ON_DATE'].dt.date)['OFFENSE_DESCRIPTION'].count()\n",
    "\n",
    "# Crear un dataframe con los datos\n",
    "df = pd.DataFrame({'Fecha': crimenes_por_fecha.index, 'Numero de delitos': crimenes_por_fecha.values})\n",
    "\n",
    "# Crear el gráfico interactivo\n",
    "fig = px.bar(df, x='Fecha', y='Numero de delitos', title='Número de delitos por fecha cuando no hay partido')\n",
    "\n",
    "# Configurar el layout\n",
    "fig.update_layout(xaxis_title='Fecha', yaxis_title='Número de delitos')\n",
    "\n",
    "# Mostrar el gráfico interactivo\n",
    "fig.show()"
   ]
  },
  {
   "cell_type": "markdown",
   "id": "b1831363-5cb5-4eb4-8f39-37cf99d50bbb",
   "metadata": {},
   "source": [
    "#### Juntamos las dos gráficas obtenidas para poder comparar el número de delitos cometidos en días de partido y en días sin partido."
   ]
  },
  {
   "cell_type": "code",
   "execution_count": 929,
   "id": "56dc17a1-207d-41ae-8276-6c8d94e87dba",
   "metadata": {},
   "outputs": [
    {
     "data": {
      "application/vnd.plotly.v1+json": {
       "config": {
        "plotlyServerURL": "https://plot.ly"
       },
       "data": [
        {
         "name": "Número de delitos por fecha cuando no hay partido",
         "type": "bar",
         "x": [
          "2017-10-01",
          "2017-10-02",
          "2017-10-03",
          "2017-10-04",
          "2017-10-05",
          "2017-10-06",
          "2017-10-07",
          "2017-10-08",
          "2017-10-09",
          "2017-10-10",
          "2017-10-11",
          "2017-10-12",
          "2017-10-13",
          "2017-10-14",
          "2017-10-15",
          "2017-10-16",
          "2017-10-17",
          "2017-10-19",
          "2017-10-20",
          "2017-10-21",
          "2017-10-22",
          "2017-10-23",
          "2017-10-25",
          "2017-10-26",
          "2017-10-27",
          "2017-10-28",
          "2017-10-29",
          "2017-10-31",
          "2017-11-02",
          "2017-11-03",
          "2017-11-04",
          "2017-11-05",
          "2017-11-06",
          "2017-11-07",
          "2017-11-09",
          "2017-11-11",
          "2017-11-13",
          "2017-11-14",
          "2017-11-15",
          "2017-11-17",
          "2017-11-18",
          "2017-11-19",
          "2017-11-20",
          "2017-11-21",
          "2017-11-22",
          "2017-11-23",
          "2017-11-25",
          "2017-11-26",
          "2017-11-28",
          "2017-11-29",
          "2017-12-01",
          "2017-12-03",
          "2017-12-05",
          "2017-12-07",
          "2017-12-08",
          "2017-12-09",
          "2017-12-10",
          "2017-12-11",
          "2017-12-12",
          "2017-12-14",
          "2017-12-16",
          "2017-12-17",
          "2017-12-18",
          "2017-12-19",
          "2017-12-21",
          "2017-12-22",
          "2017-12-24",
          "2017-12-26",
          "2017-12-27",
          "2017-12-29",
          "2017-12-30",
          "2018-01-01",
          "2018-01-02",
          "2018-01-04",
          "2018-01-06",
          "2018-01-07",
          "2018-01-08",
          "2018-01-09",
          "2018-01-10",
          "2018-01-11",
          "2018-01-12",
          "2018-01-13",
          "2018-01-14",
          "2018-01-15",
          "2018-01-17",
          "2018-01-19",
          "2018-01-20",
          "2018-01-22",
          "2018-01-23",
          "2018-01-24",
          "2018-01-25",
          "2018-01-26",
          "2018-01-27",
          "2018-01-28",
          "2018-01-29",
          "2018-01-30",
          "2018-02-01",
          "2018-02-03",
          "2018-02-05",
          "2018-02-06",
          "2018-02-07",
          "2018-02-08",
          "2018-02-10",
          "2018-02-12",
          "2018-02-13",
          "2018-02-15",
          "2018-02-16",
          "2018-02-17",
          "2018-02-18",
          "2018-02-19",
          "2018-02-20",
          "2018-02-21",
          "2018-02-22",
          "2018-02-23",
          "2018-02-24",
          "2018-02-25",
          "2018-02-27",
          "2018-03-01",
          "2018-03-02",
          "2018-03-03",
          "2018-03-04",
          "2018-03-05",
          "2018-03-06",
          "2018-03-07",
          "2018-03-08",
          "2018-03-09",
          "2018-03-10",
          "2018-03-12",
          "2018-03-13",
          "2018-03-15",
          "2018-03-16",
          "2018-03-17",
          "2018-03-18",
          "2018-03-19",
          "2018-03-21",
          "2018-03-22",
          "2018-03-23",
          "2018-03-24",
          "2018-03-25",
          "2018-03-26",
          "2018-03-27",
          "2018-03-28",
          "2018-03-29",
          "2018-03-30"
         ],
         "xaxis": "x",
         "y": [
          38,
          35,
          37,
          34,
          31,
          30,
          33,
          39,
          22,
          28,
          28,
          34,
          30,
          36,
          34,
          39,
          18,
          37,
          35,
          40,
          34,
          37,
          30,
          29,
          30,
          36,
          31,
          26,
          33,
          34,
          42,
          45,
          32,
          33,
          36,
          25,
          23,
          25,
          24,
          29,
          33,
          29,
          23,
          28,
          25,
          14,
          30,
          29,
          37,
          30,
          37,
          32,
          24,
          32,
          39,
          29,
          27,
          27,
          37,
          26,
          34,
          25,
          18,
          32,
          31,
          30,
          21,
          16,
          32,
          24,
          22,
          34,
          18,
          13,
          33,
          25,
          29,
          38,
          35,
          30,
          35,
          26,
          25,
          27,
          29,
          33,
          15,
          30,
          24,
          24,
          30,
          24,
          34,
          27,
          27,
          23,
          27,
          26,
          19,
          22,
          12,
          40,
          32,
          30,
          17,
          45,
          43,
          23,
          16,
          22,
          31,
          33,
          18,
          32,
          31,
          24,
          39,
          30,
          22,
          20,
          31,
          13,
          47,
          37,
          24,
          19,
          44,
          26,
          10,
          25,
          29,
          51,
          31,
          20,
          19,
          18,
          31,
          20,
          40,
          28,
          29,
          34,
          23,
          29
         ],
         "yaxis": "y"
        },
        {
         "name": "Número de delitos por fecha en dia de partido",
         "type": "bar",
         "x": [
          "2017-10-18",
          "2017-10-24",
          "2017-10-30",
          "2017-11-01",
          "2017-11-08",
          "2017-11-10",
          "2017-11-12",
          "2017-11-16",
          "2017-11-24",
          "2017-11-27",
          "2017-11-30",
          "2017-12-02",
          "2017-12-04",
          "2017-12-06",
          "2017-12-13",
          "2017-12-15",
          "2017-12-20",
          "2017-12-23",
          "2017-12-25",
          "2017-12-28",
          "2017-12-31",
          "2018-01-03",
          "2018-01-05",
          "2018-01-16",
          "2018-01-18",
          "2018-01-21",
          "2018-01-31",
          "2018-02-02",
          "2018-02-04",
          "2018-02-09",
          "2018-02-11",
          "2018-02-14",
          "2018-02-26",
          "2018-02-28",
          "2018-03-11",
          "2018-03-14",
          "2018-03-20",
          "2018-03-31"
         ],
         "xaxis": "x2",
         "y": [
          33,
          40,
          43,
          23,
          21,
          63,
          17,
          37,
          25,
          26,
          51,
          29,
          33,
          26,
          26,
          31,
          41,
          28,
          6,
          26,
          33,
          39,
          20,
          39,
          21,
          33,
          13,
          27,
          30,
          22,
          34,
          39,
          35,
          25,
          22,
          13,
          21,
          50
         ],
         "yaxis": "y2"
        }
       ],
       "layout": {
        "height": 800,
        "legend": {
         "orientation": "h",
         "x": 0.5,
         "xanchor": "right",
         "y": 1.02,
         "yanchor": "bottom"
        },
        "template": {
         "data": {
          "bar": [
           {
            "error_x": {
             "color": "#2a3f5f"
            },
            "error_y": {
             "color": "#2a3f5f"
            },
            "marker": {
             "line": {
              "color": "#E5ECF6",
              "width": 0.5
             },
             "pattern": {
              "fillmode": "overlay",
              "size": 10,
              "solidity": 0.2
             }
            },
            "type": "bar"
           }
          ],
          "barpolar": [
           {
            "marker": {
             "line": {
              "color": "#E5ECF6",
              "width": 0.5
             },
             "pattern": {
              "fillmode": "overlay",
              "size": 10,
              "solidity": 0.2
             }
            },
            "type": "barpolar"
           }
          ],
          "carpet": [
           {
            "aaxis": {
             "endlinecolor": "#2a3f5f",
             "gridcolor": "white",
             "linecolor": "white",
             "minorgridcolor": "white",
             "startlinecolor": "#2a3f5f"
            },
            "baxis": {
             "endlinecolor": "#2a3f5f",
             "gridcolor": "white",
             "linecolor": "white",
             "minorgridcolor": "white",
             "startlinecolor": "#2a3f5f"
            },
            "type": "carpet"
           }
          ],
          "choropleth": [
           {
            "colorbar": {
             "outlinewidth": 0,
             "ticks": ""
            },
            "type": "choropleth"
           }
          ],
          "contour": [
           {
            "colorbar": {
             "outlinewidth": 0,
             "ticks": ""
            },
            "colorscale": [
             [
              0,
              "#0d0887"
             ],
             [
              0.1111111111111111,
              "#46039f"
             ],
             [
              0.2222222222222222,
              "#7201a8"
             ],
             [
              0.3333333333333333,
              "#9c179e"
             ],
             [
              0.4444444444444444,
              "#bd3786"
             ],
             [
              0.5555555555555556,
              "#d8576b"
             ],
             [
              0.6666666666666666,
              "#ed7953"
             ],
             [
              0.7777777777777778,
              "#fb9f3a"
             ],
             [
              0.8888888888888888,
              "#fdca26"
             ],
             [
              1,
              "#f0f921"
             ]
            ],
            "type": "contour"
           }
          ],
          "contourcarpet": [
           {
            "colorbar": {
             "outlinewidth": 0,
             "ticks": ""
            },
            "type": "contourcarpet"
           }
          ],
          "heatmap": [
           {
            "colorbar": {
             "outlinewidth": 0,
             "ticks": ""
            },
            "colorscale": [
             [
              0,
              "#0d0887"
             ],
             [
              0.1111111111111111,
              "#46039f"
             ],
             [
              0.2222222222222222,
              "#7201a8"
             ],
             [
              0.3333333333333333,
              "#9c179e"
             ],
             [
              0.4444444444444444,
              "#bd3786"
             ],
             [
              0.5555555555555556,
              "#d8576b"
             ],
             [
              0.6666666666666666,
              "#ed7953"
             ],
             [
              0.7777777777777778,
              "#fb9f3a"
             ],
             [
              0.8888888888888888,
              "#fdca26"
             ],
             [
              1,
              "#f0f921"
             ]
            ],
            "type": "heatmap"
           }
          ],
          "heatmapgl": [
           {
            "colorbar": {
             "outlinewidth": 0,
             "ticks": ""
            },
            "colorscale": [
             [
              0,
              "#0d0887"
             ],
             [
              0.1111111111111111,
              "#46039f"
             ],
             [
              0.2222222222222222,
              "#7201a8"
             ],
             [
              0.3333333333333333,
              "#9c179e"
             ],
             [
              0.4444444444444444,
              "#bd3786"
             ],
             [
              0.5555555555555556,
              "#d8576b"
             ],
             [
              0.6666666666666666,
              "#ed7953"
             ],
             [
              0.7777777777777778,
              "#fb9f3a"
             ],
             [
              0.8888888888888888,
              "#fdca26"
             ],
             [
              1,
              "#f0f921"
             ]
            ],
            "type": "heatmapgl"
           }
          ],
          "histogram": [
           {
            "marker": {
             "pattern": {
              "fillmode": "overlay",
              "size": 10,
              "solidity": 0.2
             }
            },
            "type": "histogram"
           }
          ],
          "histogram2d": [
           {
            "colorbar": {
             "outlinewidth": 0,
             "ticks": ""
            },
            "colorscale": [
             [
              0,
              "#0d0887"
             ],
             [
              0.1111111111111111,
              "#46039f"
             ],
             [
              0.2222222222222222,
              "#7201a8"
             ],
             [
              0.3333333333333333,
              "#9c179e"
             ],
             [
              0.4444444444444444,
              "#bd3786"
             ],
             [
              0.5555555555555556,
              "#d8576b"
             ],
             [
              0.6666666666666666,
              "#ed7953"
             ],
             [
              0.7777777777777778,
              "#fb9f3a"
             ],
             [
              0.8888888888888888,
              "#fdca26"
             ],
             [
              1,
              "#f0f921"
             ]
            ],
            "type": "histogram2d"
           }
          ],
          "histogram2dcontour": [
           {
            "colorbar": {
             "outlinewidth": 0,
             "ticks": ""
            },
            "colorscale": [
             [
              0,
              "#0d0887"
             ],
             [
              0.1111111111111111,
              "#46039f"
             ],
             [
              0.2222222222222222,
              "#7201a8"
             ],
             [
              0.3333333333333333,
              "#9c179e"
             ],
             [
              0.4444444444444444,
              "#bd3786"
             ],
             [
              0.5555555555555556,
              "#d8576b"
             ],
             [
              0.6666666666666666,
              "#ed7953"
             ],
             [
              0.7777777777777778,
              "#fb9f3a"
             ],
             [
              0.8888888888888888,
              "#fdca26"
             ],
             [
              1,
              "#f0f921"
             ]
            ],
            "type": "histogram2dcontour"
           }
          ],
          "mesh3d": [
           {
            "colorbar": {
             "outlinewidth": 0,
             "ticks": ""
            },
            "type": "mesh3d"
           }
          ],
          "parcoords": [
           {
            "line": {
             "colorbar": {
              "outlinewidth": 0,
              "ticks": ""
             }
            },
            "type": "parcoords"
           }
          ],
          "pie": [
           {
            "automargin": true,
            "type": "pie"
           }
          ],
          "scatter": [
           {
            "fillpattern": {
             "fillmode": "overlay",
             "size": 10,
             "solidity": 0.2
            },
            "type": "scatter"
           }
          ],
          "scatter3d": [
           {
            "line": {
             "colorbar": {
              "outlinewidth": 0,
              "ticks": ""
             }
            },
            "marker": {
             "colorbar": {
              "outlinewidth": 0,
              "ticks": ""
             }
            },
            "type": "scatter3d"
           }
          ],
          "scattercarpet": [
           {
            "marker": {
             "colorbar": {
              "outlinewidth": 0,
              "ticks": ""
             }
            },
            "type": "scattercarpet"
           }
          ],
          "scattergeo": [
           {
            "marker": {
             "colorbar": {
              "outlinewidth": 0,
              "ticks": ""
             }
            },
            "type": "scattergeo"
           }
          ],
          "scattergl": [
           {
            "marker": {
             "colorbar": {
              "outlinewidth": 0,
              "ticks": ""
             }
            },
            "type": "scattergl"
           }
          ],
          "scattermapbox": [
           {
            "marker": {
             "colorbar": {
              "outlinewidth": 0,
              "ticks": ""
             }
            },
            "type": "scattermapbox"
           }
          ],
          "scatterpolar": [
           {
            "marker": {
             "colorbar": {
              "outlinewidth": 0,
              "ticks": ""
             }
            },
            "type": "scatterpolar"
           }
          ],
          "scatterpolargl": [
           {
            "marker": {
             "colorbar": {
              "outlinewidth": 0,
              "ticks": ""
             }
            },
            "type": "scatterpolargl"
           }
          ],
          "scatterternary": [
           {
            "marker": {
             "colorbar": {
              "outlinewidth": 0,
              "ticks": ""
             }
            },
            "type": "scatterternary"
           }
          ],
          "surface": [
           {
            "colorbar": {
             "outlinewidth": 0,
             "ticks": ""
            },
            "colorscale": [
             [
              0,
              "#0d0887"
             ],
             [
              0.1111111111111111,
              "#46039f"
             ],
             [
              0.2222222222222222,
              "#7201a8"
             ],
             [
              0.3333333333333333,
              "#9c179e"
             ],
             [
              0.4444444444444444,
              "#bd3786"
             ],
             [
              0.5555555555555556,
              "#d8576b"
             ],
             [
              0.6666666666666666,
              "#ed7953"
             ],
             [
              0.7777777777777778,
              "#fb9f3a"
             ],
             [
              0.8888888888888888,
              "#fdca26"
             ],
             [
              1,
              "#f0f921"
             ]
            ],
            "type": "surface"
           }
          ],
          "table": [
           {
            "cells": {
             "fill": {
              "color": "#EBF0F8"
             },
             "line": {
              "color": "white"
             }
            },
            "header": {
             "fill": {
              "color": "#C8D4E3"
             },
             "line": {
              "color": "white"
             }
            },
            "type": "table"
           }
          ]
         },
         "layout": {
          "annotationdefaults": {
           "arrowcolor": "#2a3f5f",
           "arrowhead": 0,
           "arrowwidth": 1
          },
          "autotypenumbers": "strict",
          "coloraxis": {
           "colorbar": {
            "outlinewidth": 0,
            "ticks": ""
           }
          },
          "colorscale": {
           "diverging": [
            [
             0,
             "#8e0152"
            ],
            [
             0.1,
             "#c51b7d"
            ],
            [
             0.2,
             "#de77ae"
            ],
            [
             0.3,
             "#f1b6da"
            ],
            [
             0.4,
             "#fde0ef"
            ],
            [
             0.5,
             "#f7f7f7"
            ],
            [
             0.6,
             "#e6f5d0"
            ],
            [
             0.7,
             "#b8e186"
            ],
            [
             0.8,
             "#7fbc41"
            ],
            [
             0.9,
             "#4d9221"
            ],
            [
             1,
             "#276419"
            ]
           ],
           "sequential": [
            [
             0,
             "#0d0887"
            ],
            [
             0.1111111111111111,
             "#46039f"
            ],
            [
             0.2222222222222222,
             "#7201a8"
            ],
            [
             0.3333333333333333,
             "#9c179e"
            ],
            [
             0.4444444444444444,
             "#bd3786"
            ],
            [
             0.5555555555555556,
             "#d8576b"
            ],
            [
             0.6666666666666666,
             "#ed7953"
            ],
            [
             0.7777777777777778,
             "#fb9f3a"
            ],
            [
             0.8888888888888888,
             "#fdca26"
            ],
            [
             1,
             "#f0f921"
            ]
           ],
           "sequentialminus": [
            [
             0,
             "#0d0887"
            ],
            [
             0.1111111111111111,
             "#46039f"
            ],
            [
             0.2222222222222222,
             "#7201a8"
            ],
            [
             0.3333333333333333,
             "#9c179e"
            ],
            [
             0.4444444444444444,
             "#bd3786"
            ],
            [
             0.5555555555555556,
             "#d8576b"
            ],
            [
             0.6666666666666666,
             "#ed7953"
            ],
            [
             0.7777777777777778,
             "#fb9f3a"
            ],
            [
             0.8888888888888888,
             "#fdca26"
            ],
            [
             1,
             "#f0f921"
            ]
           ]
          },
          "colorway": [
           "#636efa",
           "#EF553B",
           "#00cc96",
           "#ab63fa",
           "#FFA15A",
           "#19d3f3",
           "#FF6692",
           "#B6E880",
           "#FF97FF",
           "#FECB52"
          ],
          "font": {
           "color": "#2a3f5f"
          },
          "geo": {
           "bgcolor": "white",
           "lakecolor": "white",
           "landcolor": "#E5ECF6",
           "showlakes": true,
           "showland": true,
           "subunitcolor": "white"
          },
          "hoverlabel": {
           "align": "left"
          },
          "hovermode": "closest",
          "mapbox": {
           "style": "light"
          },
          "paper_bgcolor": "white",
          "plot_bgcolor": "#E5ECF6",
          "polar": {
           "angularaxis": {
            "gridcolor": "white",
            "linecolor": "white",
            "ticks": ""
           },
           "bgcolor": "#E5ECF6",
           "radialaxis": {
            "gridcolor": "white",
            "linecolor": "white",
            "ticks": ""
           }
          },
          "scene": {
           "xaxis": {
            "backgroundcolor": "#E5ECF6",
            "gridcolor": "white",
            "gridwidth": 2,
            "linecolor": "white",
            "showbackground": true,
            "ticks": "",
            "zerolinecolor": "white"
           },
           "yaxis": {
            "backgroundcolor": "#E5ECF6",
            "gridcolor": "white",
            "gridwidth": 2,
            "linecolor": "white",
            "showbackground": true,
            "ticks": "",
            "zerolinecolor": "white"
           },
           "zaxis": {
            "backgroundcolor": "#E5ECF6",
            "gridcolor": "white",
            "gridwidth": 2,
            "linecolor": "white",
            "showbackground": true,
            "ticks": "",
            "zerolinecolor": "white"
           }
          },
          "shapedefaults": {
           "line": {
            "color": "#2a3f5f"
           }
          },
          "ternary": {
           "aaxis": {
            "gridcolor": "white",
            "linecolor": "white",
            "ticks": ""
           },
           "baxis": {
            "gridcolor": "white",
            "linecolor": "white",
            "ticks": ""
           },
           "bgcolor": "#E5ECF6",
           "caxis": {
            "gridcolor": "white",
            "linecolor": "white",
            "ticks": ""
           }
          },
          "title": {
           "x": 0.05
          },
          "xaxis": {
           "automargin": true,
           "gridcolor": "white",
           "linecolor": "white",
           "ticks": "",
           "title": {
            "standoff": 15
           },
           "zerolinecolor": "white",
           "zerolinewidth": 2
          },
          "yaxis": {
           "automargin": true,
           "gridcolor": "white",
           "linecolor": "white",
           "ticks": "",
           "title": {
            "standoff": 15
           },
           "zerolinecolor": "white",
           "zerolinewidth": 2
          }
         }
        },
        "title": {
         "text": "Comparación del número de delitos por fecha entre días con y sin partido"
        },
        "width": 1000,
        "xaxis": {
         "anchor": "y",
         "autorange": true,
         "domain": [
          0,
          1
         ],
         "matches": "x2",
         "range": [
          "2017-09-30 12:00",
          "2018-04-01"
         ],
         "showticklabels": false,
         "title": {
          "text": "Fecha"
         },
         "type": "date"
        },
        "xaxis2": {
         "anchor": "y2",
         "autorange": true,
         "domain": [
          0,
          1
         ],
         "range": [
          "2017-09-30 12:00",
          "2018-04-01"
         ],
         "title": {
          "text": "Fecha"
         },
         "type": "date"
        },
        "yaxis": {
         "anchor": "x",
         "domain": [
          0.6000000000000001,
          1
         ],
         "range": [
          0,
          55
         ],
         "title": {
          "text": "Número de delito"
         },
         "type": "linear"
        },
        "yaxis2": {
         "anchor": "x2",
         "domain": [
          0,
          0.4
         ],
         "range": [
          0,
          70
         ],
         "title": {
          "text": "Número de delitos"
         },
         "type": "linear"
        }
       }
      },
      "image/png": "[encoded data removed]",
      "text/html": [
       "<div>                            <div id=\"1bceecbc-cd92-4fbf-aa88-06a410df503f\" class=\"plotly-graph-div\" style=\"height:800px; width:1000px;\"></div>            <script type=\"text/javascript\">                require([\"plotly\"], function(Plotly) {                    window.PLOTLYENV=window.PLOTLYENV || {};                                    if (document.getElementById(\"1bceecbc-cd92-4fbf-aa88-06a410df503f\")) {                    Plotly.newPlot(                        \"1bceecbc-cd92-4fbf-aa88-06a410df503f\",                        [{\"name\":\"N\\u00famero de delitos por fecha cuando no hay partido\",\"x\":[\"2017-10-01\",\"2017-10-02\",\"2017-10-03\",\"2017-10-04\",\"2017-10-05\",\"2017-10-06\",\"2017-10-07\",\"2017-10-08\",\"2017-10-09\",\"2017-10-10\",\"2017-10-11\",\"2017-10-12\",\"2017-10-13\",\"2017-10-14\",\"2017-10-15\",\"2017-10-16\",\"2017-10-17\",\"2017-10-19\",\"2017-10-20\",\"2017-10-21\",\"2017-10-22\",\"2017-10-23\",\"2017-10-25\",\"2017-10-26\",\"2017-10-27\",\"2017-10-28\",\"2017-10-29\",\"2017-10-31\",\"2017-11-02\",\"2017-11-03\",\"2017-11-04\",\"2017-11-05\",\"2017-11-06\",\"2017-11-07\",\"2017-11-09\",\"2017-11-11\",\"2017-11-13\",\"2017-11-14\",\"2017-11-15\",\"2017-11-17\",\"2017-11-18\",\"2017-11-19\",\"2017-11-20\",\"2017-11-21\",\"2017-11-22\",\"2017-11-23\",\"2017-11-25\",\"2017-11-26\",\"2017-11-28\",\"2017-11-29\",\"2017-12-01\",\"2017-12-03\",\"2017-12-05\",\"2017-12-07\",\"2017-12-08\",\"2017-12-09\",\"2017-12-10\",\"2017-12-11\",\"2017-12-12\",\"2017-12-14\",\"2017-12-16\",\"2017-12-17\",\"2017-12-18\",\"2017-12-19\",\"2017-12-21\",\"2017-12-22\",\"2017-12-24\",\"2017-12-26\",\"2017-12-27\",\"2017-12-29\",\"2017-12-30\",\"2018-01-01\",\"2018-01-02\",\"2018-01-04\",\"2018-01-06\",\"2018-01-07\",\"2018-01-08\",\"2018-01-09\",\"2018-01-10\",\"2018-01-11\",\"2018-01-12\",\"2018-01-13\",\"2018-01-14\",\"2018-01-15\",\"2018-01-17\",\"2018-01-19\",\"2018-01-20\",\"2018-01-22\",\"2018-01-23\",\"2018-01-24\",\"2018-01-25\",\"2018-01-26\",\"2018-01-27\",\"2018-01-28\",\"2018-01-29\",\"2018-01-30\",\"2018-02-01\",\"2018-02-03\",\"2018-02-05\",\"2018-02-06\",\"2018-02-07\",\"2018-02-08\",\"2018-02-10\",\"2018-02-12\",\"2018-02-13\",\"2018-02-15\",\"2018-02-16\",\"2018-02-17\",\"2018-02-18\",\"2018-02-19\",\"2018-02-20\",\"2018-02-21\",\"2018-02-22\",\"2018-02-23\",\"2018-02-24\",\"2018-02-25\",\"2018-02-27\",\"2018-03-01\",\"2018-03-02\",\"2018-03-03\",\"2018-03-04\",\"2018-03-05\",\"2018-03-06\",\"2018-03-07\",\"2018-03-08\",\"2018-03-09\",\"2018-03-10\",\"2018-03-12\",\"2018-03-13\",\"2018-03-15\",\"2018-03-16\",\"2018-03-17\",\"2018-03-18\",\"2018-03-19\",\"2018-03-21\",\"2018-03-22\",\"2018-03-23\",\"2018-03-24\",\"2018-03-25\",\"2018-03-26\",\"2018-03-27\",\"2018-03-28\",\"2018-03-29\",\"2018-03-30\"],\"y\":[38,35,37,34,31,30,33,39,22,28,28,34,30,36,34,39,18,37,35,40,34,37,30,29,30,36,31,26,33,34,42,45,32,33,36,25,23,25,24,29,33,29,23,28,25,14,30,29,37,30,37,32,24,32,39,29,27,27,37,26,34,25,18,32,31,30,21,16,32,24,22,34,18,13,33,25,29,38,35,30,35,26,25,27,29,33,15,30,24,24,30,24,34,27,27,23,27,26,19,22,12,40,32,30,17,45,43,23,16,22,31,33,18,32,31,24,39,30,22,20,31,13,47,37,24,19,44,26,10,25,29,51,31,20,19,18,31,20,40,28,29,34,23,29],\"type\":\"bar\",\"xaxis\":\"x\",\"yaxis\":\"y\"},{\"name\":\"N\\u00famero de delitos por fecha en dia de partido\",\"x\":[\"2017-10-18\",\"2017-10-24\",\"2017-10-30\",\"2017-11-01\",\"2017-11-08\",\"2017-11-10\",\"2017-11-12\",\"2017-11-16\",\"2017-11-24\",\"2017-11-27\",\"2017-11-30\",\"2017-12-02\",\"2017-12-04\",\"2017-12-06\",\"2017-12-13\",\"2017-12-15\",\"2017-12-20\",\"2017-12-23\",\"2017-12-25\",\"2017-12-28\",\"2017-12-31\",\"2018-01-03\",\"2018-01-05\",\"2018-01-16\",\"2018-01-18\",\"2018-01-21\",\"2018-01-31\",\"2018-02-02\",\"2018-02-04\",\"2018-02-09\",\"2018-02-11\",\"2018-02-14\",\"2018-02-26\",\"2018-02-28\",\"2018-03-11\",\"2018-03-14\",\"2018-03-20\",\"2018-03-31\"],\"y\":[33,40,43,23,21,63,17,37,25,26,51,29,33,26,26,31,41,28,6,26,33,39,20,39,21,33,13,27,30,22,34,39,35,25,22,13,21,50],\"type\":\"bar\",\"xaxis\":\"x2\",\"yaxis\":\"y2\"}],                        {\"template\":{\"data\":{\"histogram2dcontour\":[{\"type\":\"histogram2dcontour\",\"colorbar\":{\"outlinewidth\":0,\"ticks\":\"\"},\"colorscale\":[[0.0,\"#0d0887\"],[0.1111111111111111,\"#46039f\"],[0.2222222222222222,\"#7201a8\"],[0.3333333333333333,\"#9c179e\"],[0.4444444444444444,\"#bd3786\"],[0.5555555555555556,\"#d8576b\"],[0.6666666666666666,\"#ed7953\"],[0.7777777777777778,\"#fb9f3a\"],[0.8888888888888888,\"#fdca26\"],[1.0,\"#f0f921\"]]}],\"choropleth\":[{\"type\":\"choropleth\",\"colorbar\":{\"outlinewidth\":0,\"ticks\":\"\"}}],\"histogram2d\":[{\"type\":\"histogram2d\",\"colorbar\":{\"outlinewidth\":0,\"ticks\":\"\"},\"colorscale\":[[0.0,\"#0d0887\"],[0.1111111111111111,\"#46039f\"],[0.2222222222222222,\"#7201a8\"],[0.3333333333333333,\"#9c179e\"],[0.4444444444444444,\"#bd3786\"],[0.5555555555555556,\"#d8576b\"],[0.6666666666666666,\"#ed7953\"],[0.7777777777777778,\"#fb9f3a\"],[0.8888888888888888,\"#fdca26\"],[1.0,\"#f0f921\"]]}],\"heatmap\":[{\"type\":\"heatmap\",\"colorbar\":{\"outlinewidth\":0,\"ticks\":\"\"},\"colorscale\":[[0.0,\"#0d0887\"],[0.1111111111111111,\"#46039f\"],[0.2222222222222222,\"#7201a8\"],[0.3333333333333333,\"#9c179e\"],[0.4444444444444444,\"#bd3786\"],[0.5555555555555556,\"#d8576b\"],[0.6666666666666666,\"#ed7953\"],[0.7777777777777778,\"#fb9f3a\"],[0.8888888888888888,\"#fdca26\"],[1.0,\"#f0f921\"]]}],\"heatmapgl\":[{\"type\":\"heatmapgl\",\"colorbar\":{\"outlinewidth\":0,\"ticks\":\"\"},\"colorscale\":[[0.0,\"#0d0887\"],[0.1111111111111111,\"#46039f\"],[0.2222222222222222,\"#7201a8\"],[0.3333333333333333,\"#9c179e\"],[0.4444444444444444,\"#bd3786\"],[0.5555555555555556,\"#d8576b\"],[0.6666666666666666,\"#ed7953\"],[0.7777777777777778,\"#fb9f3a\"],[0.8888888888888888,\"#fdca26\"],[1.0,\"#f0f921\"]]}],\"contourcarpet\":[{\"type\":\"contourcarpet\",\"colorbar\":{\"outlinewidth\":0,\"ticks\":\"\"}}],\"contour\":[{\"type\":\"contour\",\"colorbar\":{\"outlinewidth\":0,\"ticks\":\"\"},\"colorscale\":[[0.0,\"#0d0887\"],[0.1111111111111111,\"#46039f\"],[0.2222222222222222,\"#7201a8\"],[0.3333333333333333,\"#9c179e\"],[0.4444444444444444,\"#bd3786\"],[0.5555555555555556,\"#d8576b\"],[0.6666666666666666,\"#ed7953\"],[0.7777777777777778,\"#fb9f3a\"],[0.8888888888888888,\"#fdca26\"],[1.0,\"#f0f921\"]]}],\"surface\":[{\"type\":\"surface\",\"colorbar\":{\"outlinewidth\":0,\"ticks\":\"\"},\"colorscale\":[[0.0,\"#0d0887\"],[0.1111111111111111,\"#46039f\"],[0.2222222222222222,\"#7201a8\"],[0.3333333333333333,\"#9c179e\"],[0.4444444444444444,\"#bd3786\"],[0.5555555555555556,\"#d8576b\"],[0.6666666666666666,\"#ed7953\"],[0.7777777777777778,\"#fb9f3a\"],[0.8888888888888888,\"#fdca26\"],[1.0,\"#f0f921\"]]}],\"mesh3d\":[{\"type\":\"mesh3d\",\"colorbar\":{\"outlinewidth\":0,\"ticks\":\"\"}}],\"scatter\":[{\"fillpattern\":{\"fillmode\":\"overlay\",\"size\":10,\"solidity\":0.2},\"type\":\"scatter\"}],\"parcoords\":[{\"type\":\"parcoords\",\"line\":{\"colorbar\":{\"outlinewidth\":0,\"ticks\":\"\"}}}],\"scatterpolargl\":[{\"type\":\"scatterpolargl\",\"marker\":{\"colorbar\":{\"outlinewidth\":0,\"ticks\":\"\"}}}],\"bar\":[{\"error_x\":{\"color\":\"#2a3f5f\"},\"error_y\":{\"color\":\"#2a3f5f\"},\"marker\":{\"line\":{\"color\":\"#E5ECF6\",\"width\":0.5},\"pattern\":{\"fillmode\":\"overlay\",\"size\":10,\"solidity\":0.2}},\"type\":\"bar\"}],\"scattergeo\":[{\"type\":\"scattergeo\",\"marker\":{\"colorbar\":{\"outlinewidth\":0,\"ticks\":\"\"}}}],\"scatterpolar\":[{\"type\":\"scatterpolar\",\"marker\":{\"colorbar\":{\"outlinewidth\":0,\"ticks\":\"\"}}}],\"histogram\":[{\"marker\":{\"pattern\":{\"fillmode\":\"overlay\",\"size\":10,\"solidity\":0.2}},\"type\":\"histogram\"}],\"scattergl\":[{\"type\":\"scattergl\",\"marker\":{\"colorbar\":{\"outlinewidth\":0,\"ticks\":\"\"}}}],\"scatter3d\":[{\"type\":\"scatter3d\",\"line\":{\"colorbar\":{\"outlinewidth\":0,\"ticks\":\"\"}},\"marker\":{\"colorbar\":{\"outlinewidth\":0,\"ticks\":\"\"}}}],\"scattermapbox\":[{\"type\":\"scattermapbox\",\"marker\":{\"colorbar\":{\"outlinewidth\":0,\"ticks\":\"\"}}}],\"scatterternary\":[{\"type\":\"scatterternary\",\"marker\":{\"colorbar\":{\"outlinewidth\":0,\"ticks\":\"\"}}}],\"scattercarpet\":[{\"type\":\"scattercarpet\",\"marker\":{\"colorbar\":{\"outlinewidth\":0,\"ticks\":\"\"}}}],\"carpet\":[{\"aaxis\":{\"endlinecolor\":\"#2a3f5f\",\"gridcolor\":\"white\",\"linecolor\":\"white\",\"minorgridcolor\":\"white\",\"startlinecolor\":\"#2a3f5f\"},\"baxis\":{\"endlinecolor\":\"#2a3f5f\",\"gridcolor\":\"white\",\"linecolor\":\"white\",\"minorgridcolor\":\"white\",\"startlinecolor\":\"#2a3f5f\"},\"type\":\"carpet\"}],\"table\":[{\"cells\":{\"fill\":{\"color\":\"#EBF0F8\"},\"line\":{\"color\":\"white\"}},\"header\":{\"fill\":{\"color\":\"#C8D4E3\"},\"line\":{\"color\":\"white\"}},\"type\":\"table\"}],\"barpolar\":[{\"marker\":{\"line\":{\"color\":\"#E5ECF6\",\"width\":0.5},\"pattern\":{\"fillmode\":\"overlay\",\"size\":10,\"solidity\":0.2}},\"type\":\"barpolar\"}],\"pie\":[{\"automargin\":true,\"type\":\"pie\"}]},\"layout\":{\"autotypenumbers\":\"strict\",\"colorway\":[\"#636efa\",\"#EF553B\",\"#00cc96\",\"#ab63fa\",\"#FFA15A\",\"#19d3f3\",\"#FF6692\",\"#B6E880\",\"#FF97FF\",\"#FECB52\"],\"font\":{\"color\":\"#2a3f5f\"},\"hovermode\":\"closest\",\"hoverlabel\":{\"align\":\"left\"},\"paper_bgcolor\":\"white\",\"plot_bgcolor\":\"#E5ECF6\",\"polar\":{\"bgcolor\":\"#E5ECF6\",\"angularaxis\":{\"gridcolor\":\"white\",\"linecolor\":\"white\",\"ticks\":\"\"},\"radialaxis\":{\"gridcolor\":\"white\",\"linecolor\":\"white\",\"ticks\":\"\"}},\"ternary\":{\"bgcolor\":\"#E5ECF6\",\"aaxis\":{\"gridcolor\":\"white\",\"linecolor\":\"white\",\"ticks\":\"\"},\"baxis\":{\"gridcolor\":\"white\",\"linecolor\":\"white\",\"ticks\":\"\"},\"caxis\":{\"gridcolor\":\"white\",\"linecolor\":\"white\",\"ticks\":\"\"}},\"coloraxis\":{\"colorbar\":{\"outlinewidth\":0,\"ticks\":\"\"}},\"colorscale\":{\"sequential\":[[0.0,\"#0d0887\"],[0.1111111111111111,\"#46039f\"],[0.2222222222222222,\"#7201a8\"],[0.3333333333333333,\"#9c179e\"],[0.4444444444444444,\"#bd3786\"],[0.5555555555555556,\"#d8576b\"],[0.6666666666666666,\"#ed7953\"],[0.7777777777777778,\"#fb9f3a\"],[0.8888888888888888,\"#fdca26\"],[1.0,\"#f0f921\"]],\"sequentialminus\":[[0.0,\"#0d0887\"],[0.1111111111111111,\"#46039f\"],[0.2222222222222222,\"#7201a8\"],[0.3333333333333333,\"#9c179e\"],[0.4444444444444444,\"#bd3786\"],[0.5555555555555556,\"#d8576b\"],[0.6666666666666666,\"#ed7953\"],[0.7777777777777778,\"#fb9f3a\"],[0.8888888888888888,\"#fdca26\"],[1.0,\"#f0f921\"]],\"diverging\":[[0,\"#8e0152\"],[0.1,\"#c51b7d\"],[0.2,\"#de77ae\"],[0.3,\"#f1b6da\"],[0.4,\"#fde0ef\"],[0.5,\"#f7f7f7\"],[0.6,\"#e6f5d0\"],[0.7,\"#b8e186\"],[0.8,\"#7fbc41\"],[0.9,\"#4d9221\"],[1,\"#276419\"]]},\"xaxis\":{\"gridcolor\":\"white\",\"linecolor\":\"white\",\"ticks\":\"\",\"title\":{\"standoff\":15},\"zerolinecolor\":\"white\",\"automargin\":true,\"zerolinewidth\":2},\"yaxis\":{\"gridcolor\":\"white\",\"linecolor\":\"white\",\"ticks\":\"\",\"title\":{\"standoff\":15},\"zerolinecolor\":\"white\",\"automargin\":true,\"zerolinewidth\":2},\"scene\":{\"xaxis\":{\"backgroundcolor\":\"#E5ECF6\",\"gridcolor\":\"white\",\"linecolor\":\"white\",\"showbackground\":true,\"ticks\":\"\",\"zerolinecolor\":\"white\",\"gridwidth\":2},\"yaxis\":{\"backgroundcolor\":\"#E5ECF6\",\"gridcolor\":\"white\",\"linecolor\":\"white\",\"showbackground\":true,\"ticks\":\"\",\"zerolinecolor\":\"white\",\"gridwidth\":2},\"zaxis\":{\"backgroundcolor\":\"#E5ECF6\",\"gridcolor\":\"white\",\"linecolor\":\"white\",\"showbackground\":true,\"ticks\":\"\",\"zerolinecolor\":\"white\",\"gridwidth\":2}},\"shapedefaults\":{\"line\":{\"color\":\"#2a3f5f\"}},\"annotationdefaults\":{\"arrowcolor\":\"#2a3f5f\",\"arrowhead\":0,\"arrowwidth\":1},\"geo\":{\"bgcolor\":\"white\",\"landcolor\":\"#E5ECF6\",\"subunitcolor\":\"white\",\"showland\":true,\"showlakes\":true,\"lakecolor\":\"white\"},\"title\":{\"x\":0.05},\"mapbox\":{\"style\":\"light\"}}},\"xaxis\":{\"anchor\":\"y\",\"domain\":[0.0,1.0],\"matches\":\"x2\",\"showticklabels\":false,\"title\":{\"text\":\"Fecha\"}},\"yaxis\":{\"anchor\":\"x\",\"domain\":[0.6000000000000001,1.0],\"title\":{\"text\":\"N\\u00famero de delito\"},\"range\":[0,55]},\"xaxis2\":{\"anchor\":\"y2\",\"domain\":[0.0,1.0],\"title\":{\"text\":\"Fecha\"}},\"yaxis2\":{\"anchor\":\"x2\",\"domain\":[0.0,0.4],\"title\":{\"text\":\"N\\u00famero de delitos\"},\"range\":[0,70]},\"title\":{\"text\":\"Comparaci\\u00f3n del n\\u00famero de delitos por fecha entre d\\u00edas con y sin partido\"},\"legend\":{\"orientation\":\"h\",\"yanchor\":\"bottom\",\"y\":1.02,\"xanchor\":\"right\",\"x\":0.5},\"height\":800,\"width\":1000},                        {\"responsive\": true}                    ).then(function(){\n",
       "                            \n",
       "var gd = document.getElementById('1bceecbc-cd92-4fbf-aa88-06a410df503f');\n",
       "var x = new MutationObserver(function (mutations, observer) {{\n",
       "        var display = window.getComputedStyle(gd).display;\n",
       "        if (!display || display === 'none') {{\n",
       "            console.log([gd, 'removed!']);\n",
       "            Plotly.purge(gd);\n",
       "            observer.disconnect();\n",
       "        }}\n",
       "}});\n",
       "\n",
       "// Listen for the removal of the full notebook cells\n",
       "var notebookContainer = gd.closest('#notebook-container');\n",
       "if (notebookContainer) {{\n",
       "    x.observe(notebookContainer, {childList: true});\n",
       "}}\n",
       "\n",
       "// Listen for the clearing of the current output cell\n",
       "var outputEl = gd.closest('.output');\n",
       "if (outputEl) {{\n",
       "    x.observe(outputEl, {childList: true});\n",
       "}}\n",
       "\n",
       "                        })                };                });            </script>        </div>"
      ]
     },
     "metadata": {},
     "output_type": "display_data"
    }
   ],
   "source": [
    "\n",
    "\n",
    "# Agrupar los datos por fecha y contar el número de delitos\n",
    "crimenes_por_fecha_sin_partido = crimenes_sin_partidos.groupby(crimenes_sin_partidos['OCCURRED_ON_DATE'].dt.date)['OFFENSE_DESCRIPTION'].count()\n",
    "crimenes_por_fecha_con_partido = crimenes_partidos.groupby(crimenes_partidos['OCCURRED_ON_DATE'].dt.date)['OFFENSE_DESCRIPTION'].count()\n",
    "\n",
    "# Crear la figura con dos subplots\n",
    "fig = make_subplots(rows=2, cols=1, shared_xaxes=True, vertical_spacing=0.2)\n",
    "\n",
    "# Trazar la primera gráfica en el primer subplot\n",
    "fig.add_trace(go.Bar(x=crimenes_por_fecha_sin_partido.index, y=crimenes_por_fecha_sin_partido.values, name='Número de delitos por fecha cuando no hay partido'), row=1, col=1)\n",
    "fig.update_xaxes(title_text='Fecha', row=1, col=1)\n",
    "fig.update_yaxes(title_text='Número de delito', range=[0, 55], row=1, col=1)\n",
    "\n",
    "# Trazar la segunda gráfica en el segundo subplot\n",
    "fig.add_trace(go.Bar(x=crimenes_por_fecha_con_partido.index, y=crimenes_por_fecha_con_partido.values, name='Número de delitos por fecha en dia de partido'), row=2, col=1)\n",
    "fig.update_xaxes(title_text='Fecha', row=2, col=1)\n",
    "fig.update_yaxes(title_text='Número de delitos', range=[0, 70], row=2, col=1)\n",
    "\n",
    "# Configurar el título y la leyenda de la figura\n",
    "fig.update_layout(\n",
    "    title_text='Comparación del número de delitos por fecha entre días con y sin partido',\n",
    "    height=800, # Altura de la figura\n",
    "    width=1000, # Ancho de la figura\n",
    "    legend=dict(\n",
    "        orientation=\"h\", # Orientación horizontal de la leyenda\n",
    "        yanchor=\"bottom\", # Anclaje al fondo de la figura\n",
    "        y=1.02, # Posición vertical\n",
    "        xanchor=\"right\", # Anclaje a la derecha de la figura\n",
    "        x=0.5 # Posición horizontal\n",
    "    )\n",
    ")\n",
    "\n",
    "# Mostrar la figura interactiva\n",
    "fig.show()\n"
   ]
  },
  {
   "cell_type": "markdown",
   "id": "fdcce562-bbec-47e0-9df0-8be7f34c5f26",
   "metadata": {},
   "source": [
    "#### Calculamos el promedio de delitos cuando hay partido y cuando no lo hay"
   ]
  },
  {
   "cell_type": "code",
   "execution_count": 930,
   "id": "eaae47f2-e7e7-4fe4-9d63-688292acbb5a",
   "metadata": {},
   "outputs": [
    {
     "name": "stdout",
     "output_type": "stream",
     "text": [
      "Media de delitos en dia que no hay partido: 29.0625\n",
      "Media de delitos en dia que si hay partido: 30.026315789473685\n"
     ]
    }
   ],
   "source": [
    "media_delitos_no_partido = crimenes_por_fecha.mean()\n",
    "media_delitos_partido = crimenes_por_fecha_Partido.mean()\n",
    "print(\"Media de delitos en dia que no hay partido: \" + str(media_delitos_no_partido))\n",
    "print(\"Media de delitos en dia que si hay partido: \" + str(media_delitos_partido))"
   ]
  },
  {
   "cell_type": "markdown",
   "id": "47df9d18-a3d8-4f50-b82c-4261ff24cfdc",
   "metadata": {},
   "source": [
    "### Interpretación\n",
    "Como podemos ver en las gráficas y con las medias de crímenes cuando hay partido y cuando no, los crímenes en la ciudad de Boston, concretamente en el distrito Centro (donde se sitúa el estadio), no aumentan significativamente. Observamos que la media de crímenes en este barrio cuando no hay partido de baloncesto es de 29.06, mientras que cuando sí lo hay, aumenta ligeramente a 30.02. Aunque hay un aumento, no es significativo y las gráficas muestran que son prácticamente idénticas en ambos casos.\n",
    "\n",
    "Es lógico pensar que el crimen podría aumentar durante los días de partido, debido a que hay mucha más gente en la zona y esto puede incrementar la probabilidad de actos de vandalismo u otros tipos de crímenes. Sin embargo, podemos argumentar que durante los días de partido, la policía local del distrito A1 aumenta su número de agentes y los controles de seguridad para evitar que el crimen se dispare. Esto podría explicar por qué no se observa un aumento significativo en los crímenes durante los días de partido en el distrito Centro de Boston.\n",
    "\n",
    "Es importante tener en cuenta que estos resultados se limitan a una ciudad y un distrito específico, por lo que no se pueden generalizar a otras ciudades o regiones y, que los datos que tenemos se limitan a los delitos que han sido reportados y registrados. \n",
    "\n",
    "Es posible que existan delitos que no han sido reportados y, por lo tanto, no están incluidos en el análisis. También es importante considerar que los delitos pueden tener diferentes grados de severidad y, por lo tanto, algunos delitos pueden ser más propensos a ser reportados que otros.\n",
    "\n",
    "En cualquier caso, el análisis de estos datos nos proporciona una perspectiva valiosa sobre la relación entre los eventos deportivos y la criminalidad en Boston. Aunque no parece haber una correlación directa entre los eventos deportivos y el aumento del crimen en la ciudad, esto no significa necesariamente que no exista ninguna relación. Es posible que los eventos deportivos tengan un impacto indirecto en el crimen, como aumentar la concentración de personas en la ciudad o crear oportunidades para la actividad delictiva.\n",
    "\n"
   ]
  },
  {
   "cell_type": "code",
   "execution_count": 931,
   "id": "b57cda1c-bc89-4fee-9e16-68c7f9561060",
   "metadata": {},
   "outputs": [
    {
     "name": "stdout",
     "output_type": "stream",
     "text": [
      "3 dias con mas crimenes en dia de partido:\n",
      "2017-11-10\n",
      "2017-11-30\n",
      "2018-03-31\n"
     ]
    }
   ],
   "source": [
    "# Convertir la columna OCCURRED_ON_DATE a tipo datetime\n",
    "crimenes_partidos['OCCURRED_ON_DATE'] = pd.to_datetime(crimenes_partidos['OCCURRED_ON_DATE'])\n",
    "\n",
    "# Agrupar los delitos por fecha y contar el número de delitos para cada fecha\n",
    "crimenes_por_fecha = crimenes_partidos.groupby(crimenes_partidos['OCCURRED_ON_DATE'].dt.date)['OFFENSE_DESCRIPTION'].count()\n",
    "\n",
    "# Ordenar las fechas de manera descendente según el número de delitos\n",
    "crimenes_por_fecha_ordenados = crimenes_por_fecha.sort_values(ascending=False)\n",
    "\n",
    "# Seleccionar las primeras tres fechas en la lista ordenada\n",
    "top_3_fechas = crimenes_por_fecha_ordenados.index[:3]\n",
    "\n",
    "print(\"3 dias con mas crimenes en dia de partido:\")\n",
    "for fecha in top_3_fechas:\n",
    "    print(fecha)"
   ]
  },
  {
   "cell_type": "code",
   "execution_count": 932,
   "id": "9fe00758-e63e-4577-9ff2-8067e1d3f9af",
   "metadata": {},
   "outputs": [
    {
     "name": "stdout",
     "output_type": "stream",
     "text": [
      "Fecha: 2017-11-10, Numero de delitos: 63\n",
      "Fecha: 2017-11-30, Numero de delitos: 51\n",
      "Fecha: 2018-03-31, Numero de delitos: 50\n"
     ]
    }
   ],
   "source": [
    "# Obtener los índices de los tres días con más delitos\n",
    "top_3_dias = crimenes_por_fecha.nlargest(3).index\n",
    "\n",
    "# Crear un DataFrame con los delitos de los tres días anteriores\n",
    "delitos_top_3_dias = crimenes_partidos[crimenes_partidos['OCCURRED_ON_DATE'].dt.date.isin(top_3_dias)]\n",
    "\n",
    "# Contar el número de delitos por día\n",
    "delitos_por_dia = delitos_top_3_dias.groupby(delitos_top_3_dias['OCCURRED_ON_DATE'].dt.date)['OFFENSE_DESCRIPTION'].count()\n",
    "\n",
    "# Imprimir el número de delitos por día\n",
    "for fecha, num_delitos in delitos_por_dia.iteritems():\n",
    "    print(\"Fecha: \" + str(fecha) + \", Numero de delitos: \" + str(num_delitos))"
   ]
  },
  {
   "cell_type": "markdown",
   "id": "3bc21649-53d5-4db1-bc93-f3949ba2446e",
   "metadata": {},
   "source": [
    "#### Graficamos los 3 dias con mas crimenes en dia de partido, con lineas horizontales para mostrar las medias"
   ]
  },
  {
   "cell_type": "code",
   "execution_count": 933,
   "id": "dd2f0afa-8507-4a20-96b4-efbe2c0419a2",
   "metadata": {},
   "outputs": [
    {
     "data": {
      "image/png": "[encoded data removed]",
      "text/plain": [
       "<Figure size 1000x500 with 1 Axes>"
      ]
     },
     "metadata": {},
     "output_type": "display_data"
    }
   ],
   "source": [
    "\n",
    "# Crear la figura y el subplot\n",
    "fig, ax = plt.subplots(figsize=(10, 5))\n",
    "\n",
    "delitos_por_dia.plot(kind='bar', ax=ax, label='Delitos')\n",
    "ax.axhline(y=media_delitos_partido, color='r', linestyle='--', label='Media de delitos en días de partido')\n",
    "ax.axhline(y=media_delitos_no_partido, color='y', linestyle='--', label='Media de delitos en días sin partido')\n",
    "ax.legend()\n",
    "\n",
    "# Establecer las etiquetas de los ejes y el título\n",
    "ax.set_xlabel('Fecha')\n",
    "ax.set_ylabel('Número de delitos')\n",
    "ax.set_title('3 dias de partido con mas delitos')\n",
    "\n",
    "# Mostrar el gráfico\n",
    "plt.show()\n"
   ]
  },
  {
   "cell_type": "markdown",
   "id": "2106b10b-9763-4259-969d-e124e440b0ba",
   "metadata": {},
   "source": [
    "### Interpretación\n",
    "En la gráfica anterior se puede observar que en algunos días el número de crímenes se duplica. Hemos seleccionado los tres días con mayor número de crímenes y hemos representado su frecuencia en una gráfica para su análisis. Además, se han dibujado dos líneas que muestran las medias de crímenes en días de partido y en días sin partido. Se puede apreciar que los tres días con mayor número de crímenes están claramente por encima de la media tanto en días de partido como en días sin partido. Por lo tanto, el aumento en el crimen no parece estar directamente relacionado con la celebración de eventos deportivos. Es posible que haya otros factores que influyan en estos días específicos, como festividades locales o acontecimientos inesperados en la zona. Sería necesario investigar más para determinar con certeza las causas de este aumento en la criminalidad en esos días específicos.\n"
   ]
  },
  {
   "cell_type": "markdown",
   "id": "bdb95563-773b-40b0-a242-efd156607d62",
   "metadata": {},
   "source": [
    "#### Mostramos los tipos de delito que existen en el dataset "
   ]
  },
  {
   "cell_type": "code",
   "execution_count": 938,
   "id": "c8d6fce1-4f3f-41f2-85a8-6bcb15d49623",
   "metadata": {},
   "outputs": [
    {
     "name": "stdout",
     "output_type": "stream",
     "text": [
      "PROPERTY - LOST\n",
      "M/V ACCIDENT - OTHER\n",
      "HARASSMENT\n",
      "INVESTIGATE PERSON\n",
      "LARCENY THEFT OF BICYCLE\n",
      "AUTO THEFT\n",
      "TOWED MOTOR VEHICLE\n",
      "INVESTIGATE PROPERTY\n",
      "LICENSE PREMISE VIOLATION\n",
      "ASSAULT - AGGRAVATED - BATTERY\n",
      "SICK/INJURED/MEDICAL - PERSON\n",
      "PROPERTY - FOUND\n",
      "ASSAULT SIMPLE - BATTERY\n",
      "VANDALISM\n",
      "TRESPASSING\n",
      "DRUGS - SICK ASSIST - HEROIN\n",
      "VIOLATION - CITY ORDINANCE\n",
      "DRUGS - POSS CLASS B - COCAINE, ETC.\n",
      "LARCENY SHOPLIFTING\n",
      "DRUGS - OTHER\n",
      "VERBAL DISPUTE\n",
      "FRAUD - CREDIT CARD / ATM FRAUD\n",
      "SICK/INJURED/MEDICAL - POLICE\n",
      "NOISY PARTY/RADIO-NO ARREST\n",
      "DANGEROUS OR HAZARDOUS CONDITION\n",
      "BURGLARY - COMMERICAL - NO FORCE\n",
      "DISORDERLY CONDUCT\n",
      "LIQUOR LAW VIOLATION\n"
     ]
    },
    {
     "data": {
      "text/html": [
       "<div>\n",
       "<style scoped>\n",
       "    .dataframe tbody tr th:only-of-type {\n",
       "        vertical-align: middle;\n",
       "    }\n",
       "\n",
       "    .dataframe tbody tr th {\n",
       "        vertical-align: top;\n",
       "    }\n",
       "\n",
       "    .dataframe thead th {\n",
       "        text-align: right;\n",
       "    }\n",
       "</style>\n",
       "<table border=\"1\" class=\"dataframe\">\n",
       "  <thead>\n",
       "    <tr style=\"text-align: right;\">\n",
       "      <th></th>\n",
       "      <th>OCCURRED_ON_DATE</th>\n",
       "      <th>matchup_home</th>\n",
       "      <th>wl_home</th>\n",
       "      <th>YEAR</th>\n",
       "      <th>OFFENSE_DESCRIPTION</th>\n",
       "    </tr>\n",
       "  </thead>\n",
       "  <tbody>\n",
       "    <tr>\n",
       "      <th>160</th>\n",
       "      <td>2017-11-10</td>\n",
       "      <td>BOS vs. CHA</td>\n",
       "      <td>W</td>\n",
       "      <td>2017</td>\n",
       "      <td>PROPERTY - LOST</td>\n",
       "    </tr>\n",
       "    <tr>\n",
       "      <th>161</th>\n",
       "      <td>2017-11-10</td>\n",
       "      <td>BOS vs. CHA</td>\n",
       "      <td>W</td>\n",
       "      <td>2017</td>\n",
       "      <td>PROPERTY - LOST</td>\n",
       "    </tr>\n",
       "    <tr>\n",
       "      <th>162</th>\n",
       "      <td>2017-11-10</td>\n",
       "      <td>BOS vs. CHA</td>\n",
       "      <td>W</td>\n",
       "      <td>2017</td>\n",
       "      <td>M/V ACCIDENT - OTHER</td>\n",
       "    </tr>\n",
       "    <tr>\n",
       "      <th>163</th>\n",
       "      <td>2017-11-10</td>\n",
       "      <td>BOS vs. CHA</td>\n",
       "      <td>W</td>\n",
       "      <td>2017</td>\n",
       "      <td>HARASSMENT</td>\n",
       "    </tr>\n",
       "    <tr>\n",
       "      <th>164</th>\n",
       "      <td>2017-11-10</td>\n",
       "      <td>BOS vs. CHA</td>\n",
       "      <td>W</td>\n",
       "      <td>2017</td>\n",
       "      <td>INVESTIGATE PERSON</td>\n",
       "    </tr>\n",
       "    <tr>\n",
       "      <th>165</th>\n",
       "      <td>2017-11-10</td>\n",
       "      <td>BOS vs. CHA</td>\n",
       "      <td>W</td>\n",
       "      <td>2017</td>\n",
       "      <td>LARCENY THEFT OF BICYCLE</td>\n",
       "    </tr>\n",
       "    <tr>\n",
       "      <th>166</th>\n",
       "      <td>2017-11-10</td>\n",
       "      <td>BOS vs. CHA</td>\n",
       "      <td>W</td>\n",
       "      <td>2017</td>\n",
       "      <td>AUTO THEFT</td>\n",
       "    </tr>\n",
       "    <tr>\n",
       "      <th>167</th>\n",
       "      <td>2017-11-10</td>\n",
       "      <td>BOS vs. CHA</td>\n",
       "      <td>W</td>\n",
       "      <td>2017</td>\n",
       "      <td>TOWED MOTOR VEHICLE</td>\n",
       "    </tr>\n",
       "    <tr>\n",
       "      <th>168</th>\n",
       "      <td>2017-11-10</td>\n",
       "      <td>BOS vs. CHA</td>\n",
       "      <td>W</td>\n",
       "      <td>2017</td>\n",
       "      <td>INVESTIGATE PROPERTY</td>\n",
       "    </tr>\n",
       "    <tr>\n",
       "      <th>169</th>\n",
       "      <td>2017-11-10</td>\n",
       "      <td>BOS vs. CHA</td>\n",
       "      <td>W</td>\n",
       "      <td>2017</td>\n",
       "      <td>PROPERTY - LOST</td>\n",
       "    </tr>\n",
       "  </tbody>\n",
       "</table>\n",
       "</div>"
      ],
      "text/plain": [
       "    OCCURRED_ON_DATE matchup_home wl_home  YEAR       OFFENSE_DESCRIPTION\n",
       "160       2017-11-10  BOS vs. CHA       W  2017           PROPERTY - LOST\n",
       "161       2017-11-10  BOS vs. CHA       W  2017           PROPERTY - LOST\n",
       "162       2017-11-10  BOS vs. CHA       W  2017      M/V ACCIDENT - OTHER\n",
       "163       2017-11-10  BOS vs. CHA       W  2017                HARASSMENT\n",
       "164       2017-11-10  BOS vs. CHA       W  2017        INVESTIGATE PERSON\n",
       "165       2017-11-10  BOS vs. CHA       W  2017  LARCENY THEFT OF BICYCLE\n",
       "166       2017-11-10  BOS vs. CHA       W  2017                AUTO THEFT\n",
       "167       2017-11-10  BOS vs. CHA       W  2017       TOWED MOTOR VEHICLE\n",
       "168       2017-11-10  BOS vs. CHA       W  2017      INVESTIGATE PROPERTY\n",
       "169       2017-11-10  BOS vs. CHA       W  2017           PROPERTY - LOST"
      ]
     },
     "execution_count": 938,
     "metadata": {},
     "output_type": "execute_result"
    }
   ],
   "source": [
    "# Seleccionar la fecha de la primera fila del primer dataset\n",
    "fecha = delitos_por_dia.index[0]\n",
    "\n",
    "# Seleccionar las filas del segundo dataset que coinciden con la fecha\n",
    "merged_fecha = crimenes_partidos[crimenes_partidos['OCCURRED_ON_DATE'].dt.date == fecha]\n",
    "for item in merged_fecha['OFFENSE_DESCRIPTION'].unique():\n",
    "    print(item)\n",
    "# Imprimir las filas\n",
    "merged_fecha.head(10)"
   ]
  },
  {
   "cell_type": "markdown",
   "id": "d2a83d4c-21cd-4b3f-a965-c3a82765922e",
   "metadata": {},
   "source": [
    "#### Quitamos estos delitos: TOWED MOTOR VEHICLE, LARCENY THEFT OF BICYCLE, PROPERTY - FOUND, TRESPASSING, LARCENY SHOPLIFTING, FRAUD - CREDIT CARD / ATM FRAUD, DANGEROUS OR HAZARDOUS CONDITION"
   ]
  },
  {
   "cell_type": "code",
   "execution_count": 935,
   "id": "f0720923-763b-4365-80f4-04faff297f0c",
   "metadata": {},
   "outputs": [
    {
     "data": {
      "text/html": [
       "<div>\n",
       "<style scoped>\n",
       "    .dataframe tbody tr th:only-of-type {\n",
       "        vertical-align: middle;\n",
       "    }\n",
       "\n",
       "    .dataframe tbody tr th {\n",
       "        vertical-align: top;\n",
       "    }\n",
       "\n",
       "    .dataframe thead th {\n",
       "        text-align: right;\n",
       "    }\n",
       "</style>\n",
       "<table border=\"1\" class=\"dataframe\">\n",
       "  <thead>\n",
       "    <tr style=\"text-align: right;\">\n",
       "      <th></th>\n",
       "      <th>OCCURRED_ON_DATE</th>\n",
       "      <th>matchup_home</th>\n",
       "      <th>wl_home</th>\n",
       "      <th>YEAR</th>\n",
       "      <th>OFFENSE_DESCRIPTION</th>\n",
       "    </tr>\n",
       "  </thead>\n",
       "  <tbody>\n",
       "    <tr>\n",
       "      <th>160</th>\n",
       "      <td>2017-11-10</td>\n",
       "      <td>BOS vs. CHA</td>\n",
       "      <td>W</td>\n",
       "      <td>2017</td>\n",
       "      <td>PROPERTY - LOST</td>\n",
       "    </tr>\n",
       "    <tr>\n",
       "      <th>161</th>\n",
       "      <td>2017-11-10</td>\n",
       "      <td>BOS vs. CHA</td>\n",
       "      <td>W</td>\n",
       "      <td>2017</td>\n",
       "      <td>PROPERTY - LOST</td>\n",
       "    </tr>\n",
       "    <tr>\n",
       "      <th>162</th>\n",
       "      <td>2017-11-10</td>\n",
       "      <td>BOS vs. CHA</td>\n",
       "      <td>W</td>\n",
       "      <td>2017</td>\n",
       "      <td>M/V ACCIDENT - OTHER</td>\n",
       "    </tr>\n",
       "    <tr>\n",
       "      <th>163</th>\n",
       "      <td>2017-11-10</td>\n",
       "      <td>BOS vs. CHA</td>\n",
       "      <td>W</td>\n",
       "      <td>2017</td>\n",
       "      <td>HARASSMENT</td>\n",
       "    </tr>\n",
       "    <tr>\n",
       "      <th>164</th>\n",
       "      <td>2017-11-10</td>\n",
       "      <td>BOS vs. CHA</td>\n",
       "      <td>W</td>\n",
       "      <td>2017</td>\n",
       "      <td>INVESTIGATE PERSON</td>\n",
       "    </tr>\n",
       "    <tr>\n",
       "      <th>166</th>\n",
       "      <td>2017-11-10</td>\n",
       "      <td>BOS vs. CHA</td>\n",
       "      <td>W</td>\n",
       "      <td>2017</td>\n",
       "      <td>AUTO THEFT</td>\n",
       "    </tr>\n",
       "    <tr>\n",
       "      <th>168</th>\n",
       "      <td>2017-11-10</td>\n",
       "      <td>BOS vs. CHA</td>\n",
       "      <td>W</td>\n",
       "      <td>2017</td>\n",
       "      <td>INVESTIGATE PROPERTY</td>\n",
       "    </tr>\n",
       "    <tr>\n",
       "      <th>169</th>\n",
       "      <td>2017-11-10</td>\n",
       "      <td>BOS vs. CHA</td>\n",
       "      <td>W</td>\n",
       "      <td>2017</td>\n",
       "      <td>PROPERTY - LOST</td>\n",
       "    </tr>\n",
       "    <tr>\n",
       "      <th>171</th>\n",
       "      <td>2017-11-10</td>\n",
       "      <td>BOS vs. CHA</td>\n",
       "      <td>W</td>\n",
       "      <td>2017</td>\n",
       "      <td>ASSAULT - AGGRAVATED - BATTERY</td>\n",
       "    </tr>\n",
       "    <tr>\n",
       "      <th>172</th>\n",
       "      <td>2017-11-10</td>\n",
       "      <td>BOS vs. CHA</td>\n",
       "      <td>W</td>\n",
       "      <td>2017</td>\n",
       "      <td>SICK/INJURED/MEDICAL - PERSON</td>\n",
       "    </tr>\n",
       "  </tbody>\n",
       "</table>\n",
       "</div>"
      ],
      "text/plain": [
       "    OCCURRED_ON_DATE matchup_home wl_home  YEAR  \\\n",
       "160       2017-11-10  BOS vs. CHA       W  2017   \n",
       "161       2017-11-10  BOS vs. CHA       W  2017   \n",
       "162       2017-11-10  BOS vs. CHA       W  2017   \n",
       "163       2017-11-10  BOS vs. CHA       W  2017   \n",
       "164       2017-11-10  BOS vs. CHA       W  2017   \n",
       "166       2017-11-10  BOS vs. CHA       W  2017   \n",
       "168       2017-11-10  BOS vs. CHA       W  2017   \n",
       "169       2017-11-10  BOS vs. CHA       W  2017   \n",
       "171       2017-11-10  BOS vs. CHA       W  2017   \n",
       "172       2017-11-10  BOS vs. CHA       W  2017   \n",
       "\n",
       "                OFFENSE_DESCRIPTION  \n",
       "160                 PROPERTY - LOST  \n",
       "161                 PROPERTY - LOST  \n",
       "162            M/V ACCIDENT - OTHER  \n",
       "163                      HARASSMENT  \n",
       "164              INVESTIGATE PERSON  \n",
       "166                      AUTO THEFT  \n",
       "168            INVESTIGATE PROPERTY  \n",
       "169                 PROPERTY - LOST  \n",
       "171  ASSAULT - AGGRAVATED - BATTERY  \n",
       "172   SICK/INJURED/MEDICAL - PERSON  "
      ]
     },
     "execution_count": 935,
     "metadata": {},
     "output_type": "execute_result"
    }
   ],
   "source": [
    "crimes_to_remove = ['TOWED MOTOR VEHICLE', 'LARCENY THEFT OF BICYCLE',\n",
    "                    'PROPERTY - FOUND', 'TRESPASSING', 'LARCENY SHOPLIFTING', 'FRAUD - CREDIT CARD / ATM FRAUD',\n",
    "                    'DANGEROUS OR HAZARDOUS CONDITION', 'LICENSE PREMISE VIOLATION']\n",
    "\n",
    "filtered_df = merged_fecha[~merged_fecha['OFFENSE_DESCRIPTION'].isin(crimes_to_remove)]\n",
    "filtered_df.head(10)"
   ]
  },
  {
   "cell_type": "markdown",
   "id": "c9ebc45c-8653-4ecb-8b52-5319428d3ea1",
   "metadata": {},
   "source": [
    "### Interpretación\n",
    "\n",
    "Al eliminar estos delitos, nos enfocamos en aquellos que pueden estar más directamente relacionados con la celebración de eventos deportivos en la ciudad de Boston. Buscamos obtener información más relevante y enfocada para analizar la relación entre los eventos deportivos y el aumento de la criminalidad en Boston.\n",
    "\n",
    "Es posible que los delitos que eliminamos ocurran con más frecuencia, pero no necesariamente tienen una relación directa con los eventos deportivos. Al centrarnos en los delitos restantes, esperamos obtener una imagen más clara y precisa de cómo los eventos deportivos pueden influir en la criminalidad en Boston.\n",
    "\n",
    "Observamos que los delitos que quedan son los que podrían ser más propensos a ocurrir durante un evento deportivo de este tamaño, en este caso, el baloncesto. Sin embargo, parece que hay relativamente pocos delitos, lo que podría deberse al refuerzo policial en Boston para prevenir estos tipos de crímenes durante los eventos deportivos."
   ]
  },
  {
   "cell_type": "markdown",
   "id": "90540002-dedf-4fca-9a83-01b3e95b0208",
   "metadata": {},
   "source": [
    "# Conclusión Final"
   ]
  },
  {
   "cell_type": "markdown",
   "id": "3c3a1d28-c048-470c-8a60-5de886e95e2b",
   "metadata": {},
   "source": [
    "Los datos analizados sugieren que no hay un aumento significativo en los crímenes en el distrito Centro de Boston durante los días de partido de baloncesto. Aunque hay un ligero aumento en la media de crímenes, este no es estadísticamente significativo. También es posible que la presencia policial durante estos eventos tenga un impacto en la prevención de la actividad delictiva.\n",
    "\n",
    "Es importante tener en cuenta que estos resultados se limitan a una ciudad y un distrito específico, y que no se pueden generalizar a otras ciudades o regiones. Además, es posible que existan delitos que no se hayan reportado y, por lo tanto, no se incluyan en el análisis."
   ]
  },
  {
   "cell_type": "code",
   "execution_count": null,
   "id": "581a6df3-32ed-4357-817b-978a69bbb629",
   "metadata": {},
   "outputs": [],
   "source": []
  }
 ],
 "metadata": {
  "kernelspec": {
   "display_name": "Python 3 (ipykernel)",
   "language": "python",
   "name": "python3"
  },
  "language_info": {
   "codemirror_mode": {
    "name": "ipython",
    "version": 3
   },
   "file_extension": ".py",
   "mimetype": "text/x-python",
   "name": "python",
   "nbconvert_exporter": "python",
   "pygments_lexer": "ipython3",
   "version": "3.9.13"
  }
 },
 "nbformat": 4,
 "nbformat_minor": 5
}
