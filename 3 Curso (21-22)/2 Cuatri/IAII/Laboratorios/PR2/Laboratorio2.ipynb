{
 "cells": [
  {
   "cell_type": "code",
   "execution_count": null,
   "id": "24d78814",
   "metadata": {},
   "outputs": [],
   "source": [
    "## Practica 1\n",
    "import tensorflow as tf\n",
    "from tensorflow import keras\n",
    "from tensorflow.keras import layers"
   ]
  },
  {
   "cell_type": "code",
   "execution_count": null,
   "id": "0f5da8ea",
   "metadata": {},
   "outputs": [],
   "source": [
    "layer = layers.Dense(32, activation='relu')\n",
    "inputs = tf.random.uniform(shape=(10, 20))\n",
    "outputs = layer(inputs)"
   ]
  },
  {
   "cell_type": "code",
   "execution_count": null,
   "id": "60b77061-a1f7-444e-8907-4ca8201804d7",
   "metadata": {},
   "outputs": [],
   "source": [
    "print(\"hola\")"
   ]
  },
  {
   "cell_type": "code",
   "execution_count": null,
   "id": "0fdfa757-fe8c-43bf-80ec-72199ec5a086",
   "metadata": {},
   "outputs": [],
   "source": []
  },
  {
   "cell_type": "code",
   "execution_count": null,
   "id": "ee671705-280d-4297-a078-ebc2829b8ee8",
   "metadata": {},
   "outputs": [],
   "source": []
  },
  {
   "cell_type": "code",
   "execution_count": null,
   "id": "e4d87274-aea2-474d-a4a0-9ea558599873",
   "metadata": {},
   "outputs": [],
   "source": []
  }
 ],
 "metadata": {
  "kernelspec": {
   "display_name": "Python 3 (ipykernel)",
   "language": "python",
   "name": "python3"
  },
  "language_info": {
   "codemirror_mode": {
    "name": "ipython",
    "version": 3
   },
   "file_extension": ".py",
   "mimetype": "text/x-python",
   "name": "python",
   "nbconvert_exporter": "python",
   "pygments_lexer": "ipython3",
   "version": "3.9.7"
  }
 },
 "nbformat": 4,
 "nbformat_minor": 5
}
