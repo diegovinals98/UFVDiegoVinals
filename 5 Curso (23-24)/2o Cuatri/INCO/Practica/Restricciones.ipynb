{
  "nbformat": 4,
  "nbformat_minor": 0,
  "metadata": {
    "colab": {
      "provenance": []
    },
    "kernelspec": {
      "name": "python3",
      "display_name": "Python 3"
    },
    "language_info": {
      "name": "python"
    }
  },
  "cells": [
    {
      "cell_type": "markdown",
      "source": [
        "# Algoritmo Con Restricciones\n"
      ],
      "metadata": {
        "id": "HVSrFbdpjp57"
      }
    },
    {
      "cell_type": "markdown",
      "source": [
        "Alumnos:\n",
        "*   Diego Viñals Lage\n",
        "*   Javier Garrido Cobo\n",
        "*   Alejandro Quiroz Coscollano\n",
        "*   Daniel Ojeda Velasco\n",
        "*   Pablo Quétin de la Vega\n",
        "*   Ignacio Tejero Ruiz\n",
        "\n",
        "\n",
        "\n",
        "\n",
        "\n",
        "\n",
        "\n",
        "\n",
        "\n",
        "\n",
        "\n",
        "\n"
      ],
      "metadata": {
        "id": "mgJK_sSajuy6"
      }
    },
    {
      "cell_type": "code",
      "source": [
        "def es_valido(sudoku, fila, col, num):\n",
        "    # Comprueba si un número es válido para una posición dada en el Sudoku.\n",
        "    # Comprueba la fila y la columna para asegurarse de que el número no esté ya presente.\n",
        "    for i in range(9):\n",
        "        if sudoku[fila][i] == num or sudoku[i][col] == num:\n",
        "            return False\n",
        "\n",
        "    # Calcula el inicio del cuadrante 3x3 basándose en la posición de la fila y la columna.\n",
        "    inicio_fila = fila - fila % 3\n",
        "    inicio_col = col - col % 3\n",
        "\n",
        "    # Comprueba el cuadrante 3x3 para asegurarse de que el número no esté ya presente.\n",
        "    for i in range(3):\n",
        "        for j in range(3):\n",
        "            if sudoku[inicio_fila + i][inicio_col + j] == num:\n",
        "                return False\n",
        "\n",
        "    # Si el número no está presente en fila, columna ni cuadrante, es válido.\n",
        "    return True\n",
        "\n",
        "def resolver_sudoku(sudoku):\n",
        "    # Intenta resolver el Sudoku de manera recursiva.\n",
        "    vacia = encontrar_vacia(sudoku)\n",
        "    if not vacia:\n",
        "        return True  # Si no hay casillas vacías, el Sudoku está resuelto.\n",
        "\n",
        "    fila, col = vacia\n",
        "\n",
        "    # Prueba con cada número del 1 al 9 en la casilla vacía.\n",
        "    for num in range(1, 10):\n",
        "        if es_valido(sudoku, fila, col, num):\n",
        "            sudoku[fila][col] = num\n",
        "            # Si el número es válido, intenta resolver el resto del Sudoku.\n",
        "            if resolver_sudoku(sudoku):\n",
        "                return True\n",
        "            sudoku[fila][col] = 0  # Si no es solución, resetea la casilla y prueba con otro número.\n",
        "\n",
        "    return False  # Si ningún número funciona, devuelve False.\n",
        "\n",
        "def encontrar_vacia(sudoku):\n",
        "    # Encuentra la primera casilla vacía en el Sudoku.\n",
        "    for i in range(9):\n",
        "        for j in range(9):\n",
        "            if sudoku[i][j] == 0:  # 0 indica una casilla vacía.\n",
        "                return (i, j)\n",
        "    return None  # Si no hay casillas vacías, devuelve None.\n",
        "\n",
        "def imprimir_sudoku(sudoku):\n",
        "    # Imprime el tablero de Sudoku de manera legible.\n",
        "    for fila in sudoku:\n",
        "        print(\" \".join(str(num) if num != 0 else '.' for num in fila))\n",
        "    print(\"\\n\" + \"-\" * 21 + \"\\n\")\n",
        "\n",
        "# Sudoku inicial para probar el algoritmo\n",
        "sudoku = [\n",
        "    [5, 3, 0, 0, 7, 0, 0, 0, 0],\n",
        "    [6, 0, 0, 1, 9, 5, 0, 0, 0],\n",
        "    [0, 9, 8, 0, 0, 0, 0, 6, 0],\n",
        "    [8, 0, 0, 0, 6, 0, 0, 0, 3],\n",
        "    [4, 0, 0, 8, 0, 3, 0, 0, 1],\n",
        "    [7, 0, 0, 0, 2, 0, 0, 0, 6],\n",
        "    [0, 6, 0, 0, 0, 0, 2, 8, 0],\n",
        "    [0, 0, 0, 4, 1, 9, 0, 0, 5],\n",
        "    [0, 0, 0, 0, 8, 0, 0, 7, 9]\n",
        "]\n",
        "\n",
        "# Inicia la resolución del Sudoku y muestra el resultado.\n",
        "if resolver_sudoku(sudoku):\n",
        "    print(\"Sudoku resuelto:\")\n",
        "    imprimir_sudoku(sudoku)\n",
        "else:\n",
        "    print(\"No se encontró solución\")\n"
      ],
      "metadata": {
        "colab": {
          "base_uri": "https://localhost:8080/"
        },
        "id": "FHovOja0jn62",
        "outputId": "a93bd0e6-a2a4-4711-80b3-b77a729156ad"
      },
      "execution_count": 4,
      "outputs": [
        {
          "output_type": "stream",
          "name": "stdout",
          "text": [
            "Sudoku resuelto:\n",
            "5 3 4 6 7 8 9 1 2\n",
            "6 7 2 1 9 5 3 4 8\n",
            "1 9 8 3 4 2 5 6 7\n",
            "8 5 9 7 6 1 4 2 3\n",
            "4 2 6 8 5 3 7 9 1\n",
            "7 1 3 9 2 4 8 5 6\n",
            "9 6 1 5 3 7 2 8 4\n",
            "2 8 7 4 1 9 6 3 5\n",
            "3 4 5 2 8 6 1 7 9\n",
            "\n",
            "---------------------\n",
            "\n"
          ]
        }
      ]
    }
  ]
}